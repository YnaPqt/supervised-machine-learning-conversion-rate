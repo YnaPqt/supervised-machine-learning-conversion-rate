{
  "cells": [
    {
      "cell_type": "markdown",
      "metadata": {
        "id": "IMycouLyvjzg"
      },
      "source": [
        "<img src=\"data:image/png;base64,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\" alt=\"DSW LOGO\" />"
      ]
    },
    {
      "cell_type": "markdown",
      "metadata": {
        "id": "0eiKSLYG8XvO"
      },
      "source": [
        "# Challenge : predict conversions 🏆🏆"
      ]
    },
    {
      "cell_type": "markdown",
      "metadata": {
        "id": "2GAyYMUJvjzp"
      },
      "source": [
        "# Import libraries"
      ]
    },
    {
      "cell_type": "code",
      "execution_count": 2,
      "metadata": {
        "id": "AGhdl7Bt2xZd"
      },
      "outputs": [],
      "source": [
        "import pandas as pd\n",
        "import numpy as np\n",
        "\n",
        "from sklearn.model_selection import train_test_split\n",
        "from sklearn.impute import SimpleImputer\n",
        "from sklearn.preprocessing import StandardScaler\n",
        "from sklearn.compose import ColumnTransformer\n",
        "from sklearn.linear_model import LogisticRegression\n",
        "from sklearn.metrics import f1_score, confusion_matrix\n",
        "\n",
        "import matplotlib.pyplot as plt\n",
        "import plotly.express as px\n",
        "import plotly.graph_objects as go\n",
        "import plotly.io as pio\n",
        "\n",
        "from IPython.display import display"
      ]
    },
    {
      "cell_type": "markdown",
      "metadata": {
        "id": "LHgro65rxKF7"
      },
      "source": [
        "# Read file with labels"
      ]
    },
    {
      "cell_type": "code",
      "execution_count": 4,
      "metadata": {
        "colab": {
          "base_uri": "https://localhost:8080/"
        },
        "id": "W1AU8AH8u0qd",
        "outputId": "b2fcbc0f-2e0e-4a94-c1e8-f3f3e0b28e95"
      },
      "outputs": [
        {
          "output_type": "stream",
          "name": "stdout",
          "text": [
            "Set with labels (our train+test) : (59203, 6)\n"
          ]
        }
      ],
      "source": [
        "data = pd.read_csv('/content/conversion_data_train.csv')\n",
        "print('Set with labels (our train+test) :', data.shape)"
      ]
    },
    {
      "cell_type": "code",
      "execution_count": 5,
      "metadata": {
        "colab": {
          "base_uri": "https://localhost:8080/",
          "height": 206
        },
        "id": "pRkG2KzMvjzv",
        "outputId": "f44d3789-a17d-4ed8-afd4-0dfbbc690173"
      },
      "outputs": [
        {
          "output_type": "execute_result",
          "data": {
            "text/plain": [
              "   country  age  new_user  source  total_pages_visited  converted\n",
              "0    China   22         1  Direct                    2        0.0\n",
              "1       UK   21         1     Ads                    3        0.0\n",
              "2  Germany   20         0     Seo                   14        1.0\n",
              "3       US   23         1     Seo                    3        0.0\n",
              "4       US   28         1  Direct                    3        0.0"
            ],
            "text/html": [
              "\n",
              "  <div id=\"df-d61fcf7a-bdb9-407b-b484-52ffcb8983ec\" class=\"colab-df-container\">\n",
              "    <div>\n",
              "<style scoped>\n",
              "    .dataframe tbody tr th:only-of-type {\n",
              "        vertical-align: middle;\n",
              "    }\n",
              "\n",
              "    .dataframe tbody tr th {\n",
              "        vertical-align: top;\n",
              "    }\n",
              "\n",
              "    .dataframe thead th {\n",
              "        text-align: right;\n",
              "    }\n",
              "</style>\n",
              "<table border=\"1\" class=\"dataframe\">\n",
              "  <thead>\n",
              "    <tr style=\"text-align: right;\">\n",
              "      <th></th>\n",
              "      <th>country</th>\n",
              "      <th>age</th>\n",
              "      <th>new_user</th>\n",
              "      <th>source</th>\n",
              "      <th>total_pages_visited</th>\n",
              "      <th>converted</th>\n",
              "    </tr>\n",
              "  </thead>\n",
              "  <tbody>\n",
              "    <tr>\n",
              "      <th>0</th>\n",
              "      <td>China</td>\n",
              "      <td>22</td>\n",
              "      <td>1</td>\n",
              "      <td>Direct</td>\n",
              "      <td>2</td>\n",
              "      <td>0.0</td>\n",
              "    </tr>\n",
              "    <tr>\n",
              "      <th>1</th>\n",
              "      <td>UK</td>\n",
              "      <td>21</td>\n",
              "      <td>1</td>\n",
              "      <td>Ads</td>\n",
              "      <td>3</td>\n",
              "      <td>0.0</td>\n",
              "    </tr>\n",
              "    <tr>\n",
              "      <th>2</th>\n",
              "      <td>Germany</td>\n",
              "      <td>20</td>\n",
              "      <td>0</td>\n",
              "      <td>Seo</td>\n",
              "      <td>14</td>\n",
              "      <td>1.0</td>\n",
              "    </tr>\n",
              "    <tr>\n",
              "      <th>3</th>\n",
              "      <td>US</td>\n",
              "      <td>23</td>\n",
              "      <td>1</td>\n",
              "      <td>Seo</td>\n",
              "      <td>3</td>\n",
              "      <td>0.0</td>\n",
              "    </tr>\n",
              "    <tr>\n",
              "      <th>4</th>\n",
              "      <td>US</td>\n",
              "      <td>28</td>\n",
              "      <td>1</td>\n",
              "      <td>Direct</td>\n",
              "      <td>3</td>\n",
              "      <td>0.0</td>\n",
              "    </tr>\n",
              "  </tbody>\n",
              "</table>\n",
              "</div>\n",
              "    <div class=\"colab-df-buttons\">\n",
              "\n",
              "  <div class=\"colab-df-container\">\n",
              "    <button class=\"colab-df-convert\" onclick=\"convertToInteractive('df-d61fcf7a-bdb9-407b-b484-52ffcb8983ec')\"\n",
              "            title=\"Convert this dataframe to an interactive table.\"\n",
              "            style=\"display:none;\">\n",
              "\n",
              "  <svg xmlns=\"http://www.w3.org/2000/svg\" height=\"24px\" viewBox=\"0 -960 960 960\">\n",
              "    <path d=\"M120-120v-720h720v720H120Zm60-500h600v-160H180v160Zm220 220h160v-160H400v160Zm0 220h160v-160H400v160ZM180-400h160v-160H180v160Zm440 0h160v-160H620v160ZM180-180h160v-160H180v160Zm440 0h160v-160H620v160Z\"/>\n",
              "  </svg>\n",
              "    </button>\n",
              "\n",
              "  <style>\n",
              "    .colab-df-container {\n",
              "      display:flex;\n",
              "      gap: 12px;\n",
              "    }\n",
              "\n",
              "    .colab-df-convert {\n",
              "      background-color: #E8F0FE;\n",
              "      border: none;\n",
              "      border-radius: 50%;\n",
              "      cursor: pointer;\n",
              "      display: none;\n",
              "      fill: #1967D2;\n",
              "      height: 32px;\n",
              "      padding: 0 0 0 0;\n",
              "      width: 32px;\n",
              "    }\n",
              "\n",
              "    .colab-df-convert:hover {\n",
              "      background-color: #E2EBFA;\n",
              "      box-shadow: 0px 1px 2px rgba(60, 64, 67, 0.3), 0px 1px 3px 1px rgba(60, 64, 67, 0.15);\n",
              "      fill: #174EA6;\n",
              "    }\n",
              "\n",
              "    .colab-df-buttons div {\n",
              "      margin-bottom: 4px;\n",
              "    }\n",
              "\n",
              "    [theme=dark] .colab-df-convert {\n",
              "      background-color: #3B4455;\n",
              "      fill: #D2E3FC;\n",
              "    }\n",
              "\n",
              "    [theme=dark] .colab-df-convert:hover {\n",
              "      background-color: #434B5C;\n",
              "      box-shadow: 0px 1px 3px 1px rgba(0, 0, 0, 0.15);\n",
              "      filter: drop-shadow(0px 1px 2px rgba(0, 0, 0, 0.3));\n",
              "      fill: #FFFFFF;\n",
              "    }\n",
              "  </style>\n",
              "\n",
              "    <script>\n",
              "      const buttonEl =\n",
              "        document.querySelector('#df-d61fcf7a-bdb9-407b-b484-52ffcb8983ec button.colab-df-convert');\n",
              "      buttonEl.style.display =\n",
              "        google.colab.kernel.accessAllowed ? 'block' : 'none';\n",
              "\n",
              "      async function convertToInteractive(key) {\n",
              "        const element = document.querySelector('#df-d61fcf7a-bdb9-407b-b484-52ffcb8983ec');\n",
              "        const dataTable =\n",
              "          await google.colab.kernel.invokeFunction('convertToInteractive',\n",
              "                                                    [key], {});\n",
              "        if (!dataTable) return;\n",
              "\n",
              "        const docLinkHtml = 'Like what you see? Visit the ' +\n",
              "          '<a target=\"_blank\" href=https://colab.research.google.com/notebooks/data_table.ipynb>data table notebook</a>'\n",
              "          + ' to learn more about interactive tables.';\n",
              "        element.innerHTML = '';\n",
              "        dataTable['output_type'] = 'display_data';\n",
              "        await google.colab.output.renderOutput(dataTable, element);\n",
              "        const docLink = document.createElement('div');\n",
              "        docLink.innerHTML = docLinkHtml;\n",
              "        element.appendChild(docLink);\n",
              "      }\n",
              "    </script>\n",
              "  </div>\n",
              "\n",
              "\n",
              "<div id=\"df-d207dd86-fd1b-4ae9-aae5-a2ee73556a83\">\n",
              "  <button class=\"colab-df-quickchart\" onclick=\"quickchart('df-d207dd86-fd1b-4ae9-aae5-a2ee73556a83')\"\n",
              "            title=\"Suggest charts\"\n",
              "            style=\"display:none;\">\n",
              "\n",
              "<svg xmlns=\"http://www.w3.org/2000/svg\" height=\"24px\"viewBox=\"0 0 24 24\"\n",
              "     width=\"24px\">\n",
              "    <g>\n",
              "        <path d=\"M19 3H5c-1.1 0-2 .9-2 2v14c0 1.1.9 2 2 2h14c1.1 0 2-.9 2-2V5c0-1.1-.9-2-2-2zM9 17H7v-7h2v7zm4 0h-2V7h2v10zm4 0h-2v-4h2v4z\"/>\n",
              "    </g>\n",
              "</svg>\n",
              "  </button>\n",
              "\n",
              "<style>\n",
              "  .colab-df-quickchart {\n",
              "      --bg-color: #E8F0FE;\n",
              "      --fill-color: #1967D2;\n",
              "      --hover-bg-color: #E2EBFA;\n",
              "      --hover-fill-color: #174EA6;\n",
              "      --disabled-fill-color: #AAA;\n",
              "      --disabled-bg-color: #DDD;\n",
              "  }\n",
              "\n",
              "  [theme=dark] .colab-df-quickchart {\n",
              "      --bg-color: #3B4455;\n",
              "      --fill-color: #D2E3FC;\n",
              "      --hover-bg-color: #434B5C;\n",
              "      --hover-fill-color: #FFFFFF;\n",
              "      --disabled-bg-color: #3B4455;\n",
              "      --disabled-fill-color: #666;\n",
              "  }\n",
              "\n",
              "  .colab-df-quickchart {\n",
              "    background-color: var(--bg-color);\n",
              "    border: none;\n",
              "    border-radius: 50%;\n",
              "    cursor: pointer;\n",
              "    display: none;\n",
              "    fill: var(--fill-color);\n",
              "    height: 32px;\n",
              "    padding: 0;\n",
              "    width: 32px;\n",
              "  }\n",
              "\n",
              "  .colab-df-quickchart:hover {\n",
              "    background-color: var(--hover-bg-color);\n",
              "    box-shadow: 0 1px 2px rgba(60, 64, 67, 0.3), 0 1px 3px 1px rgba(60, 64, 67, 0.15);\n",
              "    fill: var(--button-hover-fill-color);\n",
              "  }\n",
              "\n",
              "  .colab-df-quickchart-complete:disabled,\n",
              "  .colab-df-quickchart-complete:disabled:hover {\n",
              "    background-color: var(--disabled-bg-color);\n",
              "    fill: var(--disabled-fill-color);\n",
              "    box-shadow: none;\n",
              "  }\n",
              "\n",
              "  .colab-df-spinner {\n",
              "    border: 2px solid var(--fill-color);\n",
              "    border-color: transparent;\n",
              "    border-bottom-color: var(--fill-color);\n",
              "    animation:\n",
              "      spin 1s steps(1) infinite;\n",
              "  }\n",
              "\n",
              "  @keyframes spin {\n",
              "    0% {\n",
              "      border-color: transparent;\n",
              "      border-bottom-color: var(--fill-color);\n",
              "      border-left-color: var(--fill-color);\n",
              "    }\n",
              "    20% {\n",
              "      border-color: transparent;\n",
              "      border-left-color: var(--fill-color);\n",
              "      border-top-color: var(--fill-color);\n",
              "    }\n",
              "    30% {\n",
              "      border-color: transparent;\n",
              "      border-left-color: var(--fill-color);\n",
              "      border-top-color: var(--fill-color);\n",
              "      border-right-color: var(--fill-color);\n",
              "    }\n",
              "    40% {\n",
              "      border-color: transparent;\n",
              "      border-right-color: var(--fill-color);\n",
              "      border-top-color: var(--fill-color);\n",
              "    }\n",
              "    60% {\n",
              "      border-color: transparent;\n",
              "      border-right-color: var(--fill-color);\n",
              "    }\n",
              "    80% {\n",
              "      border-color: transparent;\n",
              "      border-right-color: var(--fill-color);\n",
              "      border-bottom-color: var(--fill-color);\n",
              "    }\n",
              "    90% {\n",
              "      border-color: transparent;\n",
              "      border-bottom-color: var(--fill-color);\n",
              "    }\n",
              "  }\n",
              "</style>\n",
              "\n",
              "  <script>\n",
              "    async function quickchart(key) {\n",
              "      const quickchartButtonEl =\n",
              "        document.querySelector('#' + key + ' button');\n",
              "      quickchartButtonEl.disabled = true;  // To prevent multiple clicks.\n",
              "      quickchartButtonEl.classList.add('colab-df-spinner');\n",
              "      try {\n",
              "        const charts = await google.colab.kernel.invokeFunction(\n",
              "            'suggestCharts', [key], {});\n",
              "      } catch (error) {\n",
              "        console.error('Error during call to suggestCharts:', error);\n",
              "      }\n",
              "      quickchartButtonEl.classList.remove('colab-df-spinner');\n",
              "      quickchartButtonEl.classList.add('colab-df-quickchart-complete');\n",
              "    }\n",
              "    (() => {\n",
              "      let quickchartButtonEl =\n",
              "        document.querySelector('#df-d207dd86-fd1b-4ae9-aae5-a2ee73556a83 button');\n",
              "      quickchartButtonEl.style.display =\n",
              "        google.colab.kernel.accessAllowed ? 'block' : 'none';\n",
              "    })();\n",
              "  </script>\n",
              "</div>\n",
              "\n",
              "    </div>\n",
              "  </div>\n"
            ],
            "application/vnd.google.colaboratory.intrinsic+json": {
              "type": "dataframe",
              "variable_name": "data",
              "summary": "{\n  \"name\": \"data\",\n  \"rows\": 59203,\n  \"fields\": [\n    {\n      \"column\": \"country\",\n      \"properties\": {\n        \"dtype\": \"category\",\n        \"num_unique_values\": 4,\n        \"samples\": [\n          \"UK\",\n          \"US\",\n          \"China\"\n        ],\n        \"semantic_type\": \"\",\n        \"description\": \"\"\n      }\n    },\n    {\n      \"column\": \"age\",\n      \"properties\": {\n        \"dtype\": \"number\",\n        \"std\": 8,\n        \"min\": 17,\n        \"max\": 111,\n        \"num_unique_values\": 51,\n        \"samples\": [\n          59,\n          57,\n          67\n        ],\n        \"semantic_type\": \"\",\n        \"description\": \"\"\n      }\n    },\n    {\n      \"column\": \"new_user\",\n      \"properties\": {\n        \"dtype\": \"number\",\n        \"std\": 0,\n        \"min\": 0,\n        \"max\": 1,\n        \"num_unique_values\": 2,\n        \"samples\": [\n          0,\n          1\n        ],\n        \"semantic_type\": \"\",\n        \"description\": \"\"\n      }\n    },\n    {\n      \"column\": \"source\",\n      \"properties\": {\n        \"dtype\": \"category\",\n        \"num_unique_values\": 3,\n        \"samples\": [\n          \"Direct\",\n          \"Ads\"\n        ],\n        \"semantic_type\": \"\",\n        \"description\": \"\"\n      }\n    },\n    {\n      \"column\": \"total_pages_visited\",\n      \"properties\": {\n        \"dtype\": \"number\",\n        \"std\": 3,\n        \"min\": 1,\n        \"max\": 26,\n        \"num_unique_values\": 26,\n        \"samples\": [\n          6,\n          15\n        ],\n        \"semantic_type\": \"\",\n        \"description\": \"\"\n      }\n    },\n    {\n      \"column\": \"converted\",\n      \"properties\": {\n        \"dtype\": \"number\",\n        \"std\": 0.1766530073649444,\n        \"min\": 0.0,\n        \"max\": 1.0,\n        \"num_unique_values\": 2,\n        \"samples\": [\n          1.0,\n          0.0\n        ],\n        \"semantic_type\": \"\",\n        \"description\": \"\"\n      }\n    }\n  ]\n}"
            }
          },
          "metadata": {},
          "execution_count": 5
        }
      ],
      "source": [
        "data.head()"
      ]
    },
    {
      "cell_type": "markdown",
      "metadata": {
        "id": "0XwjKBc63B1n"
      },
      "source": [
        "# Explore dataset"
      ]
    },
    {
      "cell_type": "markdown",
      "source": [
        "#Part 1 :  EDA"
      ],
      "metadata": {
        "id": "lE_g8yn83OOe"
      }
    },
    {
      "cell_type": "code",
      "source": [
        "data.info()"
      ],
      "metadata": {
        "colab": {
          "base_uri": "https://localhost:8080/"
        },
        "id": "vpJf-Tj33Dr0",
        "outputId": "870e5399-1eee-4e0c-bb55-2ecc43752269"
      },
      "execution_count": 8,
      "outputs": [
        {
          "output_type": "stream",
          "name": "stdout",
          "text": [
            "<class 'pandas.core.frame.DataFrame'>\n",
            "RangeIndex: 59203 entries, 0 to 59202\n",
            "Data columns (total 6 columns):\n",
            " #   Column               Non-Null Count  Dtype  \n",
            "---  ------               --------------  -----  \n",
            " 0   country              59203 non-null  object \n",
            " 1   age                  59203 non-null  int64  \n",
            " 2   new_user             59203 non-null  int64  \n",
            " 3   source               59203 non-null  object \n",
            " 4   total_pages_visited  59203 non-null  int64  \n",
            " 5   converted            59202 non-null  float64\n",
            "dtypes: float64(1), int64(3), object(2)\n",
            "memory usage: 2.7+ MB\n"
          ]
        }
      ]
    },
    {
      "cell_type": "code",
      "source": [
        "data.describe(include='all')"
      ],
      "metadata": {
        "colab": {
          "base_uri": "https://localhost:8080/",
          "height": 394
        },
        "id": "E0LvrSrY3Ia6",
        "outputId": "0afa1e7e-af9a-4398-f4f8-e38a0530d188"
      },
      "execution_count": 9,
      "outputs": [
        {
          "output_type": "execute_result",
          "data": {
            "text/plain": [
              "       country           age      new_user source  total_pages_visited  \\\n",
              "count    59203  59203.000000  59203.000000  59203         59203.000000   \n",
              "unique       4           NaN           NaN      3                  NaN   \n",
              "top         US           NaN           NaN    Seo                  NaN   \n",
              "freq     33371           NaN           NaN  28834                  NaN   \n",
              "mean       NaN     30.595578      0.685438    NaN             4.880580   \n",
              "std        NaN      8.244437      0.464345    NaN             3.355812   \n",
              "min        NaN     17.000000      0.000000    NaN             1.000000   \n",
              "25%        NaN     24.000000      0.000000    NaN             2.000000   \n",
              "50%        NaN     30.000000      1.000000    NaN             4.000000   \n",
              "75%        NaN     36.000000      1.000000    NaN             7.000000   \n",
              "max        NaN    111.000000      1.000000    NaN            26.000000   \n",
              "\n",
              "           converted  \n",
              "count   59202.000000  \n",
              "unique           NaN  \n",
              "top              NaN  \n",
              "freq             NaN  \n",
              "mean        0.032246  \n",
              "std         0.176653  \n",
              "min         0.000000  \n",
              "25%         0.000000  \n",
              "50%         0.000000  \n",
              "75%         0.000000  \n",
              "max         1.000000  "
            ],
            "text/html": [
              "\n",
              "  <div id=\"df-7080520e-d9cb-4eaf-8080-2e02e5bdb1d0\" class=\"colab-df-container\">\n",
              "    <div>\n",
              "<style scoped>\n",
              "    .dataframe tbody tr th:only-of-type {\n",
              "        vertical-align: middle;\n",
              "    }\n",
              "\n",
              "    .dataframe tbody tr th {\n",
              "        vertical-align: top;\n",
              "    }\n",
              "\n",
              "    .dataframe thead th {\n",
              "        text-align: right;\n",
              "    }\n",
              "</style>\n",
              "<table border=\"1\" class=\"dataframe\">\n",
              "  <thead>\n",
              "    <tr style=\"text-align: right;\">\n",
              "      <th></th>\n",
              "      <th>country</th>\n",
              "      <th>age</th>\n",
              "      <th>new_user</th>\n",
              "      <th>source</th>\n",
              "      <th>total_pages_visited</th>\n",
              "      <th>converted</th>\n",
              "    </tr>\n",
              "  </thead>\n",
              "  <tbody>\n",
              "    <tr>\n",
              "      <th>count</th>\n",
              "      <td>59203</td>\n",
              "      <td>59203.000000</td>\n",
              "      <td>59203.000000</td>\n",
              "      <td>59203</td>\n",
              "      <td>59203.000000</td>\n",
              "      <td>59202.000000</td>\n",
              "    </tr>\n",
              "    <tr>\n",
              "      <th>unique</th>\n",
              "      <td>4</td>\n",
              "      <td>NaN</td>\n",
              "      <td>NaN</td>\n",
              "      <td>3</td>\n",
              "      <td>NaN</td>\n",
              "      <td>NaN</td>\n",
              "    </tr>\n",
              "    <tr>\n",
              "      <th>top</th>\n",
              "      <td>US</td>\n",
              "      <td>NaN</td>\n",
              "      <td>NaN</td>\n",
              "      <td>Seo</td>\n",
              "      <td>NaN</td>\n",
              "      <td>NaN</td>\n",
              "    </tr>\n",
              "    <tr>\n",
              "      <th>freq</th>\n",
              "      <td>33371</td>\n",
              "      <td>NaN</td>\n",
              "      <td>NaN</td>\n",
              "      <td>28834</td>\n",
              "      <td>NaN</td>\n",
              "      <td>NaN</td>\n",
              "    </tr>\n",
              "    <tr>\n",
              "      <th>mean</th>\n",
              "      <td>NaN</td>\n",
              "      <td>30.595578</td>\n",
              "      <td>0.685438</td>\n",
              "      <td>NaN</td>\n",
              "      <td>4.880580</td>\n",
              "      <td>0.032246</td>\n",
              "    </tr>\n",
              "    <tr>\n",
              "      <th>std</th>\n",
              "      <td>NaN</td>\n",
              "      <td>8.244437</td>\n",
              "      <td>0.464345</td>\n",
              "      <td>NaN</td>\n",
              "      <td>3.355812</td>\n",
              "      <td>0.176653</td>\n",
              "    </tr>\n",
              "    <tr>\n",
              "      <th>min</th>\n",
              "      <td>NaN</td>\n",
              "      <td>17.000000</td>\n",
              "      <td>0.000000</td>\n",
              "      <td>NaN</td>\n",
              "      <td>1.000000</td>\n",
              "      <td>0.000000</td>\n",
              "    </tr>\n",
              "    <tr>\n",
              "      <th>25%</th>\n",
              "      <td>NaN</td>\n",
              "      <td>24.000000</td>\n",
              "      <td>0.000000</td>\n",
              "      <td>NaN</td>\n",
              "      <td>2.000000</td>\n",
              "      <td>0.000000</td>\n",
              "    </tr>\n",
              "    <tr>\n",
              "      <th>50%</th>\n",
              "      <td>NaN</td>\n",
              "      <td>30.000000</td>\n",
              "      <td>1.000000</td>\n",
              "      <td>NaN</td>\n",
              "      <td>4.000000</td>\n",
              "      <td>0.000000</td>\n",
              "    </tr>\n",
              "    <tr>\n",
              "      <th>75%</th>\n",
              "      <td>NaN</td>\n",
              "      <td>36.000000</td>\n",
              "      <td>1.000000</td>\n",
              "      <td>NaN</td>\n",
              "      <td>7.000000</td>\n",
              "      <td>0.000000</td>\n",
              "    </tr>\n",
              "    <tr>\n",
              "      <th>max</th>\n",
              "      <td>NaN</td>\n",
              "      <td>111.000000</td>\n",
              "      <td>1.000000</td>\n",
              "      <td>NaN</td>\n",
              "      <td>26.000000</td>\n",
              "      <td>1.000000</td>\n",
              "    </tr>\n",
              "  </tbody>\n",
              "</table>\n",
              "</div>\n",
              "    <div class=\"colab-df-buttons\">\n",
              "\n",
              "  <div class=\"colab-df-container\">\n",
              "    <button class=\"colab-df-convert\" onclick=\"convertToInteractive('df-7080520e-d9cb-4eaf-8080-2e02e5bdb1d0')\"\n",
              "            title=\"Convert this dataframe to an interactive table.\"\n",
              "            style=\"display:none;\">\n",
              "\n",
              "  <svg xmlns=\"http://www.w3.org/2000/svg\" height=\"24px\" viewBox=\"0 -960 960 960\">\n",
              "    <path d=\"M120-120v-720h720v720H120Zm60-500h600v-160H180v160Zm220 220h160v-160H400v160Zm0 220h160v-160H400v160ZM180-400h160v-160H180v160Zm440 0h160v-160H620v160ZM180-180h160v-160H180v160Zm440 0h160v-160H620v160Z\"/>\n",
              "  </svg>\n",
              "    </button>\n",
              "\n",
              "  <style>\n",
              "    .colab-df-container {\n",
              "      display:flex;\n",
              "      gap: 12px;\n",
              "    }\n",
              "\n",
              "    .colab-df-convert {\n",
              "      background-color: #E8F0FE;\n",
              "      border: none;\n",
              "      border-radius: 50%;\n",
              "      cursor: pointer;\n",
              "      display: none;\n",
              "      fill: #1967D2;\n",
              "      height: 32px;\n",
              "      padding: 0 0 0 0;\n",
              "      width: 32px;\n",
              "    }\n",
              "\n",
              "    .colab-df-convert:hover {\n",
              "      background-color: #E2EBFA;\n",
              "      box-shadow: 0px 1px 2px rgba(60, 64, 67, 0.3), 0px 1px 3px 1px rgba(60, 64, 67, 0.15);\n",
              "      fill: #174EA6;\n",
              "    }\n",
              "\n",
              "    .colab-df-buttons div {\n",
              "      margin-bottom: 4px;\n",
              "    }\n",
              "\n",
              "    [theme=dark] .colab-df-convert {\n",
              "      background-color: #3B4455;\n",
              "      fill: #D2E3FC;\n",
              "    }\n",
              "\n",
              "    [theme=dark] .colab-df-convert:hover {\n",
              "      background-color: #434B5C;\n",
              "      box-shadow: 0px 1px 3px 1px rgba(0, 0, 0, 0.15);\n",
              "      filter: drop-shadow(0px 1px 2px rgba(0, 0, 0, 0.3));\n",
              "      fill: #FFFFFF;\n",
              "    }\n",
              "  </style>\n",
              "\n",
              "    <script>\n",
              "      const buttonEl =\n",
              "        document.querySelector('#df-7080520e-d9cb-4eaf-8080-2e02e5bdb1d0 button.colab-df-convert');\n",
              "      buttonEl.style.display =\n",
              "        google.colab.kernel.accessAllowed ? 'block' : 'none';\n",
              "\n",
              "      async function convertToInteractive(key) {\n",
              "        const element = document.querySelector('#df-7080520e-d9cb-4eaf-8080-2e02e5bdb1d0');\n",
              "        const dataTable =\n",
              "          await google.colab.kernel.invokeFunction('convertToInteractive',\n",
              "                                                    [key], {});\n",
              "        if (!dataTable) return;\n",
              "\n",
              "        const docLinkHtml = 'Like what you see? Visit the ' +\n",
              "          '<a target=\"_blank\" href=https://colab.research.google.com/notebooks/data_table.ipynb>data table notebook</a>'\n",
              "          + ' to learn more about interactive tables.';\n",
              "        element.innerHTML = '';\n",
              "        dataTable['output_type'] = 'display_data';\n",
              "        await google.colab.output.renderOutput(dataTable, element);\n",
              "        const docLink = document.createElement('div');\n",
              "        docLink.innerHTML = docLinkHtml;\n",
              "        element.appendChild(docLink);\n",
              "      }\n",
              "    </script>\n",
              "  </div>\n",
              "\n",
              "\n",
              "<div id=\"df-410fc85b-1a8b-4434-8dc9-0ed0c899ff0f\">\n",
              "  <button class=\"colab-df-quickchart\" onclick=\"quickchart('df-410fc85b-1a8b-4434-8dc9-0ed0c899ff0f')\"\n",
              "            title=\"Suggest charts\"\n",
              "            style=\"display:none;\">\n",
              "\n",
              "<svg xmlns=\"http://www.w3.org/2000/svg\" height=\"24px\"viewBox=\"0 0 24 24\"\n",
              "     width=\"24px\">\n",
              "    <g>\n",
              "        <path d=\"M19 3H5c-1.1 0-2 .9-2 2v14c0 1.1.9 2 2 2h14c1.1 0 2-.9 2-2V5c0-1.1-.9-2-2-2zM9 17H7v-7h2v7zm4 0h-2V7h2v10zm4 0h-2v-4h2v4z\"/>\n",
              "    </g>\n",
              "</svg>\n",
              "  </button>\n",
              "\n",
              "<style>\n",
              "  .colab-df-quickchart {\n",
              "      --bg-color: #E8F0FE;\n",
              "      --fill-color: #1967D2;\n",
              "      --hover-bg-color: #E2EBFA;\n",
              "      --hover-fill-color: #174EA6;\n",
              "      --disabled-fill-color: #AAA;\n",
              "      --disabled-bg-color: #DDD;\n",
              "  }\n",
              "\n",
              "  [theme=dark] .colab-df-quickchart {\n",
              "      --bg-color: #3B4455;\n",
              "      --fill-color: #D2E3FC;\n",
              "      --hover-bg-color: #434B5C;\n",
              "      --hover-fill-color: #FFFFFF;\n",
              "      --disabled-bg-color: #3B4455;\n",
              "      --disabled-fill-color: #666;\n",
              "  }\n",
              "\n",
              "  .colab-df-quickchart {\n",
              "    background-color: var(--bg-color);\n",
              "    border: none;\n",
              "    border-radius: 50%;\n",
              "    cursor: pointer;\n",
              "    display: none;\n",
              "    fill: var(--fill-color);\n",
              "    height: 32px;\n",
              "    padding: 0;\n",
              "    width: 32px;\n",
              "  }\n",
              "\n",
              "  .colab-df-quickchart:hover {\n",
              "    background-color: var(--hover-bg-color);\n",
              "    box-shadow: 0 1px 2px rgba(60, 64, 67, 0.3), 0 1px 3px 1px rgba(60, 64, 67, 0.15);\n",
              "    fill: var(--button-hover-fill-color);\n",
              "  }\n",
              "\n",
              "  .colab-df-quickchart-complete:disabled,\n",
              "  .colab-df-quickchart-complete:disabled:hover {\n",
              "    background-color: var(--disabled-bg-color);\n",
              "    fill: var(--disabled-fill-color);\n",
              "    box-shadow: none;\n",
              "  }\n",
              "\n",
              "  .colab-df-spinner {\n",
              "    border: 2px solid var(--fill-color);\n",
              "    border-color: transparent;\n",
              "    border-bottom-color: var(--fill-color);\n",
              "    animation:\n",
              "      spin 1s steps(1) infinite;\n",
              "  }\n",
              "\n",
              "  @keyframes spin {\n",
              "    0% {\n",
              "      border-color: transparent;\n",
              "      border-bottom-color: var(--fill-color);\n",
              "      border-left-color: var(--fill-color);\n",
              "    }\n",
              "    20% {\n",
              "      border-color: transparent;\n",
              "      border-left-color: var(--fill-color);\n",
              "      border-top-color: var(--fill-color);\n",
              "    }\n",
              "    30% {\n",
              "      border-color: transparent;\n",
              "      border-left-color: var(--fill-color);\n",
              "      border-top-color: var(--fill-color);\n",
              "      border-right-color: var(--fill-color);\n",
              "    }\n",
              "    40% {\n",
              "      border-color: transparent;\n",
              "      border-right-color: var(--fill-color);\n",
              "      border-top-color: var(--fill-color);\n",
              "    }\n",
              "    60% {\n",
              "      border-color: transparent;\n",
              "      border-right-color: var(--fill-color);\n",
              "    }\n",
              "    80% {\n",
              "      border-color: transparent;\n",
              "      border-right-color: var(--fill-color);\n",
              "      border-bottom-color: var(--fill-color);\n",
              "    }\n",
              "    90% {\n",
              "      border-color: transparent;\n",
              "      border-bottom-color: var(--fill-color);\n",
              "    }\n",
              "  }\n",
              "</style>\n",
              "\n",
              "  <script>\n",
              "    async function quickchart(key) {\n",
              "      const quickchartButtonEl =\n",
              "        document.querySelector('#' + key + ' button');\n",
              "      quickchartButtonEl.disabled = true;  // To prevent multiple clicks.\n",
              "      quickchartButtonEl.classList.add('colab-df-spinner');\n",
              "      try {\n",
              "        const charts = await google.colab.kernel.invokeFunction(\n",
              "            'suggestCharts', [key], {});\n",
              "      } catch (error) {\n",
              "        console.error('Error during call to suggestCharts:', error);\n",
              "      }\n",
              "      quickchartButtonEl.classList.remove('colab-df-spinner');\n",
              "      quickchartButtonEl.classList.add('colab-df-quickchart-complete');\n",
              "    }\n",
              "    (() => {\n",
              "      let quickchartButtonEl =\n",
              "        document.querySelector('#df-410fc85b-1a8b-4434-8dc9-0ed0c899ff0f button');\n",
              "      quickchartButtonEl.style.display =\n",
              "        google.colab.kernel.accessAllowed ? 'block' : 'none';\n",
              "    })();\n",
              "  </script>\n",
              "</div>\n",
              "\n",
              "    </div>\n",
              "  </div>\n"
            ],
            "application/vnd.google.colaboratory.intrinsic+json": {
              "type": "dataframe",
              "summary": "{\n  \"name\": \"data\",\n  \"rows\": 11,\n  \"fields\": [\n    {\n      \"column\": \"country\",\n      \"properties\": {\n        \"dtype\": \"category\",\n        \"num_unique_values\": 4,\n        \"samples\": [\n          4,\n          \"33371\",\n          \"59203\"\n        ],\n        \"semantic_type\": \"\",\n        \"description\": \"\"\n      }\n    },\n    {\n      \"column\": \"age\",\n      \"properties\": {\n        \"dtype\": \"number\",\n        \"std\": 20918.472776928593,\n        \"min\": 8.244437089284357,\n        \"max\": 59203.0,\n        \"num_unique_values\": 8,\n        \"samples\": [\n          30.59557792679425,\n          30.0,\n          59203.0\n        ],\n        \"semantic_type\": \"\",\n        \"description\": \"\"\n      }\n    },\n    {\n      \"column\": \"new_user\",\n      \"properties\": {\n        \"dtype\": \"number\",\n        \"std\": 20931.21179176901,\n        \"min\": 0.0,\n        \"max\": 59203.0,\n        \"num_unique_values\": 5,\n        \"samples\": [\n          0.6854382379271321,\n          1.0,\n          0.4643450246286072\n        ],\n        \"semantic_type\": \"\",\n        \"description\": \"\"\n      }\n    },\n    {\n      \"column\": \"source\",\n      \"properties\": {\n        \"dtype\": \"category\",\n        \"num_unique_values\": 4,\n        \"samples\": [\n          3,\n          \"28834\",\n          \"59203\"\n        ],\n        \"semantic_type\": \"\",\n        \"description\": \"\"\n      }\n    },\n    {\n      \"column\": \"total_pages_visited\",\n      \"properties\": {\n        \"dtype\": \"number\",\n        \"std\": 20928.98660891083,\n        \"min\": 1.0,\n        \"max\": 59203.0,\n        \"num_unique_values\": 8,\n        \"samples\": [\n          4.88058037599446,\n          4.0,\n          59203.0\n        ],\n        \"semantic_type\": \"\",\n        \"description\": \"\"\n      }\n    },\n    {\n      \"column\": \"converted\",\n      \"properties\": {\n        \"dtype\": \"number\",\n        \"std\": 20931.006774116348,\n        \"min\": 0.0,\n        \"max\": 59202.0,\n        \"num_unique_values\": 5,\n        \"samples\": [\n          0.03224553224553225,\n          1.0,\n          0.1766530073649444\n        ],\n        \"semantic_type\": \"\",\n        \"description\": \"\"\n      }\n    }\n  ]\n}"
            }
          },
          "metadata": {},
          "execution_count": 9
        }
      ]
    },
    {
      "cell_type": "code",
      "source": [
        "# View missing values\n",
        "data.isnull().sum() / len(data) * 100"
      ],
      "metadata": {
        "colab": {
          "base_uri": "https://localhost:8080/",
          "height": 272
        },
        "id": "gbhmTsPo3iHs",
        "outputId": "83973b8d-bbfb-464a-f9cf-bfc06662f727"
      },
      "execution_count": 13,
      "outputs": [
        {
          "output_type": "execute_result",
          "data": {
            "text/plain": [
              "country                0.000000\n",
              "age                    0.000000\n",
              "new_user               0.000000\n",
              "source                 0.000000\n",
              "total_pages_visited    0.000000\n",
              "converted              0.001689\n",
              "dtype: float64"
            ],
            "text/html": [
              "<div>\n",
              "<style scoped>\n",
              "    .dataframe tbody tr th:only-of-type {\n",
              "        vertical-align: middle;\n",
              "    }\n",
              "\n",
              "    .dataframe tbody tr th {\n",
              "        vertical-align: top;\n",
              "    }\n",
              "\n",
              "    .dataframe thead th {\n",
              "        text-align: right;\n",
              "    }\n",
              "</style>\n",
              "<table border=\"1\" class=\"dataframe\">\n",
              "  <thead>\n",
              "    <tr style=\"text-align: right;\">\n",
              "      <th></th>\n",
              "      <th>0</th>\n",
              "    </tr>\n",
              "  </thead>\n",
              "  <tbody>\n",
              "    <tr>\n",
              "      <th>country</th>\n",
              "      <td>0.000000</td>\n",
              "    </tr>\n",
              "    <tr>\n",
              "      <th>age</th>\n",
              "      <td>0.000000</td>\n",
              "    </tr>\n",
              "    <tr>\n",
              "      <th>new_user</th>\n",
              "      <td>0.000000</td>\n",
              "    </tr>\n",
              "    <tr>\n",
              "      <th>source</th>\n",
              "      <td>0.000000</td>\n",
              "    </tr>\n",
              "    <tr>\n",
              "      <th>total_pages_visited</th>\n",
              "      <td>0.000000</td>\n",
              "    </tr>\n",
              "    <tr>\n",
              "      <th>converted</th>\n",
              "      <td>0.001689</td>\n",
              "    </tr>\n",
              "  </tbody>\n",
              "</table>\n",
              "</div><br><label><b>dtype:</b> float64</label>"
            ]
          },
          "metadata": {},
          "execution_count": 13
        }
      ]
    },
    {
      "cell_type": "code",
      "source": [
        "# View Duplicates\n",
        "print(f\"Percentage of duplicated rows is {(data.duplicated().sum() /  len (data) * 100).round(2)}%\")"
      ],
      "metadata": {
        "colab": {
          "base_uri": "https://localhost:8080/"
        },
        "id": "f3KrC4u73VrQ",
        "outputId": "cf7c7a6c-33c9-4724-a44f-db497cfd95b1"
      },
      "execution_count": 18,
      "outputs": [
        {
          "output_type": "stream",
          "name": "stdout",
          "text": [
            "Percentage of duplicated rows is 83.73%\n"
          ]
        }
      ]
    },
    {
      "cell_type": "markdown",
      "source": [
        "##Data Distribution"
      ],
      "metadata": {
        "id": "N4kgTS8b4asX"
      }
    },
    {
      "cell_type": "code",
      "source": [
        "# Target distribution\n",
        "converted_counts = data['converted'].value_counts()\n",
        "\n",
        "plt.figure(figsize=(5, 5), facecolor = \"white\")\n",
        "patches, texts, autotexts  = plt.pie(converted_counts, labels=converted_counts.index, autopct='%1.1f%%', startangle=140, colors = [\"lightgreen\", \"black\"], explode=(0.1, 0))\n",
        "autotexts[1].set_color('white')\n",
        "plt.title('Distribution of Converted')\n",
        "plt.axis('equal')\n",
        "plt.show()\n"
      ],
      "metadata": {
        "colab": {
          "base_uri": "https://localhost:8080/",
          "height": 444
        },
        "id": "jgO-LZ1w4aaE",
        "outputId": "b48d07f4-1b92-4c31-e4cb-482af75b2fc9"
      },
      "execution_count": 31,
      "outputs": [
        {
          "output_type": "display_data",
          "data": {
            "text/plain": [
              "<Figure size 500x500 with 1 Axes>"
            ],
            "image/png": "[encoded data removed]"
          },
          "metadata": {}
        }
      ]
    },
    {
      "cell_type": "markdown",
      "source": [
        "- The pie chart above indicates that the target disribution is unbalanced.\n",
        "- We have no missing values and there are 83.73 % duplicate rows. There are 59203 rows and  6  columns in the dataset.\n",
        "- We seem to have outliers in 'age' this will be handled later on.\n",
        "\n",
        "\n"
      ],
      "metadata": {
        "id": "0UFB7ssv5JgD"
      }
    },
    {
      "cell_type": "markdown",
      "source": [
        "##Categorical distribution"
      ],
      "metadata": {
        "id": "2UwksYcX6GYq"
      }
    },
    {
      "cell_type": "code",
      "source": [
        "# Country Distribution\n",
        "\n",
        "sns.set_theme(style=\"whitegrid\")\n",
        "\n",
        "# Compute sorted country counts\n",
        "country_counts = data['country'].value_counts()\n",
        "\n",
        "# Create the figure and axis\n",
        "fig, ax = plt.subplots(figsize=(10, 5))\n",
        "\n",
        "# Bar plot\n",
        "bars = ax.bar(country_counts.index, country_counts.values, color=sns.color_palette('rocket', len(country_counts)))\n",
        "\n",
        "# Add percentage labels\n",
        "ax.bar_label(bars, labels=[f\"{(count / len(data)) * 100:.1f}%\" for count in country_counts.values], fontsize=10)\n",
        "\n",
        "plt.xticks(rotation=45, ha='right')\n",
        "plt.title('Distribution of Countries in the Dataset', fontsize=10, fontweight='bold')\n",
        "plt.xlabel('Country', fontsize=12)\n",
        "plt.ylabel('Count', fontsize=12)\n",
        "\n",
        "plt.show()"
      ],
      "metadata": {
        "colab": {
          "base_uri": "https://localhost:8080/",
          "height": 538
        },
        "id": "W4ZXR2tH55Qj",
        "outputId": "2fe47a0f-d24c-4f01-a746-027b3e57e257"
      },
      "execution_count": 78,
      "outputs": [
        {
          "output_type": "display_data",
          "data": {
            "text/plain": [
              "<Figure size 1000x500 with 1 Axes>"
            ],
            "image/png": "[encoded data removed]"
          },
          "metadata": {}
        }
      ]
    },
    {
      "cell_type": "code",
      "source": [
        "# Source Distribution\n",
        "sns.set_theme(style=\"whitegrid\")\n",
        "\n",
        "source_counts = data['source'].value_counts()\n",
        "# Create figure and axis\n",
        "fig, ax = plt.subplots(figsize=(10, 5))\n",
        "\n",
        "# Bar plot\n",
        "bars = ax.bar(source_counts.index, source_counts.values, color=sns.color_palette('rocket', len(source_counts)))\n",
        "\n",
        "ax.bar_label(bars, labels=[f\"{(count / len(data)) * 100:.1f}%\" for count in source_counts.values], fontsize=10)\n",
        "\n",
        "plt.xticks(rotation=45, ha='right')\n",
        "plt.title('Distribution of Sources in the Dataset', fontsize=10, fontweight='bold')\n",
        "plt.xlabel('Source', fontsize=12)\n",
        "plt.ylabel('Count', fontsize=12)\n",
        "\n",
        "# Show plot\n",
        "plt.show()"
      ],
      "metadata": {
        "colab": {
          "base_uri": "https://localhost:8080/",
          "height": 521
        },
        "id": "4an3u9Ip7V24",
        "outputId": "dbcba292-54ec-4d3b-b6e1-ad165d9fb2a7"
      },
      "execution_count": 77,
      "outputs": [
        {
          "output_type": "display_data",
          "data": {
            "text/plain": [
              "<Figure size 1000x500 with 1 Axes>"
            ],
            "image/png": "[encoded data removed]"
          },
          "metadata": {}
        }
      ]
    },
    {
      "cell_type": "markdown",
      "source": [
        "##Numerical distribution"
      ],
      "metadata": {
        "id": "8ar31LsY75xz"
      }
    },
    {
      "cell_type": "code",
      "source": [
        "# Total_pages_visited Distribution\n",
        "total_pages = data['total_pages_visited'].value_counts().reset_index()\n",
        "total_pages.columns = ['Total Pages Visited', 'Count']\n",
        "\n",
        "fig = px.bar(total_pages,\n",
        "             x='Total Pages Visited',\n",
        "             y='Count',\n",
        "             color='Count',\n",
        "             color_continuous_scale='greens',\n",
        "             title='Distribution of Total Pages Visited in the Dataset')\n",
        "\n",
        "fig.update_layout(xaxis_title='Total Pages Visited',\n",
        "                  yaxis_title='Count',\n",
        "                  xaxis_tickangle=-45)\n",
        "\n",
        "fig.show(renderer='colab')"
      ],
      "metadata": {
        "colab": {
          "base_uri": "https://localhost:8080/",
          "height": 542
        },
        "id": "8qeMmwG87__H",
        "outputId": "368489cb-2509-46f9-ef9e-61373a493a1b"
      },
      "execution_count": 71,
      "outputs": [
        {
          "output_type": "display_data",
          "data": {
            "text/html": [
              "<html>\n",
              "<head><meta charset=\"utf-8\" /></head>\n",
              "<body>\n",
              "    <div>            <script src=\"https://cdnjs.cloudflare.com/ajax/libs/mathjax/2.7.5/MathJax.js?config=TeX-AMS-MML_SVG\"></script><script type=\"text/javascript\">if (window.MathJax && window.MathJax.Hub && window.MathJax.Hub.Config) {window.MathJax.Hub.Config({SVG: {font: \"STIX-Web\"}});}</script>                <script type=\"text/javascript\">window.PlotlyConfig = {MathJaxConfig: 'local'};</script>\n",
              "        <script charset=\"utf-8\" src=\"https://cdn.plot.ly/plotly-2.35.2.min.js\"></script>                <div id=\"7267c0d0-8763-49bb-8b8c-c5d5fa49bf94\" class=\"plotly-graph-div\" style=\"height:525px; width:100%;\"></div>            <script type=\"text/javascript\">                                    window.PLOTLYENV=window.PLOTLYENV || {};                                    if (document.getElementById(\"7267c0d0-8763-49bb-8b8c-c5d5fa49bf94\")) {                    Plotly.newPlot(                        \"7267c0d0-8763-49bb-8b8c-c5d5fa49bf94\",                        [{\"alignmentgroup\":\"True\",\"hovertemplate\":\"Total Pages Visited=%{x}\\u003cbr\\u003eCount=%{marker.color}\\u003cextra\\u003e\\u003c\\u002fextra\\u003e\",\"legendgroup\":\"\",\"marker\":{\"color\":[8354,8265,7655,7534,6656,5698,4400,3196,2281,1532,1079,694,445,323,258,229,144,129,114,85,51,42,17,10,9,3],\"coloraxis\":\"coloraxis\",\"pattern\":{\"shape\":\"\"}},\"name\":\"\",\"offsetgroup\":\"\",\"orientation\":\"v\",\"showlegend\":false,\"textposition\":\"auto\",\"x\":[2,3,4,1,5,6,7,8,9,10,11,12,13,14,15,16,17,18,19,20,21,22,23,24,25,26],\"xaxis\":\"x\",\"y\":[8354,8265,7655,7534,6656,5698,4400,3196,2281,1532,1079,694,445,323,258,229,144,129,114,85,51,42,17,10,9,3],\"yaxis\":\"y\",\"type\":\"bar\"}],                        {\"template\":{\"layout\":{\"colorway\":[\"#4B9AC7\",\"#4BE8E0\",\"#9DD4F3\",\"#97FBF6\",\"#2A7FAF\",\"#23B1AB\",\"#0E3449\",\"#015955\"]}},\"xaxis\":{\"anchor\":\"y\",\"domain\":[0.0,1.0],\"title\":{\"text\":\"Total Pages Visited\"},\"tickangle\":-45},\"yaxis\":{\"anchor\":\"x\",\"domain\":[0.0,1.0],\"title\":{\"text\":\"Count\"}},\"coloraxis\":{\"colorbar\":{\"title\":{\"text\":\"Count\"}},\"colorscale\":[[0.0,\"rgb(247,252,245)\"],[0.125,\"rgb(229,245,224)\"],[0.25,\"rgb(199,233,192)\"],[0.375,\"rgb(161,217,155)\"],[0.5,\"rgb(116,196,118)\"],[0.625,\"rgb(65,171,93)\"],[0.75,\"rgb(35,139,69)\"],[0.875,\"rgb(0,109,44)\"],[1.0,\"rgb(0,68,27)\"]]},\"legend\":{\"tracegroupgap\":0},\"title\":{\"text\":\"Distribution of Total Pages Visited in the Dataset\"},\"barmode\":\"relative\"},                        {\"responsive\": true}                    ).then(function(){\n",
              "                            \n",
              "var gd = document.getElementById('7267c0d0-8763-49bb-8b8c-c5d5fa49bf94');\n",
              "var x = new MutationObserver(function (mutations, observer) {{\n",
              "        var display = window.getComputedStyle(gd).display;\n",
              "        if (!display || display === 'none') {{\n",
              "            console.log([gd, 'removed!']);\n",
              "            Plotly.purge(gd);\n",
              "            observer.disconnect();\n",
              "        }}\n",
              "}});\n",
              "\n",
              "// Listen for the removal of the full notebook cells\n",
              "var notebookContainer = gd.closest('#notebook-container');\n",
              "if (notebookContainer) {{\n",
              "    x.observe(notebookContainer, {childList: true});\n",
              "}}\n",
              "\n",
              "// Listen for the clearing of the current output cell\n",
              "var outputEl = gd.closest('.output');\n",
              "if (outputEl) {{\n",
              "    x.observe(outputEl, {childList: true});\n",
              "}}\n",
              "\n",
              "                        })                };                            </script>        </div>\n",
              "</body>\n",
              "</html>"
            ]
          },
          "metadata": {}
        }
      ]
    },
    {
      "cell_type": "code",
      "source": [
        "# Age distribution\n",
        "ages = data['age'].value_counts().reset_index()\n",
        "ages.columns = ['age', 'Count']\n",
        "\n",
        "fig = px.bar(ages,\n",
        "             x='age',\n",
        "             y='Count',\n",
        "             color='Count',\n",
        "             color_continuous_scale='greens',\n",
        "             title='Distribution of Ages in the Dataset')\n",
        "\n",
        "fig.update_layout(xaxis_title='Ages',\n",
        "                  yaxis_title='Count',\n",
        "                  xaxis_tickangle=-45)\n",
        "\n",
        "fig.show(renderer='colab')"
      ],
      "metadata": {
        "colab": {
          "base_uri": "https://localhost:8080/",
          "height": 542
        },
        "id": "0yTBhOPI9RBO",
        "outputId": "c803ef01-203b-42fc-83d6-5fe57a82b83c"
      },
      "execution_count": 70,
      "outputs": [
        {
          "output_type": "display_data",
          "data": {
            "text/html": [
              "<html>\n",
              "<head><meta charset=\"utf-8\" /></head>\n",
              "<body>\n",
              "    <div>            <script src=\"https://cdnjs.cloudflare.com/ajax/libs/mathjax/2.7.5/MathJax.js?config=TeX-AMS-MML_SVG\"></script><script type=\"text/javascript\">if (window.MathJax && window.MathJax.Hub && window.MathJax.Hub.Config) {window.MathJax.Hub.Config({SVG: {font: \"STIX-Web\"}});}</script>                <script type=\"text/javascript\">window.PlotlyConfig = {MathJaxConfig: 'local'};</script>\n",
              "        <script charset=\"utf-8\" src=\"https://cdn.plot.ly/plotly-2.35.2.min.js\"></script>                <div id=\"5058cebc-39dd-4a0e-b5f4-8237dcd06189\" class=\"plotly-graph-div\" style=\"height:525px; width:100%;\"></div>            <script type=\"text/javascript\">                                    window.PLOTLYENV=window.PLOTLYENV || {};                                    if (document.getElementById(\"5058cebc-39dd-4a0e-b5f4-8237dcd06189\")) {                    Plotly.newPlot(                        \"5058cebc-39dd-4a0e-b5f4-8237dcd06189\",                        [{\"alignmentgroup\":\"True\",\"hovertemplate\":\"age=%{x}\\u003cbr\\u003eCount=%{marker.color}\\u003cextra\\u003e\\u003c\\u002fextra\\u003e\",\"legendgroup\":\"\",\"marker\":{\"color\":[2732,2712,2684,2626,2591,2561,2519,2507,2494,2408,2340,2267,2160,2120,2016,1977,1933,1846,1695,1680,1609,1600,1343,1315,1205,1011,908,762,687,570,465,432,309,273,194,162,125,90,72,55,36,28,26,17,15,9,9,3,3,1,1],\"coloraxis\":\"coloraxis\",\"pattern\":{\"shape\":\"\"}},\"name\":\"\",\"offsetgroup\":\"\",\"orientation\":\"v\",\"showlegend\":false,\"textposition\":\"auto\",\"x\":[28,30,29,26,27,32,24,25,31,33,34,23,22,35,21,36,20,37,19,38,39,18,17,40,41,42,43,44,45,46,47,48,49,50,51,52,53,54,55,56,58,57,59,60,61,62,63,67,64,111,65],\"xaxis\":\"x\",\"y\":[2732,2712,2684,2626,2591,2561,2519,2507,2494,2408,2340,2267,2160,2120,2016,1977,1933,1846,1695,1680,1609,1600,1343,1315,1205,1011,908,762,687,570,465,432,309,273,194,162,125,90,72,55,36,28,26,17,15,9,9,3,3,1,1],\"yaxis\":\"y\",\"type\":\"bar\"}],                        {\"template\":{\"layout\":{\"colorway\":[\"#4B9AC7\",\"#4BE8E0\",\"#9DD4F3\",\"#97FBF6\",\"#2A7FAF\",\"#23B1AB\",\"#0E3449\",\"#015955\"]}},\"xaxis\":{\"anchor\":\"y\",\"domain\":[0.0,1.0],\"title\":{\"text\":\"Ages\"},\"tickangle\":-45},\"yaxis\":{\"anchor\":\"x\",\"domain\":[0.0,1.0],\"title\":{\"text\":\"Count\"}},\"coloraxis\":{\"colorbar\":{\"title\":{\"text\":\"Count\"}},\"colorscale\":[[0.0,\"rgb(247,252,245)\"],[0.125,\"rgb(229,245,224)\"],[0.25,\"rgb(199,233,192)\"],[0.375,\"rgb(161,217,155)\"],[0.5,\"rgb(116,196,118)\"],[0.625,\"rgb(65,171,93)\"],[0.75,\"rgb(35,139,69)\"],[0.875,\"rgb(0,109,44)\"],[1.0,\"rgb(0,68,27)\"]]},\"legend\":{\"tracegroupgap\":0},\"title\":{\"text\":\"Distribution of Ages in the Dataset\"},\"barmode\":\"relative\"},                        {\"responsive\": true}                    ).then(function(){\n",
              "                            \n",
              "var gd = document.getElementById('5058cebc-39dd-4a0e-b5f4-8237dcd06189');\n",
              "var x = new MutationObserver(function (mutations, observer) {{\n",
              "        var display = window.getComputedStyle(gd).display;\n",
              "        if (!display || display === 'none') {{\n",
              "            console.log([gd, 'removed!']);\n",
              "            Plotly.purge(gd);\n",
              "            observer.disconnect();\n",
              "        }}\n",
              "}});\n",
              "\n",
              "// Listen for the removal of the full notebook cells\n",
              "var notebookContainer = gd.closest('#notebook-container');\n",
              "if (notebookContainer) {{\n",
              "    x.observe(notebookContainer, {childList: true});\n",
              "}}\n",
              "\n",
              "// Listen for the clearing of the current output cell\n",
              "var outputEl = gd.closest('.output');\n",
              "if (outputEl) {{\n",
              "    x.observe(outputEl, {childList: true});\n",
              "}}\n",
              "\n",
              "                        })                };                            </script>        </div>\n",
              "</body>\n",
              "</html>"
            ]
          },
          "metadata": {}
        }
      ]
    },
    {
      "cell_type": "markdown",
      "source": [
        "##Outliers"
      ],
      "metadata": {
        "id": "4awNccN8_eha"
      }
    },
    {
      "cell_type": "code",
      "source": [
        "# Find Q1, Q3 and IQR\n",
        "Q1 = data['age'].quantile(0.25)\n",
        "Q3 = data['age'].quantile(0.75)\n",
        "IQR = Q3 - Q1\n",
        "lower_bound = Q1 - 1.5 * IQR\n",
        "upper_bound = Q3 + 1.5 * IQR\n",
        "outliers = (data['age'] < Q1 - 1.5 * IQR) | (data['age'] > Q3 + 1.5 *IQR)"
      ],
      "metadata": {
        "id": "7Dl91Ky7AjIt"
      },
      "execution_count": 97,
      "outputs": []
    },
    {
      "cell_type": "code",
      "source": [
        "# Remove outliers\n",
        "data_train_cleaned = data[~outliers]\n",
        "print('Data shape:', data_train_cleaned.shape)"
      ],
      "metadata": {
        "colab": {
          "base_uri": "https://localhost:8080/"
        },
        "id": "J9HQbLucBOkL",
        "outputId": "68282463-41b0-421e-b7cb-3a9003c758b3"
      },
      "execution_count": 98,
      "outputs": [
        {
          "output_type": "stream",
          "name": "stdout",
          "text": [
            "Data shape: (58928, 6)\n"
          ]
        }
      ]
    },
    {
      "cell_type": "code",
      "source": [
        "fig = px.box(data_train_cleaned.melt(value_vars=columns_to_check,\n",
        "                                     var_name='Feature',\n",
        "                                     value_name='Value'),\n",
        "             y='Value',\n",
        "             color='Feature',\n",
        "             facet_col='Feature',\n",
        "             title='Age')\n",
        "\n",
        "fig.update_layout(height=400, width=400, showlegend=False)\n",
        "fig.show(renderer='colab')"
      ],
      "metadata": {
        "colab": {
          "base_uri": "https://localhost:8080/",
          "height": 417
        },
        "id": "dLpKDWOGBtJT",
        "outputId": "d44dc5cd-1fac-423d-d585-16dc29c32c39"
      },
      "execution_count": 107,
      "outputs": [
        {
          "output_type": "display_data",
          "data": {
            "text/html": [
              "<html>\n",
              "<head><meta charset=\"utf-8\" /></head>\n",
              "<body>\n",
              "    <div>            <script src=\"https://cdnjs.cloudflare.com/ajax/libs/mathjax/2.7.5/MathJax.js?config=TeX-AMS-MML_SVG\"></script><script type=\"text/javascript\">if (window.MathJax && window.MathJax.Hub && window.MathJax.Hub.Config) {window.MathJax.Hub.Config({SVG: {font: \"STIX-Web\"}});}</script>                <script type=\"text/javascript\">window.PlotlyConfig = {MathJaxConfig: 'local'};</script>\n",
              "        <script charset=\"utf-8\" src=\"https://cdn.plot.ly/plotly-2.35.2.min.js\"></script>                <div id=\"64339121-85f6-4a80-9997-d36a9200b156\" class=\"plotly-graph-div\" style=\"height:400px; width:400px;\"></div>            <script type=\"text/javascript\">                                    window.PLOTLYENV=window.PLOTLYENV || {};                                    if (document.getElementById(\"64339121-85f6-4a80-9997-d36a9200b156\")) {                    Plotly.newPlot(                        \"64339121-85f6-4a80-9997-d36a9200b156\",                        [{\"alignmentgroup\":\"True\",\"hovertemplate\":\"Feature=age\\u003cbr\\u003eValue=%{y}\\u003cextra\\u003e\\u003c\\u002fextra\\u003e\",\"legendgroup\":\"age\",\"marker\":{\"color\":\"#4B9AC7\"},\"name\":\"age\",\"notched\":false,\"offsetgroup\":\"age\",\"orientation\":\"v\",\"showlegend\":true,\"x0\":\" \",\"xaxis\":\"x\",\"y\":[22,21,20,23,28,29,30,38,26,31,31,18,27,30,27,38,24,18,20,37,31,42,31,22,33,28,29,45,32,33,27,37,22,37,38,24,30,32,39,24,17,28,27,33,34,30,29,38,45,40,27,27,25,36,20,44,33,23,39,24,32,22,30,23,30,42,26,36,23,41,27,35,23,29,31,21,27,32,18,34,25,32,33,23,31,25,38,36,26,27,35,30,22,17,49,22,32,38,19,36,43,32,22,23,18,31,45,30,18,33,33,37,42,27,36,32,33,50,41,39,47,21,36,22,29,32,27,30,18,34,47,44,31,53,20,19,49,52,19,29,30,37,25,23,19,23,32,30,33,27,40,26,37,30,28,19,47,25,40,30,32,28,42,39,26,19,17,18,18,31,22,27,31,33,29,30,38,22,21,44,30,23,18,24,32,33,31,33,33,23,40,50,47,27,37,26,46,19,41,32,30,35,29,29,18,26,46,41,38,23,42,19,31,27,34,28,24,33,31,27,29,30,33,17,32,27,24,36,28,26,17,36,20,20,18,19,29,18,39,32,44,42,26,27,40,29,50,28,29,38,26,52,20,18,33,27,36,24,37,31,32,29,19,31,39,27,33,38,34,27,26,19,48,39,18,23,39,20,28,40,39,23,35,33,27,38,36,34,30,32,39,41,26,39,24,21,35,34,27,48,20,26,31,24,40,36,27,43,17,24,39,34,26,30,32,43,22,42,30,37,28,21,26,28,19,38,30,42,34,18,23,22,31,24,29,29,28,30,31,17,23,33,26,38,29,17,35,22,37,29,38,47,35,33,17,52,29,26,47,21,18,26,42,18,36,33,21,29,25,35,31,31,27,22,17,39,27,22,30,24,35,22,46,28,28,31,24,40,27,50,30,26,17,41,19,26,19,33,42,37,23,23,34,50,33,32,28,34,29,24,35,41,34,27,25,33,32,39,31,40,35,17,23,36,34,34,32,33,18,23,45,30,35,38,18,26,41,18,34,32,27,27,42,34,26,25,49,43,35,33,22,35,44,19,42,27,33,25,37,40,31,33,21,21,23,37,28,39,32,22,18,41,37,21,40,28,21,28,18,27,22,35,23,41,21,17,18,31,38,25,32,21,22,34,23,19,26,28,20,28,23,41,23,29,35,42,28,27,29,36,28,20,29,18,34,42,36,26,22,25,29,21,23,20,46,17,18,22,47,19,46,34,17,28,37,31,35,27,39,29,20,35,24,24,33,30,32,28,33,30,20,25,36,32,22,31,29,30,34,39,26,43,40,40,22,47,20,20,36,23,22,27,40,20,27,27,38,41,41,22,43,29,34,24,26,37,28,20,26,32,35,41,43,25,36,21,32,31,30,25,30,26,34,33,38,50,35,24,26,35,39,27,17,23,26,30,24,33,38,26,26,27,26,23,44,33,30,25,32,18,38,40,31,51,19,29,28,42,26,44,41,33,26,39,32,41,32,24,17,26,17,20,20,22,31,33,33,31,34,27,38,18,31,27,46,35,24,18,28,26,44,38,17,39,24,32,31,37,22,23,24,28,40,39,30,17,31,23,47,28,41,21,32,29,18,23,29,22,18,32,34,34,36,23,29,22,31,49,32,26,23,19,33,46,21,35,30,28,34,43,37,27,41,30,28,37,33,31,40,19,21,41,31,28,25,30,38,32,28,33,38,36,17,45,46,39,29,32,33,30,19,34,33,18,20,32,28,23,22,40,28,23,42,42,18,28,36,17,43,46,42,34,29,34,47,38,29,30,31,26,32,31,39,32,26,44,19,42,45,32,30,27,34,23,39,19,30,28,26,21,22,24,25,21,32,27,24,28,36,27,32,36,37,27,28,28,30,33,34,23,23,24,27,26,45,31,18,35,37,34,27,20,25,23,26,36,29,21,32,25,27,33,40,44,21,27,38,32,29,32,27,32,24,28,45,42,18,36,36,34,28,26,48,19,29,36,50,37,21,36,35,24,48,49,47,36,37,30,22,31,40,26,32,43,30,24,34,28,17,28,31,41,44,29,18,28,21,29,24,33,27,21,28,20,26,30,30,23,30,34,37,17,26,18,26,26,29,36,39,36,31,38,25,47,32,34,23,25,26,31,19,29,28,27,30,41,24,46,29,44,18,28,30,45,26,19,34,46,18,34,52,49,24,39,37,24,41,29,33,48,19,31,21,26,31,31,23,28,18,41,21,41,33,42,26,33,31,29,38,39,29,48,32,42,24,38,32,37,42,46,35,31,30,26,19,22,19,38,35,21,33,39,18,26,33,31,45,40,33,40,45,29,32,28,39,34,36,31,27,32,37,37,21,19,26,32,31,43,36,50,28,40,18,29,41,17,26,18,30,27,29,26,32,32,29,52,50,20,29,50,24,26,46,40,33,17,47,37,32,19,27,36,39,31,27,22,29,25,30,28,37,35,32,27,18,42,22,21,40,36,34,47,28,22,28,29,35,21,18,30,43,36,34,18,31,26,33,23,33,32,30,26,31,26,43,27,24,34,26,30,35,32,32,40,44,46,20,25,23,27,33,29,19,25,33,22,32,40,40,30,29,21,28,24,26,18,29,43,43,27,25,30,17,34,18,39,26,43,34,37,20,33,28,22,30,22,42,47,23,17,36,17,36,19,35,32,38,18,28,31,38,44,26,24,29,38,28,44,52,28,29,35,27,25,37,32,23,42,19,29,24,27,42,22,27,36,33,45,29,18,17,31,28,27,24,33,19,24,38,47,20,25,22,33,34,26,32,24,27,32,30,30,21,27,47,36,29,28,34,42,34,29,36,33,26,22,26,25,20,29,38,28,35,25,21,18,30,38,28,25,28,32,31,22,18,37,41,27,28,37,26,41,36,18,43,35,18,28,28,44,41,33,22,19,38,29,37,32,27,27,36,39,19,22,45,23,38,24,19,36,30,23,20,18,32,24,32,43,32,30,34,22,23,25,27,24,38,23,25,27,38,36,27,28,41,28,20,18,30,46,24,20,44,42,23,30,21,30,19,27,36,35,36,32,33,22,27,53,35,29,23,21,51,39,30,31,30,31,43,31,19,37,30,20,24,32,31,40,49,40,35,33,42,20,47,23,25,37,22,27,18,40,19,18,24,45,34,38,31,24,30,50,36,21,45,29,30,29,41,19,26,18,44,22,23,30,35,33,29,26,25,50,44,34,34,22,31,24,24,24,41,31,44,25,24,27,39,29,31,32,34,39,22,31,38,43,23,35,45,20,31,36,28,30,25,26,38,20,17,31,33,37,23,30,28,25,22,27,26,28,23,35,26,49,26,21,28,30,26,28,37,35,30,19,23,29,22,23,39,23,27,25,21,32,20,32,26,37,24,29,23,30,25,24,34,26,20,27,28,24,17,43,24,33,48,29,45,32,51,21,34,36,28,18,33,20,40,27,18,29,31,22,35,37,19,28,36,47,40,26,27,47,21,22,35,30,25,30,22,28,22,25,32,39,30,18,29,31,33,29,20,32,27,32,43,23,38,34,20,34,18,21,28,37,39,19,25,43,21,37,30,32,46,27,38,25,31,19,28,35,24,32,39,30,28,32,26,21,26,28,48,17,17,21,36,22,32,26,31,18,31,21,31,34,32,41,30,41,34,23,23,32,19,22,33,29,24,46,33,26,22,23,20,22,23,32,19,29,28,24,49,28,38,40,41,24,32,34,27,47,22,23,23,25,34,17,27,26,28,25,22,33,29,25,26,33,18,44,25,47,27,28,39,24,26,24,34,23,40,25,17,42,17,32,28,26,38,30,17,32,30,33,38,17,34,22,42,30,17,39,20,28,19,28,21,48,17,25,25,24,26,27,25,27,39,28,33,21,35,23,26,24,36,37,36,32,32,19,27,23,28,32,29,26,22,25,41,23,19,21,29,27,41,28,49,37,32,19,19,36,35,44,35,18,21,27,20,18,24,22,44,34,33,23,25,30,35,34,48,31,51,34,41,36,17,36,17,36,18,38,27,29,37,24,28,24,27,29,32,26,32,43,32,19,29,35,29,29,18,35,23,35,17,33,45,28,24,25,28,34,39,32,26,32,37,32,21,36,28,29,45,34,28,24,21,33,42,39,27,33,26,20,48,35,31,37,25,45,17,21,27,26,34,46,39,35,26,22,36,21,27,31,24,33,20,43,20,29,32,21,33,19,27,31,42,20,22,31,21,48,33,22,33,20,25,30,23,30,41,37,48,29,25,20,29,30,46,24,19,39,35,28,32,20,27,33,22,19,34,37,42,28,36,24,19,22,35,23,28,44,19,34,29,22,26,24,21,31,17,31,36,52,21,28,25,28,28,30,22,20,23,32,32,39,34,36,23,23,34,52,45,32,22,19,44,29,18,27,35,26,43,28,21,31,34,36,31,26,25,33,47,43,45,28,18,23,41,35,21,31,43,23,33,25,32,40,53,22,31,24,18,20,28,32,32,45,19,26,27,42,22,23,33,31,17,35,25,40,48,19,41,18,33,44,37,18,34,34,37,30,40,36,42,29,24,36,40,28,34,33,24,35,34,26,24,35,48,22,21,22,29,30,34,32,17,29,24,40,21,24,31,28,25,24,24,35,25,27,25,20,28,39,20,39,32,23,24,28,21,26,28,39,28,19,28,33,25,22,40,36,48,50,34,36,30,36,18,33,23,32,43,39,40,43,44,20,36,37,17,23,39,18,42,40,40,35,31,28,31,19,39,32,41,48,38,31,22,42,42,41,28,38,43,22,36,34,30,19,34,27,22,25,20,19,19,27,18,24,27,34,34,43,30,24,37,18,38,27,27,25,26,43,25,42,45,28,38,34,32,17,44,37,44,35,32,27,36,17,31,29,31,32,41,29,30,34,28,28,49,23,26,20,28,26,34,24,37,33,43,36,38,40,36,23,32,28,31,50,36,34,23,40,17,28,28,30,18,34,34,22,19,27,29,34,39,34,24,20,21,34,24,30,24,35,23,44,19,44,27,40,20,25,19,36,34,22,25,27,27,23,30,21,22,19,26,26,21,25,43,33,45,30,40,27,43,25,38,36,33,20,25,29,30,21,29,23,38,32,38,26,24,35,25,34,33,27,48,24,33,21,37,25,25,25,51,17,41,39,40,29,39,17,28,32,18,39,33,41,34,26,21,48,24,22,29,38,36,29,29,19,27,36,30,33,20,24,50,32,33,24,28,26,42,38,20,24,29,23,25,19,32,41,18,35,19,43,32,22,18,25,27,42,24,45,29,43,25,32,29,30,23,20,33,34,30,31,17,28,27,40,37,35,26,33,20,17,48,19,28,24,25,31,30,18,35,36,27,17,17,42,37,40,43,26,24,20,36,30,18,24,43,19,27,36,31,44,39,46,19,47,45,31,35,20,33,33,20,26,39,25,34,19,33,20,22,28,26,32,33,37,18,50,27,36,37,40,47,39,24,33,27,17,28,21,17,37,31,18,20,31,26,43,27,23,36,44,21,36,34,48,39,29,21,22,32,18,20,41,41,23,42,35,25,32,26,40,30,19,35,20,20,33,24,28,21,29,34,42,24,24,24,37,28,44,34,21,32,31,36,34,30,24,29,25,21,30,22,21,21,28,36,30,35,40,27,53,40,34,33,29,27,28,30,32,19,31,27,23,35,35,21,29,38,21,30,32,42,35,18,32,33,28,38,22,34,24,28,43,26,27,22,40,37,37,27,42,44,33,25,32,33,29,17,34,34,32,24,25,26,27,35,30,36,38,48,36,26,41,42,30,45,24,30,27,22,37,45,32,28,40,38,36,24,24,19,37,38,45,44,20,29,47,19,30,28,33,40,29,31,25,32,24,32,29,18,29,33,22,24,20,20,53,34,31,25,49,27,26,39,43,36,31,38,50,28,23,32,17,19,32,25,41,27,32,34,33,42,33,27,19,35,33,35,29,31,34,35,40,27,28,44,19,35,49,37,31,43,39,23,37,25,23,18,19,44,23,25,23,23,17,31,33,47,41,37,26,38,28,30,25,22,28,43,18,25,47,17,37,40,37,29,37,37,36,31,24,41,49,17,44,38,18,42,28,42,31,38,49,35,39,30,31,20,31,31,21,22,21,22,27,23,25,19,21,50,31,35,31,19,27,30,26,42,24,35,23,31,37,28,21,45,29,39,40,44,23,23,18,33,26,41,26,25,38,36,37,29,39,18,34,29,51,22,24,39,21,36,29,38,30,28,21,46,49,35,36,20,28,28,36,25,18,18,28,31,33,25,37,23,24,31,30,35,32,34,17,37,35,24,30,28,36,18,29,26,35,24,26,30,30,39,24,34,17,38,29,30,23,39,18,39,35,28,28,38,40,29,27,32,48,30,47,22,32,24,26,20,26,22,34,41,28,23,31,24,36,17,31,22,30,25,32,42,32,36,22,35,49,30,34,45,37,28,20,30,25,32,31,25,32,30,35,32,26,19,43,41,43,39,25,36,34,29,21,29,51,31,46,28,21,32,40,30,40,18,44,19,36,45,48,29,39,29,35,29,32,38,25,22,44,28,34,34,35,17,36,30,20,42,38,20,49,32,31,29,25,23,34,26,23,40,22,22,24,38,24,37,20,19,34,24,24,45,37,36,31,23,27,28,37,31,21,32,41,21,31,34,34,50,34,17,28,20,34,32,36,41,27,30,20,32,27,32,42,26,29,19,53,25,24,25,25,40,17,25,34,35,28,33,30,17,36,25,24,20,26,17,25,24,35,33,42,25,24,35,34,35,26,24,26,28,38,33,26,32,41,39,22,28,20,38,38,31,33,41,38,30,43,22,26,17,30,39,18,22,37,24,31,31,21,30,33,20,29,25,30,27,29,30,31,32,32,34,30,37,44,23,17,34,42,19,33,31,31,17,37,26,33,25,30,21,22,23,20,34,29,39,24,31,36,27,22,31,20,43,33,44,37,42,33,26,31,28,25,27,34,28,39,42,32,26,38,24,26,40,46,37,30,38,34,29,28,25,24,32,35,35,46,39,22,21,29,26,32,27,20,34,41,35,28,34,36,22,20,34,31,20,31,19,19,28,27,28,26,19,29,23,29,20,25,43,31,37,39,50,17,54,39,25,22,21,27,34,17,19,41,18,19,22,42,28,20,25,23,23,29,17,38,48,38,37,26,30,22,20,38,33,36,28,26,27,29,38,29,19,43,21,32,29,50,39,41,24,35,38,39,27,33,32,32,20,30,32,27,26,25,40,52,20,37,31,20,21,23,17,33,28,32,26,39,33,30,28,47,35,23,44,43,42,24,31,28,30,30,25,23,20,29,26,29,28,31,17,41,46,43,31,27,31,21,23,40,36,23,42,31,29,34,26,17,33,33,25,30,30,50,34,20,30,18,38,30,42,21,28,23,23,31,36,33,38,26,32,31,30,35,41,29,27,27,22,43,45,29,25,20,28,34,23,32,20,31,21,23,24,31,34,28,29,24,43,37,34,36,28,18,34,26,38,25,27,30,21,35,24,38,27,39,25,48,27,32,24,18,23,20,34,40,48,37,25,28,51,25,20,53,35,21,32,35,40,18,23,36,25,33,39,24,28,23,36,33,53,42,28,23,28,18,17,20,45,30,45,32,36,28,40,28,35,34,40,47,19,33,23,29,21,40,23,25,20,24,28,18,39,46,27,28,37,26,26,29,20,34,33,44,43,26,21,19,28,22,18,39,26,29,32,33,34,28,29,39,46,19,31,20,48,45,23,32,32,19,33,38,33,30,26,27,39,26,32,39,20,21,38,21,41,27,31,23,27,39,21,37,18,34,29,33,36,36,23,32,39,17,19,23,25,37,35,33,35,34,36,38,33,27,47,18,23,36,34,45,29,46,27,52,22,35,28,42,41,30,40,25,27,54,24,35,26,33,29,36,52,36,22,36,27,28,34,34,25,31,32,45,33,22,22,40,38,24,34,19,18,33,27,38,51,33,33,34,32,37,38,36,38,20,30,33,26,31,40,18,25,46,24,35,36,18,33,32,20,36,37,42,24,48,30,17,37,36,46,43,25,30,35,36,25,45,36,18,24,24,26,26,35,25,49,38,22,18,26,33,28,32,37,25,24,25,22,52,23,36,27,24,46,20,17,20,21,43,19,28,43,42,25,24,26,34,25,24,32,34,28,17,36,22,24,35,31,27,24,20,41,38,45,20,29,37,21,39,20,21,24,33,36,34,37,29,51,23,34,24,31,51,36,17,52,37,22,31,44,39,48,25,23,37,26,49,42,18,18,30,18,39,18,45,27,33,29,24,36,28,20,28,35,36,35,21,19,32,43,35,30,27,35,20,24,18,27,47,47,26,31,20,27,26,40,27,36,35,17,22,33,29,26,51,37,18,47,24,31,45,27,20,23,24,19,29,29,35,18,35,29,30,35,32,33,22,22,25,23,21,24,22,43,39,31,43,25,44,25,20,30,39,44,38,25,24,25,37,28,32,41,18,37,42,39,27,31,31,42,40,37,40,49,39,22,47,35,33,35,35,24,51,25,18,40,32,45,26,34,22,37,26,20,41,32,21,37,33,33,23,27,17,31,53,22,39,36,31,28,28,22,23,35,18,29,23,28,35,26,34,34,20,38,42,40,30,38,31,41,37,36,35,41,27,21,36,41,41,28,33,18,28,24,51,26,24,20,28,52,33,21,24,38,29,38,17,45,22,33,43,38,38,21,18,39,25,27,24,35,17,29,19,33,37,24,23,20,33,36,22,31,23,38,22,17,30,26,34,42,22,18,30,32,32,33,24,33,32,31,30,30,28,30,30,29,38,22,36,42,41,41,35,34,23,33,23,49,20,37,31,31,17,26,30,27,20,18,45,34,35,34,22,22,25,25,31,25,48,30,32,32,17,31,28,25,21,23,31,41,37,41,30,25,33,19,37,33,31,54,36,33,34,20,32,34,31,38,23,51,24,29,23,17,40,43,30,39,22,30,27,40,35,19,28,26,36,47,35,24,31,17,18,25,38,42,28,20,33,28,25,30,37,35,31,38,31,30,34,28,21,46,27,26,39,40,41,39,35,21,28,42,19,36,33,20,21,26,23,19,31,44,27,17,32,30,46,23,17,28,26,17,36,28,28,36,35,31,30,38,29,32,33,32,30,21,21,43,28,21,27,27,20,40,30,33,24,32,28,43,17,22,32,50,22,40,17,39,38,29,34,37,24,23,31,26,39,20,21,25,37,33,38,39,34,48,38,33,17,30,26,29,34,38,28,29,26,23,27,19,25,34,40,28,34,35,23,37,31,21,28,30,36,32,20,43,27,20,18,26,26,31,37,29,45,25,19,23,35,18,29,24,27,38,41,38,24,35,30,41,30,27,37,22,46,25,33,35,26,32,28,25,38,38,33,24,21,35,21,17,31,18,18,20,18,27,30,33,19,40,29,26,43,41,31,22,22,31,24,27,19,23,27,32,33,31,44,42,31,24,33,25,29,23,29,44,17,31,35,24,32,31,36,26,21,28,44,24,35,23,38,20,18,24,33,46,28,27,37,20,39,28,46,23,37,23,17,31,27,20,31,42,24,33,38,34,51,26,39,32,26,22,31,34,20,50,30,50,24,28,35,36,30,23,31,22,20,30,31,24,39,24,36,21,27,29,23,28,22,18,41,29,31,29,19,51,41,46,35,27,32,32,26,25,47,32,34,36,24,17,39,26,35,34,25,36,21,24,18,27,24,19,34,42,47,19,35,49,37,27,42,24,37,32,37,27,26,39,39,23,37,36,51,30,19,32,28,29,37,18,31,22,49,21,30,29,37,34,22,46,33,41,20,45,37,34,38,35,38,39,31,22,22,24,32,23,34,24,33,30,31,47,36,41,32,17,31,24,26,26,25,25,37,50,25,21,41,28,37,50,39,38,36,27,35,33,29,21,32,28,35,20,39,29,29,34,39,48,43,49,33,40,28,26,35,30,19,27,39,35,37,27,38,47,37,36,51,23,42,37,41,49,17,33,23,32,18,29,47,33,24,27,41,45,32,37,37,19,20,26,24,30,32,18,34,41,28,42,23,25,34,21,33,24,30,37,44,26,30,29,23,29,23,32,51,29,37,45,31,24,24,29,36,23,24,25,34,32,28,23,25,32,38,45,27,31,21,29,23,39,36,18,21,25,18,32,30,25,33,29,35,35,25,35,24,29,20,18,22,28,37,24,36,25,36,51,35,22,42,20,33,31,44,27,26,47,44,27,20,32,36,19,21,20,40,31,32,24,30,22,17,25,26,38,32,19,30,31,20,52,31,29,35,38,30,26,24,26,31,18,34,42,51,35,27,39,38,28,29,24,35,41,32,31,42,30,28,21,17,29,25,28,27,41,35,38,27,23,21,23,26,28,30,30,23,26,23,47,28,34,25,34,33,28,26,19,29,19,23,27,33,43,29,37,21,30,24,26,28,45,42,32,22,34,23,39,25,40,30,22,42,27,40,26,25,49,17,34,47,49,32,27,24,20,25,27,29,18,26,31,37,23,44,18,24,35,45,29,42,25,29,26,48,22,30,44,34,25,30,31,36,42,34,24,24,19,30,43,23,17,29,41,34,24,28,26,48,33,33,27,24,31,30,24,22,28,36,45,22,23,30,33,40,32,30,29,18,33,25,31,35,31,24,21,27,36,33,41,47,33,33,34,26,31,22,17,33,32,33,20,20,26,36,31,25,30,36,21,36,23,21,31,33,23,29,42,24,30,26,21,29,24,18,28,43,17,32,23,17,23,29,35,24,36,35,39,24,22,51,26,33,27,19,29,28,29,30,21,45,29,30,40,26,27,41,32,28,37,31,39,21,20,22,29,46,23,24,17,34,27,24,30,37,18,30,23,40,20,17,24,25,30,32,36,47,18,28,48,27,42,42,41,23,33,30,46,23,29,18,26,28,35,31,29,40,30,38,21,36,25,34,17,21,26,26,22,36,21,35,38,40,27,20,26,20,29,17,27,27,37,30,27,53,29,22,35,28,24,22,37,22,29,35,37,30,34,27,21,32,21,25,40,40,40,22,42,42,18,25,43,35,37,34,32,44,19,47,45,36,24,39,18,32,29,28,26,33,22,33,28,30,35,38,45,41,20,44,30,21,21,18,33,30,41,30,26,24,44,45,22,19,29,25,31,26,31,30,27,20,31,20,27,17,21,34,23,33,22,31,26,31,23,19,38,25,31,48,33,37,27,39,28,24,32,45,50,25,37,34,27,37,28,19,31,17,29,26,43,36,39,20,40,20,35,37,24,26,35,33,33,27,30,23,34,46,31,18,38,42,23,25,17,38,20,30,21,29,38,36,18,20,40,22,17,31,27,26,36,32,42,31,34,37,41,31,35,35,17,35,30,49,22,20,40,30,22,29,25,34,44,33,25,26,25,32,43,28,24,40,36,22,23,29,23,31,22,21,30,34,36,36,23,27,21,41,39,24,34,30,37,31,45,36,20,31,29,41,23,29,28,20,36,36,17,19,24,28,34,29,32,31,38,37,36,25,26,47,27,37,38,36,22,25,27,21,28,18,23,29,32,25,33,38,28,20,35,30,35,44,38,30,19,23,46,38,23,33,42,27,17,22,26,37,39,26,20,29,25,25,25,34,25,29,35,33,21,28,35,32,41,29,35,28,44,23,24,27,35,45,25,38,29,20,35,30,41,31,47,29,17,46,32,36,33,53,23,26,31,20,43,27,27,36,30,20,32,21,23,22,25,38,26,24,28,26,17,39,39,50,33,18,42,25,30,27,29,18,34,25,48,42,32,29,43,27,36,43,33,27,29,27,31,43,28,42,46,32,20,24,24,39,28,30,27,22,31,28,33,24,33,40,23,24,30,37,42,43,28,18,27,40,44,35,25,22,32,33,28,23,34,27,29,37,38,29,25,19,31,33,29,46,33,27,32,32,27,40,27,19,29,28,28,41,34,45,28,35,40,23,31,45,39,23,41,30,27,28,28,41,40,37,26,30,23,37,50,20,27,34,38,21,27,45,32,34,21,39,26,40,17,42,34,28,24,24,27,18,21,31,22,32,28,24,28,40,17,32,30,31,29,41,30,24,23,19,27,18,24,32,28,20,23,20,35,36,29,28,31,22,29,34,22,18,27,22,27,35,26,19,35,30,40,32,28,29,41,23,36,26,39,26,39,34,28,40,24,36,46,38,22,31,41,32,37,41,24,45,46,21,40,29,41,18,23,30,21,42,41,30,28,43,40,27,18,43,23,27,34,30,32,35,26,23,31,37,21,44,18,40,24,40,23,22,52,31,25,46,31,28,21,23,44,20,24,35,33,27,33,31,24,23,17,31,32,36,21,46,37,32,42,27,20,28,37,27,22,24,48,32,21,19,20,26,26,28,21,46,24,30,34,25,45,27,27,28,17,20,32,26,37,19,31,27,38,33,23,30,32,24,41,28,32,34,44,22,17,25,24,30,26,23,29,26,35,20,40,42,19,34,45,37,39,22,32,17,54,29,32,29,28,32,29,40,32,20,25,36,32,21,40,27,28,29,22,25,29,20,20,39,30,38,17,25,26,33,32,33,50,28,20,31,27,25,23,30,25,22,29,18,22,28,37,23,31,31,50,31,30,35,29,25,21,22,31,21,26,25,27,27,37,21,32,24,22,20,22,23,27,37,43,21,47,22,26,20,28,29,36,28,21,45,35,17,31,21,23,30,32,36,30,32,26,29,35,31,39,29,38,34,27,28,49,24,28,26,34,19,41,31,50,36,40,25,30,22,31,28,21,36,28,53,20,28,25,28,22,28,28,20,19,22,31,34,28,20,35,27,18,35,25,44,36,23,21,33,20,33,33,25,38,23,21,30,22,27,27,32,37,46,22,30,45,28,38,32,25,38,38,24,31,25,38,19,19,20,37,42,50,50,24,39,32,17,46,25,42,52,35,26,24,30,29,31,37,30,29,45,43,29,40,30,28,52,30,30,31,38,20,17,22,22,30,30,38,32,18,31,38,34,28,26,44,34,34,22,20,29,24,33,46,34,30,41,28,39,32,27,32,22,36,22,40,28,21,18,21,32,30,34,24,19,42,24,20,45,38,34,42,25,22,31,20,31,34,28,22,33,39,22,22,35,41,18,37,22,27,24,29,27,28,20,20,18,30,38,39,41,26,29,30,39,44,40,38,34,21,36,29,33,37,25,18,37,38,36,17,29,18,23,26,33,47,22,36,17,33,30,42,38,28,18,31,35,18,24,51,19,29,26,27,31,32,25,39,35,25,17,34,32,27,29,28,28,35,36,25,26,33,21,39,27,29,42,24,30,23,31,18,40,32,35,24,32,30,32,30,21,33,31,40,29,36,29,26,23,18,26,34,39,17,34,19,34,51,39,19,21,19,36,54,27,27,20,34,42,36,28,25,33,38,21,36,24,31,42,50,37,25,23,34,20,39,18,17,30,36,21,31,20,36,43,26,41,30,26,30,26,40,22,22,23,32,30,31,28,21,31,37,35,29,29,39,38,21,19,23,26,28,33,33,29,22,39,30,28,28,28,29,28,27,42,24,28,23,50,30,22,19,25,17,35,35,33,17,18,30,20,45,19,27,52,35,28,24,33,41,36,31,28,22,40,18,35,25,32,26,36,26,38,35,17,20,24,25,28,30,42,28,19,34,19,31,25,29,37,26,50,25,30,18,29,47,40,36,23,31,28,22,36,41,33,27,50,36,30,28,34,38,33,38,23,41,23,35,47,18,21,34,36,17,27,32,18,23,34,23,26,33,25,40,27,37,17,30,24,20,38,38,52,22,17,27,40,33,20,24,26,46,26,22,24,34,29,28,29,39,28,26,27,42,31,18,40,51,22,30,38,22,42,45,31,22,18,32,40,43,33,36,25,24,23,32,29,24,37,28,22,32,33,35,17,36,29,26,21,19,23,24,31,29,29,21,24,24,27,33,27,34,37,26,21,31,31,30,39,34,37,40,30,33,28,31,47,36,28,21,32,23,29,27,43,27,26,30,32,28,23,23,24,33,39,20,23,17,43,31,34,39,35,22,38,23,21,19,31,35,24,26,18,20,37,37,23,42,37,21,38,30,28,42,29,39,29,47,23,21,24,32,23,29,28,22,31,35,24,18,53,25,41,37,43,31,19,38,22,33,39,26,28,36,37,21,46,19,37,30,35,22,36,26,21,22,27,22,33,31,37,33,22,29,39,41,22,49,34,46,49,43,17,38,41,28,18,31,29,17,39,25,30,26,29,48,25,39,20,33,18,27,51,40,39,31,42,34,37,35,36,38,25,32,32,42,32,34,19,17,36,34,41,29,27,32,38,28,22,27,37,28,33,48,40,29,29,29,34,29,19,53,27,30,40,36,23,39,23,27,26,24,34,26,46,30,32,19,22,30,18,20,26,35,19,35,20,18,38,34,29,17,17,35,19,36,23,37,23,20,45,31,27,24,25,35,31,31,34,29,22,36,29,24,33,21,31,28,41,17,40,35,28,46,27,31,34,25,41,24,44,46,38,39,25,18,34,38,22,38,37,20,37,42,46,25,22,34,21,24,29,22,35,40,30,26,20,40,21,40,19,35,19,29,48,45,32,22,45,40,36,34,33,32,23,33,21,23,33,25,48,46,44,41,33,25,27,28,32,35,20,31,29,27,21,22,20,39,22,26,32,32,30,37,22,29,26,26,45,28,20,24,28,19,33,33,36,38,22,28,28,46,50,46,50,33,17,31,30,29,20,18,24,24,39,33,41,24,20,29,30,25,38,17,24,35,35,23,34,33,32,44,28,37,34,23,41,26,48,18,32,29,21,42,24,35,44,37,39,19,19,20,39,35,33,24,39,34,29,24,28,28,19,21,27,35,22,37,41,40,28,40,27,21,21,47,36,20,36,24,24,48,34,47,28,31,36,34,18,34,35,47,25,38,47,42,36,37,38,29,20,47,37,20,19,26,24,21,24,26,30,28,28,33,30,42,32,31,43,19,34,27,20,27,43,41,28,36,30,35,19,19,34,34,46,18,29,34,30,23,32,32,37,29,20,17,51,41,47,36,26,35,26,29,26,22,35,27,18,32,23,34,28,28,42,45,22,18,28,25,42,36,44,40,20,39,30,41,33,41,23,35,40,44,27,26,31,40,37,30,18,26,31,29,37,30,44,37,26,20,37,18,40,41,34,21,42,27,23,26,23,35,51,26,21,36,24,26,41,29,20,18,24,36,29,35,21,33,35,17,25,25,27,36,38,23,34,32,23,24,32,19,39,38,35,50,25,34,27,38,21,27,19,27,22,19,38,42,35,30,20,26,17,26,19,25,24,29,28,36,32,38,19,17,28,26,29,18,32,22,32,39,28,35,24,20,31,53,26,25,17,26,39,25,30,17,31,45,26,28,30,34,45,34,37,34,25,23,32,23,34,31,36,46,27,29,30,24,29,42,29,36,42,33,26,21,18,34,32,27,46,33,30,28,24,24,49,24,26,44,37,29,32,18,32,35,22,34,46,41,33,49,40,30,24,18,40,30,31,42,30,26,35,42,35,18,37,41,17,27,28,23,24,33,36,32,30,24,18,33,30,41,34,38,33,31,21,31,36,25,38,31,23,45,48,34,27,43,35,18,23,21,28,20,30,41,36,33,48,36,33,17,17,29,30,45,29,25,36,28,18,22,41,23,34,25,27,22,30,25,27,40,23,27,33,26,19,41,36,39,33,25,41,23,20,31,18,30,25,28,22,38,34,33,43,46,41,29,33,25,21,43,41,32,37,18,24,31,26,22,30,40,19,43,23,20,23,40,32,28,24,38,30,20,45,49,25,26,21,30,30,21,18,23,38,18,25,28,23,21,18,25,53,29,32,32,28,34,25,34,33,31,32,35,39,28,23,35,34,36,34,34,26,22,22,33,23,34,31,32,33,35,25,46,39,54,28,31,36,32,35,41,25,28,24,20,43,35,20,26,38,36,25,30,36,24,24,46,18,37,38,43,27,44,47,24,29,36,33,41,27,43,34,24,27,17,24,38,29,37,44,23,26,24,53,38,45,18,27,21,43,45,21,25,25,37,32,30,46,32,45,22,26,23,18,37,34,20,29,22,37,33,27,22,41,19,32,34,24,22,37,47,22,22,36,29,33,30,39,36,18,25,37,35,26,25,33,32,27,18,35,41,24,27,37,46,34,23,33,48,37,27,17,32,18,29,32,36,24,27,35,35,27,44,37,36,43,34,19,25,36,25,25,43,37,44,37,37,36,40,17,17,21,20,18,23,31,24,31,37,37,24,34,25,37,38,19,33,30,27,39,27,42,20,19,43,34,33,21,29,37,23,26,18,17,38,32,37,34,20,37,52,40,44,26,33,45,41,43,19,48,26,22,23,25,44,28,25,24,30,28,29,27,26,40,25,27,21,28,47,27,36,36,35,43,39,32,31,21,22,35,42,29,27,34,30,24,32,21,41,36,17,24,40,28,32,29,39,33,35,43,36,46,26,44,19,18,32,45,18,26,34,29,35,23,41,24,21,31,35,34,29,38,30,50,31,29,32,21,32,29,17,31,21,41,18,32,27,29,30,43,52,44,26,34,20,20,18,31,23,34,27,33,34,26,38,33,40,33,27,38,19,28,35,23,33,30,35,18,35,47,48,18,35,27,34,18,38,19,38,28,39,29,26,29,17,43,27,19,40,45,29,22,23,33,23,50,28,40,26,33,28,35,25,32,26,24,26,25,20,28,26,40,28,22,42,27,33,30,29,26,44,34,31,38,32,28,42,24,20,28,25,29,38,30,17,18,31,18,21,25,28,30,36,28,29,20,21,36,47,34,22,38,18,41,24,34,41,25,27,30,52,33,34,35,36,33,26,20,23,31,17,30,22,22,28,21,52,27,24,36,38,34,44,20,32,35,25,28,31,18,27,41,28,26,42,29,29,22,18,26,30,42,35,37,35,28,30,24,28,36,34,26,23,21,40,39,26,24,30,34,22,19,39,24,38,53,28,33,22,32,18,21,44,26,19,34,18,36,39,41,32,40,21,38,37,31,19,38,17,34,28,38,19,34,32,30,24,21,30,33,24,23,30,17,28,24,27,39,29,32,28,23,23,38,34,17,23,19,53,20,45,19,19,27,23,37,34,28,26,32,26,36,25,26,32,37,30,29,26,31,40,26,26,29,22,41,35,18,36,24,28,25,23,34,34,37,41,53,23,25,27,27,24,32,42,25,28,24,17,35,26,43,27,26,20,28,27,20,28,28,44,25,25,25,46,24,33,33,17,38,25,50,29,23,19,18,24,39,24,20,33,29,31,35,37,27,31,36,18,29,31,34,53,18,22,23,26,37,42,37,29,21,35,28,34,32,31,22,46,22,33,21,47,26,29,31,18,41,30,27,19,21,21,40,28,34,35,18,25,22,50,43,27,18,36,31,33,37,47,52,37,27,30,17,39,26,43,17,33,36,28,29,26,26,30,25,25,24,29,34,27,35,33,22,45,28,23,21,23,24,24,30,26,33,25,42,39,37,37,27,20,37,33,17,32,30,29,19,22,21,27,35,48,37,40,41,36,27,26,25,34,38,36,21,20,26,34,27,22,26,25,43,53,20,24,24,26,23,26,28,19,28,26,26,24,18,39,20,26,35,19,32,38,36,30,26,27,34,30,19,18,33,43,42,42,22,23,32,31,30,46,26,32,46,32,19,22,18,33,37,28,32,34,36,42,34,43,37,38,17,18,35,22,24,37,18,32,34,29,23,26,40,40,21,38,22,26,25,31,35,29,29,43,20,22,33,19,35,30,24,18,18,37,25,53,25,33,44,36,26,46,29,30,37,31,42,42,24,35,25,34,38,28,30,30,27,47,34,23,30,31,28,34,18,39,23,44,21,24,43,41,36,32,33,35,36,23,38,19,41,46,28,25,20,24,23,26,34,28,20,22,28,20,20,30,24,20,21,33,43,46,38,38,40,21,32,29,24,27,36,24,29,29,37,37,38,27,22,44,42,24,27,27,35,35,29,31,31,38,43,22,31,33,37,36,39,36,38,31,19,36,23,26,21,22,18,29,18,24,22,39,29,36,42,32,35,28,36,34,39,32,35,44,21,27,34,31,40,19,23,39,25,30,26,24,32,39,25,41,22,33,34,43,34,39,37,18,22,36,31,38,28,37,30,19,31,23,31,24,22,40,27,31,38,28,26,20,21,28,22,26,34,36,28,46,19,36,40,29,38,24,34,27,39,23,22,22,26,34,43,25,27,22,19,39,37,36,43,22,29,36,32,25,28,21,30,26,26,26,30,36,36,24,32,39,28,32,22,32,28,37,40,42,45,37,30,46,25,41,25,32,21,19,19,34,46,35,45,34,25,21,19,27,36,24,42,30,20,36,47,27,21,35,38,26,30,44,35,23,36,32,19,22,17,37,19,25,43,47,40,24,22,34,35,39,38,39,34,24,30,19,34,27,23,20,26,34,27,38,32,37,51,30,28,24,32,27,38,29,36,38,23,38,35,37,24,18,36,27,30,24,27,20,30,23,28,40,23,39,24,36,31,21,30,42,26,31,17,23,22,31,23,18,34,31,38,39,32,22,34,22,29,25,29,47,23,25,25,24,20,34,28,28,46,28,38,38,25,22,29,39,28,22,22,38,43,20,23,27,34,34,41,25,42,35,22,17,29,19,19,19,27,42,17,30,44,28,20,26,19,38,22,21,35,26,41,24,24,29,36,33,36,40,42,27,26,37,19,32,32,22,24,27,23,26,20,26,34,39,29,28,29,18,30,23,23,29,20,29,39,33,50,31,29,26,21,19,18,44,28,31,22,48,23,39,26,24,21,37,34,30,21,20,21,29,19,26,38,21,43,28,35,26,30,36,25,27,37,21,43,28,28,47,32,27,18,28,40,28,27,29,31,31,22,17,17,29,40,25,33,31,24,39,34,28,24,22,32,43,41,22,34,22,32,22,29,17,25,33,29,38,30,37,27,33,42,22,40,36,25,29,43,20,38,19,29,20,26,25,35,21,23,42,30,19,32,19,34,24,19,50,42,36,35,32,37,35,17,50,25,39,26,28,33,38,34,38,17,21,36,35,48,33,19,21,29,33,37,30,32,34,28,40,35,33,29,26,34,36,18,24,29,43,25,20,18,28,30,19,23,32,21,21,28,39,26,27,27,35,43,38,33,24,53,21,44,25,24,25,23,24,25,22,42,25,35,30,31,42,24,28,33,36,45,35,22,19,34,39,37,23,24,45,35,39,21,34,44,37,32,35,43,40,18,30,30,34,33,30,26,20,29,20,27,39,40,32,36,34,28,23,23,37,30,35,43,26,31,32,22,18,41,30,38,30,24,18,41,23,23,27,18,34,19,35,19,27,29,31,26,26,26,19,33,38,38,23,33,34,41,38,29,30,17,21,18,40,27,28,36,33,37,32,25,43,18,17,50,29,31,29,21,38,42,31,32,24,20,34,24,29,36,46,40,32,37,34,43,19,29,27,19,33,35,50,36,34,27,42,19,28,41,43,29,22,19,25,43,43,28,25,36,43,33,43,25,27,40,30,33,18,33,36,19,28,24,23,36,26,37,24,29,34,41,28,24,29,33,24,43,33,32,40,32,32,22,20,33,32,31,18,27,30,33,25,39,33,27,21,21,35,30,38,17,23,39,23,30,30,28,20,25,21,29,29,39,32,30,20,29,24,27,36,27,27,19,48,38,28,27,24,28,29,28,28,19,18,44,30,30,26,20,36,26,31,30,32,30,36,46,20,31,42,26,26,33,28,32,29,40,20,31,25,26,27,36,23,27,20,29,29,39,45,39,21,42,38,24,38,38,18,19,26,21,29,46,33,27,40,34,30,39,46,35,26,30,18,32,21,22,42,27,33,39,20,47,19,53,22,31,19,20,32,32,43,23,36,53,32,19,33,31,22,47,34,43,26,25,41,27,35,24,34,22,18,17,31,34,31,32,24,44,25,24,30,38,19,19,38,51,34,48,26,37,21,24,33,33,46,27,23,23,32,43,25,36,30,34,44,30,49,33,37,30,21,44,39,29,32,26,34,22,37,38,45,21,26,18,46,41,24,18,32,35,46,28,33,17,30,27,19,23,26,25,28,42,26,37,44,21,27,26,40,29,26,26,34,38,45,38,38,24,24,33,33,48,35,26,21,46,31,18,39,38,19,37,35,27,29,34,35,36,35,36,38,27,29,28,24,25,27,39,27,31,51,45,20,28,34,37,27,35,39,35,24,37,32,24,33,17,22,20,28,36,27,30,26,29,34,20,33,51,30,26,37,28,34,30,34,35,21,30,38,27,31,38,45,26,38,23,31,31,43,47,29,25,22,17,36,18,32,32,26,21,21,37,17,20,36,31,32,41,31,37,27,19,36,23,21,42,24,30,38,19,40,28,35,37,19,26,22,20,38,23,36,22,35,27,19,18,37,37,24,25,30,23,30,37,43,29,25,32,27,41,34,40,37,39,34,32,31,27,32,33,39,38,35,35,30,37,37,38,26,22,44,40,19,25,36,33,30,35,22,22,30,32,19,25,24,31,26,54,32,32,26,27,27,28,19,25,30,32,34,50,44,27,42,31,27,26,27,31,21,43,41,42,24,42,22,35,29,41,21,21,34,34,24,18,36,34,30,42,28,28,42,35,24,38,32,26,32,19,23,26,30,41,47,32,37,37,41,30,33,24,32,25,27,22,29,36,38,26,35,37,33,29,28,54,32,22,25,22,26,26,33,32,34,37,29,23,39,20,30,20,33,32,22,26,32,28,18,39,40,25,32,30,25,30,22,34,30,28,27,23,27,27,42,27,18,43,26,32,25,34,19,48,21,19,36,32,36,36,30,29,32,39,37,21,32,24,19,37,38,21,37,36,32,36,31,46,29,36,31,35,24,30,36,18,30,17,24,23,30,25,23,22,39,24,30,24,29,27,28,23,40,34,24,37,19,32,21,27,33,21,22,49,45,21,31,20,20,22,20,30,51,30,26,30,34,50,50,34,29,26,30,18,28,22,29,25,24,29,40,18,28,30,18,22,40,54,25,34,35,42,23,20,35,26,41,44,39,33,24,44,21,25,48,46,32,30,46,34,39,26,32,24,19,22,26,31,32,33,48,38,27,30,21,20,18,30,23,34,22,39,27,25,25,32,30,26,28,28,30,31,22,23,24,22,31,30,36,36,37,21,37,22,38,25,29,22,19,24,22,35,25,33,29,38,24,43,22,41,34,34,18,36,43,38,32,19,28,30,47,30,24,31,37,31,49,32,22,27,31,27,19,32,34,30,25,31,21,25,48,25,53,22,40,35,18,30,20,28,24,45,42,35,22,31,24,28,27,24,23,22,31,28,26,45,33,25,26,35,37,33,25,17,33,33,30,37,30,33,33,18,19,36,40,29,20,20,46,41,31,34,28,19,41,21,35,36,34,37,27,36,19,18,19,34,30,23,44,24,23,27,40,36,45,23,24,27,29,33,31,32,33,19,47,28,24,36,17,27,35,24,32,37,32,25,33,21,29,48,26,26,35,30,26,29,37,35,33,35,32,27,40,28,41,39,22,31,28,17,32,24,30,24,26,20,25,18,36,22,26,17,34,39,18,30,36,33,19,44,37,39,25,26,20,28,27,35,42,29,32,24,38,28,34,32,33,37,22,28,31,20,18,31,39,29,37,29,37,19,42,31,34,34,39,36,25,36,26,39,19,21,36,35,24,28,23,33,25,27,29,36,41,18,19,45,40,30,33,26,36,21,22,19,32,24,26,17,38,29,48,31,50,21,19,35,18,49,29,18,30,39,41,31,18,18,18,31,22,33,43,30,29,29,21,46,24,27,33,18,35,44,45,26,19,27,39,18,35,31,36,45,22,22,41,29,34,46,38,37,17,36,26,28,34,25,29,39,26,23,22,42,43,26,27,18,31,24,28,51,25,43,26,31,19,31,37,25,27,33,18,24,25,27,53,26,33,25,21,28,31,39,42,18,24,38,43,30,19,19,30,22,18,29,50,17,42,28,22,20,21,29,32,41,40,37,19,31,33,21,37,47,39,21,36,20,28,28,24,29,28,19,23,21,32,41,31,22,28,33,29,17,37,33,22,24,47,38,33,18,18,36,18,34,31,34,27,38,29,27,28,28,17,34,28,22,26,21,43,25,45,22,28,23,29,20,35,19,24,37,28,25,36,38,29,38,24,21,24,30,21,27,26,45,35,31,39,23,36,25,33,18,28,41,23,24,28,44,19,33,44,37,43,28,46,35,39,30,21,26,44,25,38,24,28,18,27,36,34,50,35,23,28,31,28,32,39,17,17,27,32,31,20,22,28,50,23,35,42,26,25,28,43,35,25,38,32,24,24,27,25,23,20,35,29,33,45,43,24,32,22,27,18,27,29,36,36,48,23,33,31,33,19,21,37,26,48,30,32,24,40,27,34,47,42,26,24,27,19,39,26,30,41,37,33,21,36,41,44,30,42,35,37,38,18,32,51,18,20,34,26,49,40,17,29,38,49,30,18,35,31,28,27,28,38,29,22,32,33,45,27,39,21,33,36,32,36,34,22,21,40,26,22,29,44,20,26,34,31,31,40,27,32,21,31,17,38,23,18,20,19,22,28,31,33,17,54,28,28,40,28,23,41,22,17,28,31,33,33,30,20,49,30,32,32,22,23,25,33,33,18,24,38,33,33,31,17,19,29,28,25,34,25,22,45,32,28,29,22,18,23,29,43,30,25,22,18,35,28,28,27,33,39,36,23,22,42,52,22,43,26,23,29,28,48,26,31,45,32,21,37,30,30,31,26,17,27,36,39,38,32,28,41,28,34,34,33,33,39,29,26,44,37,20,25,40,32,29,27,29,27,28,36,26,18,23,33,29,23,41,40,43,24,26,17,32,32,42,39,33,25,27,40,20,33,20,28,29,31,18,19,20,42,39,47,22,24,24,26,28,24,25,38,30,22,29,20,41,21,26,38,41,35,26,37,18,20,30,29,26,31,27,25,42,37,17,24,36,36,35,38,36,25,25,26,31,26,29,31,40,27,19,23,28,38,40,23,37,19,25,29,30,32,24,29,27,43,23,23,51,35,54,40,29,24,20,30,28,49,41,29,21,28,30,31,37,48,28,45,28,29,44,29,38,42,34,19,31,32,33,35,31,36,32,27,19,22,39,36,30,32,22,30,31,47,38,21,25,19,28,22,30,27,36,44,25,38,28,24,20,30,48,17,39,23,28,27,35,27,26,20,30,17,30,44,41,50,42,35,26,33,25,37,38,34,19,32,45,39,35,36,24,42,24,35,38,20,31,37,33,41,26,22,36,42,33,22,30,20,27,41,28,35,35,20,39,46,30,29,33,49,43,26,28,32,30,33,18,44,29,53,31,47,27,37,37,31,32,26,26,28,19,32,38,39,30,29,36,47,37,20,24,35,33,31,21,41,44,32,50,42,28,38,34,22,19,26,20,36,32,20,30,41,32,19,26,36,48,37,37,32,33,27,38,24,17,36,18,35,39,26,39,23,21,30,46,32,22,35,34,40,25,23,21,28,42,29,24,22,25,37,38,47,36,41,47,25,27,37,32,24,17,38,30,33,43,26,33,20,29,26,22,48,18,51,20,33,33,22,19,40,34,49,33,22,25,28,29,36,30,23,34,31,32,33,27,41,36,33,29,33,28,30,39,37,24,27,44,39,35,25,20,34,27,33,34,20,21,29,35,17,34,42,27,46,31,20,40,24,29,23,38,19,29,39,25,33,51,25,23,38,22,37,24,22,29,21,43,33,21,47,21,21,35,26,39,30,25,38,21,43,33,54,27,33,35,22,43,35,34,25,48,34,22,34,26,36,37,19,21,26,33,22,34,21,35,24,50,36,49,42,25,25,39,27,43,47,35,27,34,24,27,27,27,49,31,27,44,25,30,23,26,28,20,20,21,37,34,41,17,24,18,40,27,22,32,21,29,31,39,40,31,41,39,20,23,36,36,20,26,28,23,26,28,24,24,19,24,25,19,34,34,20,30,20,34,32,39,40,39,30,35,19,17,36,35,32,31,26,41,30,38,20,36,32,23,21,22,31,39,23,25,17,30,38,31,38,31,23,30,39,23,36,24,28,34,17,36,33,26,24,27,19,29,33,26,31,35,29,34,19,32,28,42,25,19,31,38,36,50,26,25,18,34,36,33,44,37,34,28,30,19,34,45,22,27,33,27,33,22,24,38,28,36,22,30,24,27,40,18,30,34,46,43,39,40,27,25,24,28,17,45,22,38,31,31,17,26,28,40,28,28,31,39,32,29,31,35,31,38,19,25,17,40,26,21,28,46,38,24,17,17,26,45,24,26,29,31,17,36,31,26,33,31,30,30,31,34,38,24,23,40,25,18,32,46,35,35,44,43,40,21,42,38,20,28,24,41,36,33,44,24,28,42,30,32,30,32,24,19,37,26,29,28,18,44,34,18,37,30,31,27,48,28,27,18,38,24,20,35,44,28,23,40,38,37,28,36,24,19,31,19,22,23,37,20,22,31,34,26,27,23,23,39,37,20,29,28,52,40,25,29,27,18,45,39,23,20,18,21,28,18,20,26,30,38,31,29,45,34,47,36,33,29,36,19,29,17,29,25,47,17,29,38,21,29,25,43,31,52,34,26,21,21,19,35,27,34,53,36,43,29,40,39,34,19,30,38,35,31,36,37,36,24,26,36,27,36,32,22,41,37,35,38,30,28,35,31,37,39,23,25,52,48,30,30,27,29,43,37,36,31,36,25,24,33,25,32,25,23,30,25,19,39,41,38,32,26,24,29,26,33,33,38,21,30,22,31,34,34,40,26,31,38,42,40,41,21,22,28,28,37,28,38,29,26,34,30,32,29,19,18,19,20,19,38,20,21,21,38,43,40,38,36,41,30,18,28,18,28,36,37,24,33,24,25,35,27,30,24,21,30,27,33,32,21,42,36,37,32,27,32,36,23,28,35,25,31,34,19,32,33,29,32,35,35,39,33,29,31,17,21,22,27,32,32,25,28,46,21,31,26,35,27,22,29,35,33,19,31,22,18,24,33,28,34,25,48,31,22,31,30,38,36,21,37,48,28,22,33,25,34,26,32,19,29,31,37,28,31,28,24,38,25,30,34,36,19,23,22,39,22,32,19,38,24,25,17,18,25,31,23,30,19,26,43,27,34,25,36,35,32,19,35,32,24,19,30,24,24,35,32,21,32,48,37,29,28,18,29,27,24,19,26,41,41,36,22,28,26,27,26,19,21,44,23,37,26,32,38,22,35,26,29,21,25,21,45,28,37,27,32,21,21,39,33,38,29,33,21,25,26,26,39,28,22,25,34,18,26,26,36,33,19,29,34,26,39,29,28,26,30,19,34,32,23,32,31,38,35,18,40,17,28,20,33,43,25,28,21,18,28,36,28,44,26,28,41,20,39,37,33,24,28,28,32,29,35,26,19,19,28,50,51,35,50,40,23,30,32,42,22,29,39,18,27,29,32,34,54,38,21,30,19,44,21,19,33,28,35,43,35,23,42,26,25,37,18,42,33,29,45,27,40,29,20,31,30,33,24,25,25,43,45,28,42,27,23,37,21,28,40,24,27,38,34,37,48,25,42,33,32,25,24,25,29,47,24,26,41,32,17,28,34,27,24,25,18,36,32,34,36,39,44,35,29,30,27,33,44,32,27,49,21,37,33,20,31,36,42,36,39,27,33,49,28,32,22,25,34,31,36,38,33,28,44,33,31,38,44,28,28,35,43,31,20,23,40,31,26,44,30,35,18,45,20,36,39,23,36,17,25,41,24,17,30,38,37,18,33,26,39,29,29,23,35,29,18,19,43,35,23,28,32,21,22,37,35,47,54,43,27,35,30,20,31,29,37,39,19,39,21,30,36,22,32,42,25,31,30,48,31,33,35,38,41,38,26,19,48,36,29,32,43,27,24,25,47,33,39,26,31,17,19,26,37,48,40,33,30,41,31,41,21,39,44,22,24,47,21,36,26,29,29,26,39,33,34,21,27,30,37,32,42,20,22,41,26,31,38,21,27,20,31,35,27,36,31,32,25,33,36,25,33,25,25,41,39,24,20,29,20,19,23,47,25,17,22,19,29,33,26,32,34,20,45,38,24,30,35,29,19,38,18,24,25,33,39,34,26,28,46,17,31,31,30,23,21,17,22,27,33,23,29,19,33,23,41,35,36,25,36,27,38,17,20,27,24,17,47,28,37,38,41,27,28,31,46,17,38,22,34,32,34,20,44,20,28,28,26,48,41,22,35,39,43,26,17,34,30,34,26,19,32,35,30,34,21,30,31,22,21,31,30,37,40,43,40,32,28,20,31,29,35,33,42,50,30,31,34,37,33,43,41,17,18,27,39,46,26,32,27,29,40,25,26,24,26,18,39,35,36,40,25,17,24,28,39,34,35,29,35,24,19,20,38,30,35,30,31,53,35,26,19,43,21,30,29,24,40,35,34,20,29,30,23,36,36,27,33,38,33,39,24,32,25,32,31,20,36,18,26,28,53,25,26,26,46,39,29,20,29,45,23,40,28,33,39,22,34,42,31,50,48,34,38,44,29,27,22,52,22,32,27,40,34,25,31,24,28,36,23,38,34,26,34,37,32,28,17,33,52,28,22,42,40,32,33,27,25,24,32,25,23,24,22,25,38,23,45,18,37,33,27,37,22,22,51,24,45,31,26,19,30,31,28,27,28,28,32,36,29,37,41,28,28,27,23,35,23,34,19,18,22,23,30,36,41,37,38,38,32,35,17,24,38,20,52,29,33,24,41,34,24,34,35,40,29,25,25,32,42,35,23,29,38,34,32,38,33,27,40,37,20,22,31,27,38,25,31,31,31,23,21,19,28,19,32,38,38,25,29,40,26,38,31,21,25,27,27,31,39,36,29,18,20,24,17,26,23,29,24,32,38,27,36,34,40,26,24,39,21,26,38,27,20,27,31,30,34,42,25,36,23,35,37,36,35,38,45,41,32,20,30,32,27,32,36,22,29,37,24,26,40,28,33,30,36,34,25,28,39,23,35,27,35,19,30,29,30,34,26,28,32,21,50,26,22,22,33,44,31,41,27,25,20,34,30,22,32,37,27,24,24,23,28,23,36,33,27,44,29,35,37,24,29,36,24,28,23,26,24,23,26,30,21,31,24,26,35,32,22,38,19,24,33,39,28,37,37,36,29,28,23,34,24,49,38,19,45,24,27,26,32,41,31,28,35,50,44,38,29,33,20,49,25,29,35,38,43,51,27,21,34,24,32,32,45,44,33,26,24,24,36,42,20,32,44,38,24,31,22,37,49,42,17,31,46,21,21,33,29,26,41,22,27,28,27,30,41,20,37,43,34,40,38,26,20,28,25,45,32,32,33,37,32,25,22,25,18,24,32,25,27,26,50,30,17,41,21,42,39,32,42,29,39,23,32,29,31,32,38,24,24,37,38,32,54,21,20,17,45,17,43,24,39,48,29,24,39,36,32,45,40,23,28,31,30,32,28,36,33,36,30,34,35,24,19,18,28,21,21,22,20,36,42,41,42,24,30,17,36,47,51,35,27,20,35,29,20,34,39,28,22,37,33,27,28,32,33,30,29,24,39,40,30,31,28,37,28,43,27,25,35,42,25,35,22,17,42,45,37,32,23,24,39,48,21,21,39,30,31,23,35,46,17,25,37,35,21,34,28,28,21,40,28,39,29,23,33,32,31,26,36,30,38,22,35,22,32,38,29,29,24,45,42,20,38,36,20,28,37,24,32,21,33,30,29,32,23,24,32,31,39,31,23,35,29,23,21,31,29,27,35,36,32,34,18,24,34,31,36,21,47,17,26,42,30,37,33,45,28,35,43,28,44,49,27,32,34,18,25,20,36,33,28,34,26,35,24,28,28,33,29,21,18,38,24,25,25,25,19,19,20,30,23,17,29,30,28,36,37,34,25,31,42,32,41,23,38,42,32,23,30,25,47,29,37,30,43,54,17,30,29,21,30,37,36,30,36,29,32,31,32,41,38,18,25,29,28,27,44,19,22,32,20,41,30,28,32,33,21,19,20,23,39,27,53,34,20,25,26,33,17,37,38,32,19,29,30,29,21,25,26,35,28,36,29,39,45,37,51,36,33,41,20,44,26,38,27,26,46,40,22,40,19,24,42,43,30,17,23,33,31,43,43,29,17,27,39,32,31,45,26,22,27,26,33,47,18,20,36,35,17,36,22,30,43,39,27,28,34,30,22,21,32,26,35,47,26,30,25,30,23,29,34,40,32,27,31,24,26,22,26,31,22,18,26,28,33,34,29,21,22,32,21,20,41,25,32,41,24,19,25,42,35,42,29,35,42,40,32,45,47,19,35,30,25,20,26,35,50,37,30,25,21,24,27,32,34,41,30,17,22,19,39,18,18,30,20,30,37,19,35,41,31,34,37,31,17,24,35,24,49,42,50,46,31,35,39,23,27,40,28,32,43,35,31,39,25,30,20,24,18,39,24,46,36,33,20,29,22,22,35,39,33,26,33,17,22,35,27,23,18,51,26,23,22,32,33,32,31,24,34,29,30,33,34,31,38,34,26,23,29,30,18,37,35,28,28,30,35,29,19,42,27,25,25,43,27,30,21,46,45,36,35,26,32,42,28,38,23,18,26,23,30,33,31,19,43,36,53,27,37,20,34,41,35,43,28,35,36,40,35,24,19,30,39,38,45,29,31,35,23,42,41,24,23,27,17,19,31,35,27,38,41,19,31,23,21,28,42,17,27,27,43,25,18,33,28,48,21,20,44,39,45,42,20,32,50,38,19,32,23,20,23,19,30,29,42,30,35,27,23,39,23,23,50,36,50,29,32,38,34,23,22,21,23,21,44,33,52,25,37,21,28,40,39,36,27,32,30,37,28,47,32,30,27,42,32,19,32,40,17,38,36,29,34,31,33,41,22,25,27,25,19,23,23,33,24,22,39,18,28,24,41,36,25,37,35,18,22,28,23,35,24,20,46,20,20,18,33,30,27,21,21,30,29,51,22,30,31,28,41,36,19,39,50,36,25,33,43,28,18,31,20,30,34,43,39,32,37,30,30,43,24,27,30,32,32,25,34,30,34,25,20,28,32,21,48,20,32,31,33,37,27,30,18,26,51,32,21,41,41,17,37,53,37,24,20,33,45,29,37,44,34,27,23,18,25,22,21,22,34,26,17,27,19,18,48,46,17,30,25,40,22,47,29,43,24,17,20,30,26,29,44,35,40,30,30,20,31,28,26,35,30,27,32,32,42,17,23,43,21,28,33,33,37,29,38,35,26,24,20,28,30,38,20,24,29,38,45,34,31,31,22,39,46,22,29,28,25,30,31,36,31,17,40,30,27,34,34,35,18,21,37,19,29,19,36,29,28,47,20,39,40,20,28,42,26,27,36,23,25,23,26,20,30,24,24,26,19,29,43,52,39,39,30,20,33,44,39,39,27,24,36,35,19,22,41,48,38,28,38,39,21,22,28,28,39,29,34,35,40,21,34,22,20,19,20,33,28,23,27,35,48,21,36,19,28,34,24,32,29,43,40,27,32,19,20,33,28,36,21,33,32,28,34,34,36,40,25,34,18,42,28,29,27,30,30,21,33,31,27,36,29,42,30,22,25,18,35,30,34,34,27,27,40,34,46,25,19,18,38,30,34,31,22,34,23,46,30,20,38,29,28,28,25,27,34,43,32,27,27,47,46,21,36,22,32,38,39,17,23,33,18,27,35,34,38,35,35,22,19,30,20,22,23,44,26,27,33,25,22,32,24,19,29,37,50,24,35,32,29,19,36,35,20,33,22,27,18,34,20,43,35,30,30,43,17,47,25,40,35,33,43,29,29,40,31,29,37,30,28,32,31,39,21,26,52,31,42,29,22,33,40,28,23,30,17,20,40,26,37,36,30,37,42,35,35,25,31,38,42,28,29,21,28,21,22,19,51,39,20,26,25,20,27,21,33,25,45,32,47,33,17,31,38,40,36,28,31,39,34,37,22,33,24,33,30,33,22,47,44,32,27,27,39,30,34,28,26,25,28,34,35,35,29,43,26,37,42,31,44,36,41,26,27,36,30,34,37,20,47,29,20,24,34,22,30,31,27,35,31,25,39,38,46,32,29,28,34,18,37,31,43,28,21,25,22,30,21,22,26,21,54,42,18,44,39,41,43,32,23,31,44,18,31,46,40,42,31,35,22,30,37,19,39,36,24,17,19,40,23,25,30,25,28,22,31,31,36,33,38,29,37,17,32,38,27,29,33,27,34,32,46,33,39,29,24,36,22,26,35,40,28,20,19,44,33,42,25,27,22,29,33,17,25,22,25,19,26,30,36,32,35,33,20,23,17,25,27,28,33,44,35,19,36,33,32,38,45,26,30,33,32,22,39,37,22,31,25,23,28,38,34,25,27,23,54,27,35,37,20,23,23,24,36,30,21,29,20,18,31,44,26,33,37,28,31,18,34,24,29,42,38,20,18,18,28,35,33,19,24,35,46,27,44,22,32,35,45,28,26,33,28,41,40,32,30,36,38,28,27,28,19,27,44,26,30,29,41,29,19,20,29,19,21,26,19,28,41,31,35,23,20,26,19,24,28,22,40,41,19,39,34,31,28,30,44,32,43,27,33,25,26,22,24,47,21,17,37,19,19,36,22,29,35,49,40,24,23,20,23,30,29,25,38,18,35,39,33,39,35,24,29,49,40,20,21,35,17,32,29,21,19,23,37,20,20,25,37,28,24,19,37,26,26,19,41,45,25,31,41,34,26,18,28,34,46,33,33,21,33,26,18,39,20,21,36,26,25,29,21,25,34,31,30,32,35,36,36,39,44,22,44,30,29,19,26,26,27,31,26,32,41,19,27,36,38,21,31,37,20,25,32,17,34,37,46,45,32,26,26,26,18,32,31,37,26,35,20,28,26,28,37,31,30,30,27,22,39,50,32,26,35,38,34,24,24,19,26,38,49,26,35,39,25,41,31,26,35,25,25,17,19,41,40,29,29,24,27,27,30,46,22,24,34,36,23,19,22,30,24,45,40,43,26,31,31,39,32,24,39,30,24,31,24,33,24,32,27,43,32,29,42,52,33,24,39,26,33,29,42,23,18,28,22,38,27,23,35,34,35,22,23,19,41,26,27,18,24,22,40,20,27,32,26,32,32,24,20,18,37,34,38,31,41,40,28,41,36,37,39,18,30,25,34,28,27,28,23,40,29,23,22,46,19,32,17,42,38,43,35,33,31,27,44,36,30,39,26,19,41,31,36,34,32,43,24,37,22,22,36,47,35,36,21,41,48,25,34,34,30,25,33,36,29,26,29,45,29,33,25,48,24,34,30,30,44,32,28,29,21,24,38,33,38,48,29,28,25,25,35,29,45,32,32,18,32,32,26,26,24,38,24,32,23,23,21,36,34,39,32,39,32,27,35,25,21,24,38,36,36,41,23,20,28,17,21,34,19,26,30,43,44,28,34,39,41,25,42,39,28,18,42,35,18,53,19,20,18,42,39,30,30,28,21,25,41,35,45,38,36,29,31,30,30,45,40,43,26,19,25,40,20,26,35,26,40,34,28,20,41,35,30,24,19,34,21,26,18,26,24,18,45,30,33,27,19,32,31,26,27,26,35,36,32,25,20,39,22,37,18,22,32,26,34,23,36,32,41,44,33,18,31,27,42,42,35,42,29,22,44,36,23,19,20,31,17,31,28,49,25,22,26,27,31,41,44,38,30,39,41,21,22,34,40,34,31,31,43,19,22,33,28,17,22,27,17,28,40,39,32,18,31,19,26,45,45,45,41,32,21,35,26,19,18,29,48,27,32,27,32,19,18,29,34,32,25,22,32,36,29,32,31,37,21,40,32,20,28,40,29,18,32,26,46,26,44,36,30,25,35,32,36,31,20,27,36,41,35,35,30,34,29,30,23,28,26,18,31,22,33,17,41,49,29,25,25,31,36,29,39,33,28,32,33,23,20,30,23,44,27,20,38,31,39,31,18,20,33,21,52,28,40,33,32,36,23,35,27,28,31,31,37,32,29,26,33,29,21,43,40,19,35,27,23,35,18,35,43,40,38,33,20,18,21,38,20,35,22,17,26,32,26,36,34,24,37,39,32,23,21,29,25,17,23,20,27,46,39,40,27,26,21,25,35,46,29,35,38,36,31,47,31,21,30,26,26,28,37,23,30,38,29,26,25,36,39,33,33,28,25,26,17,25,37,45,23,25,27,30,27,39,36,41,26,37,39,37,23,52,23,35,31,37,34,30,40,19,41,28,19,32,37,35,25,21,31,27,41,39,29,22,23,37,19,27,25,26,27,33,27,41,24,30,33,28,41,48,22,38,44,20,36,24,19,32,25,50,20,27,38,27,33,33,21,38,19,27,34,26,25,27,28,33,47,43,36,39,29,25,25,31,41,32,50,31,27,34,23,19,22,29,20,29,28,46,24,40,27,21,34,29,26,36,37,34,26,26,21,25,35,32,26,28,28,28,31,34,25,18,39,23,18,32,35,39,22,35,21,25,29,29,37,25,34,44,34,30,30,26,30,30,38,33,32,40,35,41,31,24,27,26,27,23,22,24,25,33,36,34,31,45,27,37,42,32,24,33,20,21,21,38,24,21,41,32,32,40,23,32,30,34,34,25,42,29,26,36,45,37,22,24,36,45,29,33,39,21,26,32,38,19,17,26,49,27,29,36,29,20,27,35,19,27,18,19,38,29,24,25,53,30,29,42,34,37,23,42,38,32,25,34,22,30,26,29,34,37,28,29,33,33,29,39,40,18,21,18,37,21,36,29,17,44,39,34,17,26,28,21,23,32,37,32,22,17,18,24,31,24,36,27,31,30,20,32,20,24,34,29,24,42,35,31,23,27,48,21,36,24,21,22,40,25,26,27,17,23,30,45,31,24,31,24,23,50,33,43,47,37,36,18,39,30,50,32,29,38,21,44,31,32,23,34,31,24,42,31,45,30,40,29,24,17,27,34,24,44,54,29,37,33,26,31,36,18,34,38,23,37,24,36,29,23,33,20,35,35,37,37,31,28,35,36,33,31,38,21,30,26,31,28,39,23,45,32,27,24,19,20,33,31,41,41,20,31,40,29,24,31,37,30,42,38,45,33,29,35,18,30,27,21,17,23,43,29,26,29,26,32,44,27,20,42,19,22,29,32,30,18,30,26,29,20,27,27,33,24,41,25,28,21,27,21,23,29,31,25,33,50,20,45,21,26,30,39,34,25,28,23,29,34,20,20,33,26,23,31,38,45,26,46,38,24,43,44,26,25,39,29,28,28,20,26,32,26,40,37,46,21,27,36,28,28,38,41,24,26,38,36,20,33,24,47,42,19,33,37,35,36,33,41,44,23,36,29,34,24,48,22,34,25,41,38,23,24,37,25,21,27,30,44,34,33,43,28,47,36,36,32,31,40,31,31,20,35,25,20,19,17,19,24,32,32,17,32,41,30,27,26,22,21,45,41,40,23,43,45,29,20,29,43,30,41,34,39,29,31,17,41,29,44,25,19,32,23,26,24,32,30,22,38,23,33,24,30,41,29,22,39,25,25,31,31,30,18,24,37,22,35,24,21,45,19,30,37,29,24,47,28,52,23,28,41,35,38,30,30,23,17,34,41,35,24,24,22,41,26,35,20,23,38,17,32,32,25,37,46,35,28,34,32,33,19,26,42,36,31,19,26,18,35,37,33,22,35,41,33,19,38,44,25,17,33,28,48,21,27,45,39,22,20,24,20,35,33,31,28,36,39,40,20,21,23,37,25,31,34,30,25,26,37,22,25,43,38,35,26,24,24,43,30,29,49,43,32,34,33,46,21,23,36,20,36,27,36,28,41,19,32,50,37,32,27,21,36,27,17,34,28,34,43,22,17,35,25,42,21,18,29,32,35,26,32,31,32,28,31,27,26,33,26,26,21,35,32,41,20,34,34,38,34,27,18,39,31,22,25,33,36,28,24,43,19,27,24,34,35,38,30,25,36,46,22,24,26,32,37,30,40,32,32,34,35,20,39,28,45,28,33,46,30,25,21,31,18,28,31,30,38,32,38,23,27,22,41,35,20,27,35,18,21,27,39,25,38,35,32,21,28,28,28,35,53,35,26,33,25,32,31,22,35,17,25,17,17,30,24,27,47,26,24,41,28,28,49,35,52,35,23,32,20,22,17,34,20,28,32,26,31,30,30,27,29,28,23,34,22,47,28,24,42,20,41,29,20,41,22,21,18,27,19,32,49,22,53,44,27,30,33,24,23,25,44,33,42,29,28,31,22,42,37,44,40,43,32,33,38,26,17,35,43,33,20,22,22,52,27,19,36,37,32,30,28,51,26,40,21,22,30,27,20,29,31,31,48,32,33,32,35,38,17,23,23,26,40,19,22,29,45,29,38,27,20,40,25,17,46,21,33,24,34,24,41,33,31,29,44,18,25,43,24,30,38,43,40,39,22,29,25,46,25,40,27,21,20,38,18,51,42,34,22,29,28,37,53,39,32,27,30,23,25,27,19,33,27,48,26,25,24,34,26,32,23,26,24,32,22,29,24,28,34,22,31,28,21,32,30,32,21,38,40,40,29,34,25,35,30,34,41,34,20,18,29,29,20,33,26,18,23,28,34,24,37,40,32,26,31,37,29,20,37,52,18,41,18,41,29,32,22,25,25,33,22,30,40,20,34,17,35,18,20,31,24,41,29,48,38,33,17,32,28,42,35,40,39,27,31,23,26,35,26,25,47,19,32,18,21,33,32,30,30,48,24,29,21,31,51,45,19,39,25,42,32,23,30,27,31,40,38,34,37,19,35,23,30,26,27,28,35,20,28,20,27,43,29,52,39,17,31,47,28,20,46,21,22,40,22,25,34,45,21,28,21,27,44,30,33,32,18,29,34,26,24,30,26,27,34,23,38,37,37,40,32,34,27,34,19,40,25,38,22,28,36,49,32,42,25,21,35,32,19,21,35,23,21,23,21,30,23,25,41,39,19,18,26,43,21,30,25,29,17,49,37,28,37,39,47,32,39,18,24,24,25,44,31,31,17,17,31,21,17,21,37,50,37,28,42,19,20,23,29,27,17,35,25,26,22,42,32,24,35,32,21,21,34,37,27,22,29,25,34,32,27,28,28,22,33,24,40,32,39,37,52,35,32,45,30,35,31,26,21,30,47,37,44,28,31,17,18,38,30,19,32,27,41,26,20,18,40,37,46,17,39,24,21,27,17,25,26,51,24,22,28,26,32,29,33,35,29,26,46,31,28,36,47,20,30,26,20,34,22,45,26,36,21,38,36,37,33,22,17,32,22,27,32,29,26,18,26,23,29,42,39,32,23,29,36,44,49,31,27,30,43,35,26,33,18,35,21,24,31,34,17,41,30,32,30,40,33,41,31,34,25,38,31,32,28,38,25,21,23,28,32,39,25,27,29,29,27,30,31,43,35,32,35,45,29,41,40,18,43,37,38,29,27,29,31,22,36,32,35,22,32,37,36,24,40,23,21,34,29,19,25,24,34,33,29,25,33,27,35,39,28,41,24,24,24,17,20,34,26,34,50,32,26,33,20,43,34,21,28,35,23,18,31,33,40,31,42,28,25,50,48,29,34,26,31,20,17,30,20,28,32,26,21,22,36,17,31,27,28,41,29,22,26,33,21,29,25,27,18,40,30,26,26,49,40,23,32,29,17,19,37,43,32,27,32,27,43,39,41,40,38,22,27,21,37,36,25,19,37,20,29,29,23,21,37,44,36,35,39,29,23,30,23,23,35,47,42,25,33,35,27,39,25,20,25,25,42,33,39,31,30,29,30,35,40,24,35,24,25,20,30,27,38,45,30,53,40,42,34,40,26,32,37,33,33,31,40,31,19,35,18,48,37,25,36,21,43,24,35,34,36,34,38,28,48,31,37,38,31,22,22,19,30,33,19,29,22,54,33,21,30,37,21,33,19,23,36,52,20,27,24,34,32,30,26,31,31,25,22,20,25,45,36,25,29,24,36,42,43,31,28,28,41,17,34,22,30,29,17,31,35,27,23,45,22,38,24,49,30,31,42,37,24,45,24,26,32,29,25,24,38,27,40,27,17,36,37,21,35,23,23,30,33,36,28,19,35,27,20,36,31,37,41,19,39,18,38,37,30,37,30,24,27,33,30,25,20,29,37,18,31,35,24,38,39,40,28,24,22,18,43,36,17,26,21,24,24,32,50,18,27,24,35,42,17,31,27,19,35,23,45,22,31,30,37,29,40,43,23,21,26,38,26,22,41,31,30,41,27,51,29,25,21,30,33,35,45,41,34,37,23,22,21,34,18,27,29,29,33,40,17,29,27,47,23,26,28,27,47,22,34,34,35,18,17,28,37,37,30,41,34,24,32,22,18,42,33,23,24,22,30,18,23,38,21,35,31,38,18,42,39,31,28,30,17,43,29,23,23,20,29,41,26,34,38,24,24,34,24,31,23,46,31,29,28,28,27,23,30,31,34,28,41,25,22,32,18,29,18,18,36,30,33,25,22,38,23,50,35,38,17,29,21,21,25,44,27,19,30,32,37,25,23,18,19,25,23,38,34,35,37,23,26,40,28,20,26,32,20,27,39,38,40,43,48,24,39,25,42,31,28,34,31,31,42,41,20,21,19,38,17,26,23,25,27,29,23,30,17,22,44,17,18,18,25,17,33,27,23,29,21,22,23,23,17,53,49,37,32,17,21,31,28,28,43,29,37,37,28,29,32,42,25,30,18,24,24,37,35,36,39,27,27,27,28,27,38,28,25,18,32,39,35,45,23,31,24,30,39,28,34,35,25,44,28,31,34,31,22,29,37,22,33,39,40,22,34,26,38,39,32,25,17,36,35,28,43,22,29,37,43,29,36,33,30,23,22,35,24,31,50,45,23,33,39,18,34,41,49,18,46,35,25,31,32,26,18,30,30,24,32,43,30,31,37,39,39,42,35,30,37,23,26,31,24,31,43,22,25,54,43,32,44,22,34,38,25,50,33,28,37,20,26,30,34,18,27,31,38,40,33,33,22,29,27,18,20,46,33,28,33,29,20,39,34,20,34,27,31,19,26,29,22,20,30,25,25,29,21,37,26,39,37,23,24,37,52,45,28,24,28,21,31,22,20,42,29,30,27,30,27,29,21,37,28,33,40,40,26,24,21,22,26,26,29,31,36,38,22,40,46,31,32,34,46,28,32,30,32,27,25,35,21,33,34,22,39,22,26,31,27,37,35,32,37,32,17,20,21,28,20,35,17,27,36,41,45,25,37,18,36,19,20,27,38,35,26,27,35,25,45,23,35,37,37,25,38,31,44,31,35,21,34,33,20,22,20,40,19,38,25,40,29,30,38,37,24,42,19,22,17,36,28,28,22,28,37,23,18,20,31,35,27,23,30,36,18,24,32,24,22,25,24,31,24,28,31,28,34,17,34,34,23,35,31,23,28,27,38,44,32,35,25,40,44,19,35,33,17,36,22,30,33,44,40,29,19,41,21,34,19,17,25,30,32,22,37,25,17,41,31,28,40,25,29,30,23,27,25,33,26,28,31,34,38,33,20,21,28,45,24,28,30,32,31,26,36,33,21,34,37,18,34,17,30,18,39,19,21,28,29,38,18,25,17,20,36,33,43,30,38,42,28,29,28,33,38,37,35,29,20,29,19,34,34,30,36,22,22,27,30,36,21,32,35,35,33,31,35,39,34,45,31,38,21,38,32,40,17,22,51,18,26,41,24,20,36,39,31,19,35,27,22,25,27,30,38,33,43,25,36,20,31,36,43,34,37,25,26,52,25,39,21,37,23,21,33,26,31,28,35,31,34,39,17,30,34,32,35,35,23,28,47,20,31,32,31,28,35,25,31,48,20,35,27,35,33,27,29,35,24,22,21,40,25,35,27,20,34,32,22,49,21,28,33,24,25,38,25,36,19,27,39,27,40,40,21,20,23,35,34,34,37,29,25,29,24,32,36,44,23,29,22,27,35,24,27,23,33,46,21,40,45,24,21,30,34,29,36,42,17,39,33,38,28,30,24,44,28,19,30,32,35,24,30,26,28,32,29,25,27,37,39,28,31,41,35,38,42,31,29,34,30,38,35,33,32,36,33,26,20,19,44,41,19,36,33,31,30,32,24,20,40,21,24,33,24,25,35,26,24,36,40,25,35,28,30,42,31,18,18,31,23,42,37,34,40,19,48,32,26,21,30,25,19,33,28,24,43,24,23,20,30,27,34,35,17,23,47,38,37,32,35,38,32,28,22,28,37,38,24,37,31,42,36,50,21,45,18,25,22,29,25,27,46,35,40,24,28,47,26,26,24,27,29,31,40,25,28,25,28,31,36,43,22,38,32,26,29,36,24,35,21,44,28,31,39,23,25,36,50,35,39,34,22,38,32,31,44,30,29,37,22,35,32,22,29,22,37,38,27,32,21,40,26,43,30,18,33,37,25,39,26,29,19,32,24,26,26,28,35,31,19,35,29,50,26,46,21,37,36,40,43,45,28,19,31,29,46,31,26,28,25,34,25,33,39,53,48,26,47,30,23,18,27,20,37,33,48,36,32,23,33,35,39,34,27,39,48,18,31,27,19,38,46,45,32,18,20,43,25,39,22,30,35,24,19,35,32,38,28,23,39,34,33,26,22,45,43,32,27,22,21,25,20,38,27,27,39,24,26,46,45,42,34,23,23,45,35,34,33,27,26,26,28,26,30,27,20,43,31,35,31,22,18,17,24,28,39,32,32,20,24,23,23,28,17,32,40,17,45,24,36,27,21,52,29,38,41,29,32,30,28,37,46,25,48,29,34,25,31,18,38,20,28,32,36,35,38,21,33,35,38,44,25,33,26,26,27,31,36,27,39,33,25,23,40,30,28,25,23,38,25,25,28,40,21,44,21,21,39,33,24,40,41,24,36,23,41,26,31,52,38,22,35,26,32,39,29,31,31,25,29,37,32,35,22,33,35,42,25,18,35,30,21,22,29,37,30,27,28,29,21,29,27,35,29,33,17,27,45,25,37,33,22,27,22,37,23,30,26,37,38,21,42,26,37,29,22,24,21,18,20,37,22,39,27,44,25,48,17,25,21,32,37,33,26,39,37,27,34,27,40,27,18,36,25,25,34,30,26,50,18,29,27,17,44,21,27,36,33,33,47,45,24,23,33,52,28,18,26,17,27,28,34,37,26,39,32,19,20,38,17,33,40,39,29,20,27,22,24,27,33,27,36,35,38,41,45,46,28,20,25,32,50,23,29,35,26,50,41,31,46,29,29,28,21,43,25,21,29,28,35,23,25,20,46,25,19,29,31,25,41,17,29,30,17,24,31,29,17,26,30,24,33,32,31,29,30,35,24,25,32,25,30,25,18,30,47,41,25,25,35,32,27,19,40,27,28,30,33,17,28,52,41,27,38,52,30,29,22,22,18,27,20,22,24,24,41,41,19,29,20,33,27,25,24,40,31,32,30,34,42,38,29,18,47,27,33,40,50,26,26,44,37,29,19,24,39,23,34,30,31,22,34,35,23,29,39,18,47,26,39,23,25,28,18,21,26,17,40,48,35,17,21,26,21,48,25,31,20,31,26,24,31,30,41,29,23,25,32,32,39,26,24,27,17,32,19,44,21,33,40,37,23,29,31,20,45,29,30,33,23,35,30,48,34,42,25,36,35,47,27,42,20,17,29,35,20,33,37,29,26,27,29,19,27,36,18,25,31,36,17,39,20,22,36,31,23,24,20,30,23,50,25,21,34,35,34,33,50,19,39,25,27,24,21,29,23,19,26,23,37,34,27,41,17,33,27,23,22,27,31,33,29,42,35,25,35,42,34,28,24,39,35,32,21,20,33,22,26,32,23,42,36,32,23,38,36,45,26,19,37,25,17,34,34,42,28,24,17,18,32,31,37,30,19,32,40,39,33,32,29,47,18,30,31,33,47,27,31,21,34,20,28,22,40,26,19,47,22,26,36,45,19,47,32,34,43,33,30,25,24,26,31,34,26,22,20,30,39,41,46,30,33,44,37,23,37,23,33,25,40,22,28,35,37,30,37,41,21,36,33,38,25,27,51,37,35,41,24,31,20,34,36,19,24,30,33,33,33,38,38,31,31,29,30,33,22,38,17,30,29,44,34,30,19,39,32,32,35,38,26,26,47,29,37,42,38,24,23,37,26,23,36,27,39,22,19,20,37,25,33,31,41,35,41,26,33,20,39,32,17,18,27,40,45,29,39,22,38,28,26,18,35,24,49,19,27,30,30,36,27,28,18,41,32,18,27,20,27,51,21,21,30,45,21,33,27,33,28,36,25,25,24,20,42,37,31,35,31,27,38,22,33,33,24,28,24,20,17,19,28,33,32,36,44,29,30,19,20,40,40,33,32,27,35,22,31,17,42,33,30,26,24,43,23,35,48,27,41,34,31,21,24,30,27,25,31,48,39,23,40,37,32,47,32,20,20,41,30,21,34,37,34,23,26,33,29,29,28,38,32,17,32,23,21,37,24,21,21,28,31,31,27,37,43,22,24,23,35,39,35,33,35,23,27,23,41,20,18,22,32,31,27,20,34,30,30,32,34,26,25,28,47,30,28,28,22,43,35,36,24,31,24,39,46,26,23,20,52,46,33,20,21,22,49,33,22,26,41,26,29,22,24,26,24,25,28,30,35,22,35,34,47,36,30,25,24,50,19,24,33,32,32,35,30,18,31,29,26,25,33,32,40,31,37,34,19,27,32,35,21,19,35,32,37,21,37,26,35,26,30,23,18,31,40,44,19,43,21,24,42,37,28,19,34,22,25,37,19,38,19,35,34,38,48,22,20,40,35,31,43,22,23,32,35,37,37,22,18,28,31,39,28,22,33,33,31,36,29,39,30,29,17,33,22,43,18,21,30,23,31,39,53,33,48,20,31,27,29,28,43,18,39,35,27,43,41,31,30,20,36,34,17,30,40,40,24,32,36,19,22,29,28,36,31,17,34,39,33,41,33,38,28,32,28,28,26,30,44,48,34,33,32,38,34,39,35,31,33,35,17,38,17,23,35,24,42,36,35,37,28,34,32,35,17,24,33,36,20,37,29,51,22,24,43,43,23,24,29,22,34,35,36,34,24,17,36,36,45,26,39,27,24,29,18,46,23,30,24,24,27,33,34,31,21,36,33,34,27,42,25,32,25,24,40,51,33,28,33,25,21,34,29,24,26,22,37,24,20,38,42,22,30,39,26,35,24,27,25,28,30,36,23,29,35,32,24,38,40,19,19,30,30,45,33,35,35,22,24,39,19,36,22,19,28,51,20,24,22,18,27,35,31,26,22,47,28,21,33,31,30,40,17,17,28,33,23,28,24,34,34,34,22,26,20,42,28,28,21,24,30,17,25,34,24,23,25,27,30,46,28,33,35,31,20,30,31,36,31,28,25,48,36,21,21,41,26,36,30,30,29,24,37,44,34,37,28,22,33,27,24,42,24,28,27,19,20,24,26,26,31,27,43,36,43,36,25,41,19,31,24,45,45,23,25,25,31,22,53,30,21,19,24,28,26,35,52,28,31,37,36,45,36,43,30,41,30,47,25,20,36,27,17,36,33,28,50,26,35,39,42,23,45,53,30,20,26,29,21,35,35,32,31,50,18,33,28,21,23,29,34,19,26,51,46,23,35,28,19,29,39,33,28,31,30,25,23,39,18,27,21,34,35,28,28,22,34,45,40,40,38,32,26,29,38,35,25,31,17,24,28,21,28,26,41,28,28,37,21,34,38,33,21,28,39,27,36,29,28,43,35,27,25,47,20,29,32,31,28,35,33,18,18,20,21,44,25,31,39,23,33,33,36,41,38,41,20,32,20,32,40,30,28,25,37,32,40,25,17,36,39,35,34,29,37,29,29,37,21,34,22,23,31,23,30,17,29,27,30,48,20,21,32,32,46,26,32,17,20,38,18,38,31,20,37,22,23,26,42,43,18,24,24,19,33,37,30,40,44,44,24,31,34,26,29,25,37,27,31,23,22,46,32,42,30,26,21,23,49,32,41,21,22,26,33,46,24,47,33,39,32,29,26,40,32,38,36,17,44,34,39,48,30,24,34,24,29,29,40,37,18,43,22,33,29,21,21,44,37,23,22,41,45,48,35,25,31,29,33,40,26,37,25,28,19,27,33,37,44,30,19,23,40,39,42,37,24,36,37,20,28,26,28,20,27,39,41,30,48,25,47,29,36,27,30,24,28,20,19,22,21,22,21,20,35,30,47,29,27,24,21,31,38,38,47,20,40,27,26,42,26,40,22,43,27,29,31,31,20,41,21,25,30,34,25,30,34,33,52,29,27,30,36,23,22,27,18,23,24,25,23,37,20,27,29,37,24,33,36,22,39,37,45,21,46,42,19,40,27,41,34,45,49,32,22,27,22,29,35,36,41,26,40,29,27,21,28,40,26,19,31,37,27,39,35,21,26,37,38,34,26,17,25,26,32,34,31,30,17,31,37,35,52,29,40,27,25,46,48,31,39,29,41,42,31,32,26,30,32,37,40,28,29,35,30,37,28,30,38,47,31,36,52,34,43,27,31,27,39,21,22,20,32,33,46,45,26,20,30,46,18,38,23,28,31,25,29,26,32,36,34,50,31,19,24,22,47,37,28,21,20,35,43,21,40,36,44,31,27,31,35,19,34,44,33,20,19,35,31,36,29,23,42,19,18,17,31,34,32,23,54,28,31,21,35,32,21,23,24,35,31,25,31,20,22,25,22,34,17,30,38,29,24,20,40,20,46,27,34,34,33,22,21,17,18,19,44,40,29,28,27,21,39,45,25,31,27,32,20,38,26,42,40,19,24,32,22,32,41,17,22,24,21,35,25,17,41,29,28,34,28,33,31,21,33,23,19,23,25,33,34,31,23,37,25,33,23,30,31,43,36,29,21,29,29,27,25,38,39,24,35,38,33,46,38,32,20,31,35,25,35,25,18,27,33,30,31,33,38,32,48,18,25,21,25,18,40,22,42,28,25,20,18,49,27,20,26,24,27,24,40,30,27,29,27,42,35,21,41,31,31,24,17,34,26,25,36,26,20,26,21,28,22,32,27,42,27,39,24,18,37,36,33,35,27,35,25,43,43,26,33,24,26,27,37,37,47,45,39,44,32,26,23,18,42,30,30,23,19,19,30,23,29,20,24,30,32,34,29,41,32,26,29,33,25,24,32,48,19,37,23,28,40,48,24,37,23,17,28,46,30,35,19,43,25,22,45,25,31,43,31,39,28,29,44,41,25,38,23,43,23,28,37,18,24,30,17,21,36,27,36,38,18,20,29,22,19,28,40,29,19,31,37,24,33,23,29,24,21,37,38,40,37,34,25,38,33,35,30,52,37,31,34,21,51,44,32,29,42,32,19,39,36,34,18,19,28,23,24,36,46,28,26,32,18,33,26,28,31,30,30,26,33,30,34,19,38,36,19,36,29,23,22,35,20,20,30,37,50,26,32,33,33,31,26,20,35,29,45,39,49,31,32,30,33,37,22,24,30,26,29,20,22,31,31,30,40,44,33,29,25,28,21,17,20,29,50,37,26,32,28,29,29,28,35,41,27,24,35,24,30,28,33,25,24,42,30,22,32,34,39,30,37,30,24,35,40,23,24,39,25,24,22,48,41,25,22,34,43,25,27,27,21,21,42,20,41,34,26,24,32,34,22,33,36,28,48,34,36,35,36,33,33,51,31,23,25,23,45,37,28,17,43,39,42,20,23,20,18,29,27,30,21,30,27,37,36,24,17,24,25,34,26,29,36,34,41,27,30,43,27,29,24,38,30,39,29,22,30,30,21,25,48,19,38,36,30,17,21,35,36,36,29,26,31,19,32,52,26,25,18,25,30,18,41,35,31,34,20,30,40,25,24,19,36,44,37,36,28,23,36,28,20,20,33,32,30,36,45,46,33,21,32,40,27,25,42,24,25,24,24,46,24,44,33,49,30,19,29,28,18,38,29,28,27,37,19,23,41,31,25,34,21,38,34,40,19,23,34,31,39,34,25,21,37,28,37,25,19,23,22,35,26,34,29,31,17,23,38,31,35,31,21,29,19,27,37,42,46,26,40,18,38,31,19,17,27,32,21,35,35,34,23,23,20,39,22,32,34,28,17,27,41,34,26,24,39,35,44,23,33,32,41,42,35,26,29,19,26,22,47,41,25,35,38,34,35,37,34,21,19,24,17,24,28,41,22,34,32,42,31,21,32,20,40,28,17,26,30,36,23,24,46,44,32,28,32,18,18,35,35,19,21,33,19,42,21,45,19,29,26,27,38,29,46,48,21,34,37,22,19,39,19,33,30,36,46,21,38,21,22,18,30,17,36,32,25,21,29,28,41,27,30,22,22,24,37,32,42,36,42,17,25,24,32,32,37,29,32,46,34,32,35,36,20,29,33,32,39,42,31,43,38,35,31,45,27,34,29,25,33,26,30,36,37,25,33,40,25,47,29,19,21,36,40,30,32,25,17,23,22,20,21,24,25,36,27,24,19,29,17,38,33,28,23,25,45,30,40,19,25,43,29,38,23,32,38,34,37,31,22,30,30,38,37,29,35,48,36,44,38,42,26,38,23,25,48,29,37,51,41,23,32,21,23,40,29,27,50,25,22,19,37,39,23,17,17,21,29,34,32,35,29,41,33,38,21,39,27,28,40,27,39,40,21,29,28,45,34,27,33,21,32,37,24,27,22,25,29,22,17,29,26,29,20,25,37,37,22,34,23,27,28,32,28,32,23,26,32,33,36,31,30,29,30,30,39,32,32,20,27,25,20,26,26,28,40,37,21,40,38,34,21,27,42,24,36,39,25,20,29,35,46,17,27,34,26,33,35,19,29,30,37,24,35,38,33,53,20,44,38,34,17,30,25,50,42,42,36,39,50,26,28,41,33,29,32,35,29,41,46,35,24,23,34,35,22,25,29,31,24,24,26,22,25,40,20,53,19,26,23,24,21,48,18,41,42,19,41,33,19,17,47,23,25,19,26,36,30,33,31,17,36,28,39,25,28,48,33,29,28,34,21,20,34,27,26,22,23,30,30,34,17,21,19,46,31,36,27,27,22,17,22,22,33,27,34,18,40,50,36,30,18,28,30,26,25,25,37,17,42,26,21,28,35,20,29,29,20,31,45,25,41,32,41,23,39,29,29,31,29,44,38,20,27,27,35,39,24,22,33,34,42,34,24,42,30,29,24,37,34,48,17,26,36,49,41,26,21,30,36,28,21,17,38,47,37,19,20,28,39,22,36,31,23,31,23,44,39,19,37,32,19,24,43,35,24,30,17,19,27,37,30,29,24,26,34,30,34,18,23,26,39,29,39,17,31,23,37,20,34,37,27,26,33,35,33,29,48,45,32,46,25,22,30,29,25,33,30,43,47,35,28,27,21,24,22,28,25,35,25,18,24,27,17,39,26,27,35,46,40,28,19,46,28,48,21,29,20,44,26,22,22,17,38,18,29,17,28,40,38,26,33,40,41,29,48,29,40,39,32,23,31,25,28,31,24,18,32,40,42,39,24,42,26,26,25,41,17,31,32,36,28,24,27,30,17,27,36,22,31,18,19,46,22,21,20,46,17,32,29,24,37,35,33,43,45,28,21,25,36,23,33,33,30,22,32,45,30,29,32,19,35,28,18,31,34,20,33,26,22,42,26,43,26,29,21,23,18,47,34,49,18,19,27,52,18,18,32,48,21,48,23,24,52,28,22,40,26,42,34,30,26,22,36,33,26,49,20,30,35,28,24,23,32,32,23,32,24,50,40,33,26,32,27,32,38,23,17,24,36,30,31,46,19,30,42,35,31,28,23,19,45,29,29,32,33,28,34,28,27,36,39,44,23,35,28,36,20,34,23,22,17,27,38,39,36,35,21,30,22,27,35,28,31,28,35,27,22,25,26,27,28,20,45,29,37,19,35,29,33,41,31,17,25,43,36,38,18,43,25,34,22,39,27,25,31,33,24,24,37,39,24,28,17,36,45,37,28,26,28,24,20,36,23,34,39,17,31,18,28,34,34,24,38,41,32,43,25,28,22,28,31,26,45,33,26,20,31,26,32,29,33,28,27,33,31,29,29,17,33,38,37,43,20,36,18,17,28,33,28,31,42,53,33,26,33,22,33,46,41,22,24,33,18,24,20,29,19,36,28,44,39,24,26,34,32,32,40,33,19,37,33,28,45,31,19,23,40,49,28,26,28,24,37,29,35,42,29,21,29,23,48,23,45,23,34,27,34,27,46,40,41,43,35,51,53,43,42,37,36,37,30,32,31,34,17,27,42,22,24,29,22,42,28,34,28,41,25,31,30,23,28,29,52,28,39,31,43,45,42,41,23,18,32,35,37,53,32,29,23,36,36,30,26,30,21,38,24,30,27,21,35,25,37,38,28,26,27,31,36,23,42,26,47,39,39,17,28,32,49,32,31,19,46,37,43,23,25,34,21,18,45,20,20,34,24,20,22,24,24,33,41,23,31,24,20,32,31,41,42,34,17,30,27,25,21,28,29,17,40,39,26,18,32,28,32,26,27,31,33,22,22,23,23,20,27,23,29,21,48,34,36,33,31,36,37,28,25,27,24,30,27,22,18,30,32,43,20,33,19,30,25,19,23,31,30,26,47,26,25,27,25,30,25,21,36,46,21,34,25,28,32,45,26,28,30,32,17,39,36,33,36,24,42,52,26,33,47,38,25,28,38,22,34,24,41,24,35,25,41,32,29,34,33,36,51,40,24,28,30,21,39,31,37,17,22,26,31,31,25,17,20,17,26,39,38,39,30,26,27,30,33,39,40,17,20,20,21,44,40,21,34,28,20,23,45,17,54,25,22,26,31,39,45,29,38,25,25,28,18,32,30,47,19,26,29,24,41,24,33,37,22,35,26,35,34,21,28,25,32,34,24,31,21,33,40,37,24,33,35,45,24,28,32,51,40,42,39,32,30,32,48,30,21,31,25,20,20,34,31,32,47,23,19,47,34,38,37,31,19,30,28,26,52,24,36,25,25,22,35,21,43,29,38,28,41,36,21,28,19,32,36,33,44,24,25,39,24,31,28,17,22,29,25,28,29,31,34,31,28,28,30,43,29,26,31,52,34,37,28,41,38,31,39,34,26,30,32,31,23,25,29,32,52,22,26,44,30,34,26,31,27,22,36,22,42,29,24,28,33,24,35,38,18,47,48,27,37,31,38,19,25,25,30,37,43,24,35,22,34,34,29,36,28,33,30,32,33,45,21,31,25,27,41,31,26,31,22,31,28,23,38,36,19,31,34,31,31,19,32,17,27,25,40,19,28,30,29,31,38,27,25,20,19,27,22,32,31,35,50,19,20,36,26,42,23,35,39,31,37,36,24,32,25,30,35,37,34,35,36,30,20,27,22,25,19,22,40,45,25,28,33,31,32,27,18,20,32,28,38,17,21,31,20,28,23,23,31,17,29,34,34,23,39,25,44,17,29,29,31,32,32,34,23,29,38,37,34,24,33,33,21,22,35,34,33,23,25,32,18,38,36,25,40,33,41,38,20,27,35,24,27,29,27,52,35,19,27,42,26,24,40,18,25,28,23,25,35,26,21,26,53,24,25,38,34,42,40,17,32,32,21,42,35,33,23,28,30,46,30,29,29,21,33,18,29,32,33,20,35,28,37,46,17,17,39,19,25,26,19,37,21,21,22,36,43,28,36,22,19,26,35,20,49,19,18,23,28,36,27,26,18,40,41,18,30,43,29,40,35,21,32,36,29,37,31,28,23,26,50,30,28,25,24,34,27,24,32,40,40,28,26,43,31,33,31,28,24,31,36,23,25,32,34,38,17,28,20,33,41,34,27,33,30,30,41,27,43,23,36,27,44,45,39,23,32,27,23,27,37,17,27,42,49,24,24,41,32,39,32,24,22,30,17,24,34,37,35,24,24,30,27,19,42,21,24,32,22,22,30,29,39,32,39,30,46,30,24,34,19,35,23,25,38,44,23,24,36,43,24,23,18,36,20,34,30,43,34,27,20,23,32,41,40,36,36,49,46,29,18,22,24,18,35,31,45,29,42,34,30,26,40,17,25,22,49,20,54,24,36,26,25,49,31,37,29,25,22,25,46,24,40,25,42,40,37,26,36,21,27,29,23,26,36,24,34,35,38,38,26,37,32,26,46,31,19,45,35,23,32,33,44,32,37,36,22,34,31,21,29,26,32,46,37,24,21,24,22,42,27,38,27,34,38,37,21,37,38,34,34,20,30,22,33,26,48,20,18,28,31,25,33,38,30,28,36,25,26,32,27,24,35,22,20,35,25,24,25,27,35,33,31,32,24,20,34,24,28,29,33,39,35,30,27,45,40,33,24,29,41,30,22,18,19,33,44,41,20,28,23,29,24,35,27,45,27,26,34,24,33,52,43,36,36,22,26,33,31,19,27,21,49,19,35,39,37,22,34,28,41,26,43,17,22,21,18,27,46,17,32,19,37,36,36,49,33,40,27,42,31,27,30,30,22,22,23,36,36,31,27,36,25,23,50,21,18,28,31,37,28,38,31,31,29,22,43,39,24,35,18,37,22,26,31,33,26,39,29,35,25,31,17,33,23,26,39,30,20,26,24,23,20,33,47,40,40,22,37,27,22,33,52,22,33,31,38,33,26,45,31,28,33,34,30,36,21,26,20,26,44,27,31,38,28,20,51,35,27,24,48,43,31,26,44,39,27,45,41,31,19,24,40,32,27,17,41,28,30,45,20,29,36,17,27,22,40,31,39,20,27,40,30,26,21,27,17,32,41,19,34,34,21,20,40,32,29,18,37,22,24,26,27,17,27,33,31,19,21,38,29,24,30,27,39,41,32,28,37,43,34,18,31,25,44,18,35,40,20,24,28,35,24,46,39,38,23,33,29,33,36,33,19,32,46,36,19,33,45,33,23,29,23,32,46,38,50,33,35,39,38,19,26,45,34,21,25,28,36,26,21,28,23,23,31,22,33,18,30,44,33,43,35,31,24,49,24,28,28,23,33,44,21,28,33,30,31,37,26,32,23,32,34,30,20,30,17,39,31,35,39,39,25,21,33,30,29,34,29,34,18,51,24,35,29,32,25,18,41,29,19,27,26,35,35,19,34,26,35,19,49,35,50,45,36,24,22,25,43,27,36,37,52,24,20,28,38,46,21,40,30,42,30,32,31,18,44,37,23,25,24,32,20,36,31,48,33,28,39,18,37,18,35,31,28,49,19,30,35,28,39,24,28,33,41,28,18,35,29,40,18,45,24,24,35,36,18,18,29,36,22,26,23,32,30,17,34,31,19,26,32,32,34,30,20,19,24,23,33,44,18,38,19,25,50,28,25,25,26,41,18,41,20,34,20,35,17,42,33,17,32,39,17,24,18,23,33,30,26,38,30,35,20,32,26,27,39,26,29,35,27,30,30,44,37,25,30,32,36,48,38,20,45,44,38,25,35,28,31,26,26,26,28,32,30,19,22,22,26,34,39,37,29,35,41,44,26,30,35,33,25,32,24,40,32,21,34,25,38,27,25,37,29,38,19,30,31,35,24,28,24,24,33,22,24,38,32,30,33,20,33,19,32,25,35,24,23,30,29,32,45,29,31,20,28,19,19,29,23,19,22,38,27,40,34,17,26,26,44,18,51,53,19,26,29,26,22,31,22,30,46,21,21,22,34,31,35,50,35,25,36,17,25,22,24,21,23,34,29,41,24,17,24,30,28,32,47,29,35,35,19,43,31,30,18,24,25,19,25,32,40,25,20,20,38,29,34,49,26,34,33,38,30,31,39,28,34,24,34,22,18,27,25,35,43,40,20,37,31,22,21,39,19,29,28,38,23,29,37,40,23,17,41,31,30,29,22,42,37,42,24,17,28,21,32,29,20,33,28,33,38,30,53,48,28,30,36,45,33,31,36,44,33,21,25,28,34,37,27,28,43,49,25,37,41,45,39,37,30,35,41,32,21,23,32,33,28,19,17,38,20,27,25,28,17,34,29,33,24,24,19,23,26,23,35,36,25,37,24,26,30,24,44,29,24,42,35,39,36,30,28,45,28,25,34,23,31,21,22,28,33,27,26,24,49,40,24,20,32,25,32,25,22,28,29,34,29,22,34,27,17,24,24,33,34,24,23,29,38,31,30,24,32,33,34,24,25,33,18,43,23,34,26,32,35,33,37,27,34,30,44,21,17,22,22,28,27,33,36,20,31,25,45,30,29,39,24,32,38,42,25,29,24,36,37,47,25,28,27,33,30,27,34,32,41,27,22,42,37,38,17,33,25,20,29,53,27,25,29,20,37,47,36,32,22,25,25,34,37,30,20,34,32,29,21,19,28,37,37,28,27,41,26,29,31,19,28,41,26,23,33,18,22,40,41,40,36,42,26,22,43,26,30,45,26,25,28,30,40,24,34,36,29,19,25,39,31,32,33,18,44,17,24,35,39,37,34,39,23,19,31,35,26,23,40,30,28,26,25,17,32,50,35,29,35,34,24,18,44,34,25,31,43,38,28,23,23,30,20,28,32,25,20,35,28,18,24,30,22,33,49,36,21,34,31,34,27,35,18,36,24,35,18,24,30,37,33,47,32,28,35,24,40,22,30,35,27,25,22,51,31,29,17,30,29,35,38,39,27,34,36,38,41,46,23,38,31,17,36,21,40,22,34,31,27,30,34,40,34,27,23,44,25,37,25,35,28,36,20,47,18,45,23,18,25,30,43,28,23,33,33,25,25,27,32,20,29,26,35,42,41,33,22,34,18,33,22,22,31,36,24,31,31,33,22,24,39,37,26,33,33,17,27,30,38,44,29,42,27,23,26,30,31,20,29,41,43,28,50,25,35,36,27,43,32,23,17,36,49,31,38,34,25,25,24,31,32,34,28,33,33,24,21,35,19,31,29,31,36,31,39,34,39,18,26,23,25,39,47,39,37,20,30,20,39,31,17,24,29,21,33,35,34,31,50,41,27,21,39,32,34,46,32,44,23,18,34,23,42,17,34,36,33,32,18,45,30,20,33,49,43,35,42,36,20,37,30,24,37,35,22,26,23,23,39,35,31,36,45,32,43,21,28,36,34,27,30,34,30,47,22,34,20,42,29,43,22,24,51,51,54,17,25,35,42,25,33,26,24,40,23,25,32,21,41,31,24,27,27,19,33,30,28,32,28,32,19,21,39,32,38,23,24,19,38,24,21,30,23,27,32,29,29,28,31,40,37,20,24,42,32,44,48,18,23,26,18,20,28,24,26,27,30,22,32,28,17,28,36,25,47,22,21,21,18,38,36,23,25,31,21,40,34,33,24,25,35,44,29,27,33,39,20,24,39,26,32,37,31,19,29,29,36,39,19,33,41,28,28,23,19,44,36,32,21,19,30,19,22,34,25,25,27,36,40,27,53,27,26,24,25,41,21,38,26,40,24,21,37,20,17,30,36,26,37,32,28,30,40,36,49,40,33,43,26,25,30,33,20,45,32,30,43,25,19,41,20,54,22,20,21,28,30,35,22,35,21,30,25,29,25,32,46,23,29,27,21,27,29,36,24,35,40,17,20,19,29,31,36,21,43,24,21,17,28,40,22,27,36,25,29,26,39,35,26,17,37,26,17,20,23,20,28,18,31,41,21,46,37,28,27,35,36,42,41,36,30,32,19,36,30,22,46,27,40,24,31,38,35,24,38,32,21,18,29,39,32,34,43,20,33,28,17,35,37,19,26,27,48,31,32,25,33,23,43,26,27,33,29,21,41,33,33,36,18,23,25,51,21,26,26,33,40,30,36,26,29,43,20,27,24,37,34,41,37,21,28,43,23,29,19,49,19,39,20,19,31,21,23,37,35,24,33,41,37,41,18,21,36,27,21,30,27,36,28,26,34,37,25,36,34,28,39,49,46,37,23,34,30,31,28,27,23,26,31,39,21,27,26,34,34,31,25,40,25,20,46,20,30,18,36,18,25,32,26,19,23,24,24,43,28,28,44,22,32,25,19,30,22,29,47,40,35,23,27,44,35,32,27,31,33,32,37,23,38,42,41,38,39,28,36,23,31,45,28,42,24,45,23,21,35,31,26,45,26,28,17,26,20,36,30,37,18,25,33,46,19,26,44,18,39,28,46,25,45,43,29,19,22,44,35,38,35,20,36,41,42,33,32,38,31,32,25,28,35,43,33,21,49,38,37,33,45,39,20,20,32,30,34,29,27,33,36,19,26,17,30,18,33,30,30,32,38,24,20,26,30,19,17,19,39,27,32,35,27,52,34,21,34,27,38,31,31,31,35,42,32,27,22,18,20,35,21,22,23,35,30,27,21,38,29,22,50,42,44,22,37,34,47,22,37,23,21,30,34,37,33,32,28,46,31,19,34,25,42,27,47,43,26,28,20,30,30,36,33,27,29,19,33,22,31,25,28,32,31,51,26,40,23,34,31,17,17,22,50,18,17,36,17,42,28,35,20,26,33,32,41,28,23,31,36,38,44,25,31,35,24,26,29,34,37,49,28,23,41,43,33,29,37,30,28,33,31,29,35,35,31,35,35,20,17,45,29,24,36,26,29,33,31,32,41,22,31,23,28,41,22,27,42,39,35,46,18,25,36,30,38,22,30,35,27,20,18,37,25,36,27,24,36,32,20,46,30,19,31,35,39,53,22,44,28,17,24,18,22,28,18,33,21,31,31,30,27,27,21,40,26,28,21,20,28,17,20,40,28,38,26,26,43,19,32,22,38,32,28,37,26,35,44,30,17,34,33,41,49,24,39,42,22,32,30,47,24,23,33,37,46,21,28,18,35,44,28,22,33,25,35,23,43,33,44,23,32,20,18,37,24,22,21,27,41,31,25,44,27,44,23,24,46,33,24,28,27,29,27,45,36,40,22,27,39,37,31,31,31,26,28,24,36,24,37,40,32,32,28,29,45,43,49,17,21,20,31,39,27,32,25,21,17,21,23,33,31,32,19,23,23,36,39,34,36,39,36,40,29,20,39,48,25,41,20,37,19,24,28,43,21,43,36,29,31,17,45,33,34,24,39,34,36,46,42,29,33,23,35,36,30,51,42,21,36,19,19,38,39,35,38,25,32,34,31,26,20,22,26,38,28,28,21,23,25,40,36,26,38,33,28,34,30,26,48,17,42,36,25,38,39,24,33,25,27,24,49,35,41,34,21,29,45,39,39,25,29,27,26,37,28,28,26,31,23,35,38,48,23,20,31,18,25,38,17,30,44,17,28,32,29,35,21,25,26,29,26,20,34,43,31,20,40,28,30,20,28,24,36,24,21,21,20,46,23,29,29,33,37,30,36,33,32,26,24,33,29,19,25,32,30,30,35,36,38,30,36,42,34,30,34,32,25,26,36,26,37,20,44,29,40,18,23,44,41,22,39,43,29,25,43,21,27,32,26,33,20,30,26,23,29,30,24,38,46,39,21,17,17,32,42,18,33,20,36,39,34,31,31,39,43,46,40,25,26,38,42,42,25,41,24,42,21,33,30,18,30,21,46,27,25,34,23,40,23,45,48,24,23,21,17,21,26,40,39,24,32,18,30,37,33,29,44,19,29,36,41,25,29,37,32,40,27,34,22,19,44,18,26,25,33,28,23,25,36,22,21,26,20,25,26,39,24,22,23,45,33,22,30,22,27,31,32,26,23,34,26,21,53,35,37,32,22,33,30,29,23,19,28,17,34,23,30,40,29,35,34,33,25,36,22,54,41,18,19,30,22,30,21,39,22,33,22,20,37,17,21,46,31,24,26,28,25,22,48,33,24,31,33,24,50,41,31,40,18,30,31,32,31,41,35,23,19,38,50,38,34,33,40,23,24,30,37,34,32,52,19,32,37,26,32,19,31,24,36,18,26,35,43,27,31,21,28,36,34,31,37,26,35,37,24,38,26,38,24,43,38,31,32,47,41,44,19,29,34,24,18,37,32,26,21,25,31,24,35,38,32,23,28,51,36,42,19,29,34,36,30,44,20,35,24,32,18,23,32,32,37,26,39,30,32,26,26,21,20,43,21,31,20,24,24,21,29,25,31,35,24,34,40,40,41,34,39,33,47,39,33,28,46,25,30,22,20,46,48,25,43,35,24,34,40,29,43,22,39,23,33,25,49,18,30,39,39,22,35,26,25,22,31,22,26,23,40,40,23,19,19,34,38,28,27,41,20,22,31,31,29,23,32,25,39,32,38,17,20,37,22,47,32,42,18,38,31,27,19,36,26,34,34,26,24,23,24,36,34,29,35,36,31,18,29,34,35,21,21,19,35,35,34,25,35,26,28,18,35,34,19,18,35,20,36,33,27,36,31,33,19,19,41,23,35,30,22,35,29,47,44,29,28,28,34,26,19,31,33,37,34,33,24,37,21,36,38,32,29,27,17,27,35,36,39,42,33,43,30,45,25,32,41,24,35,28,32,29,26,26,38,32,26,34,48,20,20,36,27,29,22,52,35,35,29,29,26,22,34,17,29,34,27,27,20,37,21,25,37,37,29,37,24,38,20,23,31,22,22,34,24,48,37,29,29,53,30,24,21,29,24,27,23,28,24,25,22,29,35,28,29,46,28,35,35,26,32,30,39,37,29,27,26,34,36,19,34,20,29,30,35,41,24,31,28,31,26,36,23,21,44,36,42,26,35,34,33,48,25,27,21,38,40,45,31,25,42,32,19,37,21,22,20,32,28,43,27,31,49,38,35,26,27,41,28,27,29,33,38,26,23,24,44,24,24,31,34,34,28,34,21,19,42,23,40,22,46,17,21,31,45,29,24,33,34,39,35,36,26,32,39,42,35,36,40,24,34,37,24,28,41,23,25,22,45,40,32,41,29,25,32,17,38,27,32,36,25,20,32,30,21,23,42,33,24,36,30,22,22,28,45,33,33,28,33,24,23,26,26,25,18,45,28,26,22,28,52,22,20,29,32,21,29,30,22,42,40,19,28,33,26,26,46,22,26,34,40,33,25,39,21,45,32,33,29,28,28,21,34,18,27,26,41,34,34,21,40,26,19,32,28,26,40,28,19,29,19,23,34,29,27,27,29,24,22,24,31,27,35,41,25,35,35,29,18,28,19,34,19,31,29,41,23,23,33,33,34,36,30,19,23,26,25,45,25,23,23,44,22,21,37,27,29,19,17,24,33,23,25,24,32,21,28,33,36,31,28,18,32,30,20,20,31,31,33,34,32,18,37,26,41,38,51,39,32,37,33,28,31,29,45,43,21,25,31,32,38,28,23,22,27,36,25,19,30,30,24,24,32,42,42,37,24,46,22,32,26,34,29,18,32,18,48,44,23,28,36,20,40,28,33,40,20,22,25,25,39,21,35,28,25,42,26,43,40,34,47,24,25,44,35,36,24,42,31,23,36,39,28,33,29,37,24,46,35,24,25,51,27,23,33,24,35,25,24,18,36,27,29,28,32,25,38,33,23,39,18,24,44,24,45,43,29,33,30,26,18,23,35,17,20,25,27,29,19,40,26,35,21,50,30,18,34,20,32,36,35,42,23,24,39,30,33,26,18,29,23,23,17,32,19,35,25,19,31,30,35,26,22,22,22,25,43,32,26,27,25,29,44,33,34,19,40,44,23,19,19,20,34,30,31,34,28,28,28,40,41,40,33,35,37,35,21,17,31,32,25,29,21,39,20,28,32,19,29,39,21,20,21,19,30,22,23,22,25,31,35,35,30,37,35,39,33,17,21,39,38,25,36,23,45,43,33,33,49,46,27,34,35,34,17,32,20,26,33,39,23,30,17,29,41,20,25,21,49,25,30,19,30,46,24,32,49,25,45,37,19,24,30,46,30,39,31,28,37,26,19,23,43,30,33,33,20,28,34,22,29,28,26,39,34,17,40,19,33,21,39,18,40,30,32,38,21,38,21,32,34,41,28,33,23,40,29,37,52,30,39,33,32,28,28,46,35,31,50,17,37,23,27,45,29,37,31,40,49,18,37,29,33,26,28,25,34,42,35,24,39,35,29,37,39,29,22,46,34,26,41,19,32,23,29,34,37,38,26,21,45,22,19,31,34,17,17,34,23,34,25,38,49,25,25,28,37,23,43,33,42,19,33,31,19,29,30,26,29,48,22,36,34,33,21,31,22,22,39,18,25,27,37,35,22,43,36,23,31,23,52,21,45,22,31,20,22,38,39,35,35,38,38,17,46,31,35,40,36,39,24,26,30,30,29,36,33,39,33,34,24,25,33,22,38,41,20,17,34,42,31,19,18,35,22,20,23,20,31,40,24,42,21,24,29,18,31,38,28,24,23,42,29,38,33,32,33,42,40,33,19,43,41,29,24,30,19,25,35,20,48,24,31,28,36,36,35,20,18,48,25,19,25,33,41,27,41,42,23,30,35,27,28,28,21,27,27,34,23,35,46,33,23,40,32,40,28,34,24,44,27,27,35,37,33,21,39,36,49,30,38,32,28,32,32,36,37,38,32,25,22,33,19,34,29,27,35,20,28,21,41,44,37,34,26,26,34,47,28,42,18,28,24,34,18,28,34,30,29,30,26,28,26,17,41,17,37,32,29,45,45,25,26,23,22,27,21,31,30,40,19,41,35,49,24,41,23,29,40,21,33,19,33,25,19,28,29,25,22,47,33,19,41,34,32,20,34,34,35,46,31,30,36,22,22,33,29,38,35,35,32,26,35,33,27,30,21,28,33,29,39,35,35,31,29,17,32,23,41,50,29,36,36,42,25,20,34,37,40,32,28,31,33,37,28,27,26,25,53,37,20,24,22,19,24,21,32,49,44,22,20,28,40,22,30,36,20,32,32,45,29,36,38,39,22,41,53,32,26,27,34,28,30,31,21,34,37,27,21,33,34,34,20,40,20,27,26,37,29,36,17,34,19,34,31,31,37,22,22,39,34,36,50,37,34,41,47,27,32,42,39,28,27,36,18,23,46,37,31,37,17,25,28,32,34,36,17,41,17,31,35,32,21,30,37,33,38,31,30,39,26,26,35,29,37,34,20,26,29,34,26,28,32,28,39,36,26,32,39,18,34,34,21,32,34,31,25,25,20,25,34,33,37,29,20,45,17,34,22,20,26,33,22,20,31,30,18,32,27,36,19,29,27,28,24,46,27,31,38,26,42,30,39,21,45,42,26,39,34,29,24,20,17,41,28,33,27,22,26,26,37,26,36,27,31,18,21,21,23,22,23,31,30,36,25,45,33,22,33,19,53,20,44,22,23,39,29,30,26,29,23,28,28,26,42,36,43,21,23,22,30,37,26,32,38,40,29,30,39,17,32,22,21,49,35,28,40,21,22,29,19,43,23,23,42,23,33,22,24,26,37,39,26,29,27,35,18,30,22,37,35,41,47,37,35,44,29,33,34,39,34,30,32,26,21,18,22,38,17,22,32,35,22,21,43,23,22,17,30,21,35,23,25,20,23,23,25,19,38,36,25,19,29,47,43,42,42,24,19,25,37,20,27,33,29,32,45,28,32,33,18,26,20,29,24,26,46,21,22,30,46,26,36,34,35,34,27,39,25,30,37,37,44,41,39,30,38,27,20,42,33,37,24,34,24,23,26,25,43,25,26,41,26,25,37,39,25,24,43,42,27,23,31,26,32,34,22,31,25,18,30,19,23,30,20,22,24,39,41,32,22,29,31,25,26,44,31,39,40,26,25,33,19,34,22,50,22,36,27,28,40,26,21,28,22,34,29,27,20,46,17,21,37,32,20,30,17,27,29,36,28,31,17,20,21,17,41,23,33,19,29,30,46,33,26,23,48,41,19,18,32,26,32,27,32,35,20,28,35,27,21,41,24,41,41,28,22,30,38,34,29,40,22,35,30,28,29,31,25,32,21,35,21,41,33,33,41,31,20,29,51,20,18,44,27,29,33,23,54,27,35,43,19,27,22,29,26,27,46,45,30,30,40,34,38,39,30,26,27,38,39,25,19,23,31,22,27,31,29,21,30,19,19,37,23,28,30,31,23,23,34,33,22,31,32,52,39,29,39,18,42,48,39,23,21,53,18,21,27,23,33,42,23,26,31,18,30,28,32,26,35,28,26,38,40,36,35,41,49,29,37,19,21,27,39,23,35,38,26,40,24,23,27,34,26,28,30,27,24,34,23,42,27,39,29,44,31,26,25,19,28,27,23,29,18,47,31,31,38,24,38,23,18,42,39,26,22,29,32,27,39,21,33,23,34,24,37,33,22,19,33,39,51,33,37,30,25,36,36,27,21,28,33,22,36,19,31,22,30,40,33,24,39,26,21,27,29,31,20,34,25,19,21,27,25,25,31,23,23,36,41,26,19,24,33,31,20,25,33,28,32,27,36,40,37,28,33,39,22,30,23,26,18,33,31,18,38,25,24,37,25,21,45,36,27,24,29,19,24,36,28,29,21,18,31,18,25,33,22,20,31,21,30,24,43,34,30,46,40,25,29,32,29,25,25,24,34,21,17,34,36,41,36,40,32,40,43,45,30,31,26,25,24,24,45,20,32,32,33,48,47,37,30,28,40,25,31,22,18,33,25,26,17,24,29,39,23,34,27,49,25,32,27,26,21,27,31,28,32,37,20,26,27,31,21,22,34,31,27,37,39,23,28,44,32,29,31,25,24,38,38,42,52,21,38,44,29,24,36,44,51,38,33,25,33,20,38,28,45,17,26,33,40,32,18,32,23,28,22,18,38,34,34,20,17,32,50,22,48,21,43,30,29,17,39,34,24,27,46,42,30,19,20,46,34,35,21,39,48,27,38,37,27,29,35,45,40,31,20,26,24,49,33,31,30,31,21,29,23,26,35,38,40,24,31,29,33,45,30,38,38,28,38,19,32,35,42,26,28,17,40,24,29,34,19,36,24,30,31,20,39,33,44,19,29,39,37,31,23,18,32,41,30,45,38,33,41,26,21,24,37,30,31,28,38,34,25,33,25,38,17,31,22,23,23,41,28,47,30,46,33,46,26,29,31,20,38,42,24,33,29,20,32,29,28,28,18,36,24,33,31,22,21,20,29,36,27,41,29,20,33,30,33,34,29,20,26,24,38,26,25,19,53,41,34,18,34,32,34,40,43,20,43,23,26,38,27,34,23,53,19,19,22,24,39,42,26,33,22,35,19,19,31,26,27,22,20,23,35,46,27,36,32,40,25,30,38,34,35,27,28,17,35,45,28,25,40,30,45,35,27,30,27,34,33,28,26,35,18,37,17,31,24,31,42,30,36,18,26,18,33,25,25,27,24,18,33,31,34,37,48,48,23,35,21,35,29,41,17,29,54,24,30,22,35,30,24,30,27,28,34,18,28,41,42,34,18,27,54,37,37,30,24,33,34,26,22,31,26,30,32,19,37,18,31,24,27,27,25,41,34,31,35,29,35,24,25,31,37,28,22,43,38,38,31,32,30,26,37,45,22,28,24,30,33,24,33,39,24,35,30,23,29,33,29,29,37,30,31,21,43,23,22,30,29,32,39,30,25,29,32,21,37,21,23,27,30,33,40,37,34,43,33,34,27,38,30,22,40,31,40,22,23,31,33,41,18,35,42,23,45,47,19,34,36,38,49,27,19,24,22,43,29,41,19,45,24,23,23,28,44,48,27,25,37,30,24,24,19,34,31,35,27,25,34,32,47,29,22,30,49,28,42,51,27,20,39,37,24,46,24,28,31,33,29,33,39,51,18,26,37,31,45,30,26,22,27,25,43,33,28,36,54,21,31,34,25,28,28,18,39,34,24,35,21,44,34,19,23,33,39,35,35,19,21,22,24,42,25,29,31,27,30,29,23,24,48,44,26,30,22,35,32,32,43,45,35,44,27,39,30,41,35,36,29,24,36,53,32,50,32,24,33,27,23,22,25,20,26,42,39,24,28,22,32,48,43,41,22,31,27,34,32,35,32,40,22,32,29,19,26,34,20,40,22,44,19,44,40,34,44,28,29,34,18,29,22,32,18,38,27,35,21,21,47,29,18,30,27,49,33,37,36,23,20,20,43,31,39,22,24,28,37,34,32,31,34,19,40,21,27,20,30,22,26,29,30,24,40,39,32,34,31,28,35,46,29,34,25,36,30,18,25,24,45,38,27,25,28,26,23,21,30,33,34,42,24,33,26,42,26,39,36,37,34,35,46,46,36,40,20,41,24,34,38,37,33,30,17,26,33,38,28,30,31,17,22,43,30,35,18,20,31,24,30,20,28,21,36,19,19,45,17,26,30,39,45,37,33,17,26,30,39,32,37,33,43,25,37,29,33,40,38,36,32,42,30,39,26,31,17,25,30,29,23,42,22,35,50,23,17,33,32,36,37,41,21,22,29,25,28,46,24,26,21,22,28,35,26,35,30,27,31,42,34,19,21,39,42,36,30,20,21,25,30,27,39,51,17,19,19,27,30,27,26,24,25,29,42,23,18,37,25,27,26,25,34,34,29,31,30,23,28,40,37,22,31,29,29,32,35,27,37,19,18,38,24,28,26,39,40,26,35,34,33,22,34,25,30,45,24,26,27,36,27,19,35,43,20,22,51,32,41,34,45,26,32,39,31,21,41,20,25,25,35,20,18,28,30,26,37,20,23,32,29,34,43,28,20,24,39,22,30,17,37,32,32,33,36,35,41,17,25,20,27,42,17,34,27,33,39,27,41,26,29,24,33,46,41,37,23,30,52,31,23,47,23,33,35,48,27,27,31,30,33,24,25,29,20,33,21,30,45,17,36,38,43,18,19,32,39,17,35,29,28,23,40,30,42,25,20,37,27,20,46,48,23,39,27,36,27,19,30,34,20,19,29,42,31,31,26,22,17,21,29,35,23,40,26,31,42,39,25,32,34,18,25,52,22,36,37,19,38,28,23,19,28,24,46,28,45,40,23,17,30,26,33,29,47,47,30,30,31,33,19,54,49,31,30,29,39,32,34,35,17,30,19,26,32,22,35,33,26,26,49,19,35,32,19,27,34,29,39,18,26,36,34,29,23,17,32,37,33,42,21,23,31,30,18,27,38,20,24,30,29,44,36,48,33,22,26,47,25,33,30,33,22,36,27,35,30,37,34,28,20,29,34,23,25,27,27,40,22,29,26,34,18,41,36,26,53,18,38,35,37,26,28,26,43,32,34,40,34,31,24,37,27,20,44,36,23,26,34,29,24,26,19,26,25,20,30,28,47,22,38,25,29,19,24,27,26,34,31,39,26,37,45,40,28,29,21,47,19,52,17,21,47,28,39,19,29,30,43,36,20,49,18,27,21,36,26,31,27,22,19,26,41,35,30,29,22,28,24,28,43,35,35,34,37,39,26,20,27,27,23,37,24,31,32,23,23,29,36,54,26,25,33,19,44,32,40,27,31,47,23,32,24,37,33,29,27,36,19,36,39,20,30,26,32,32,33,20,30,17,38,24,33,18,32,26,31,49,43,23,22,30,34,28,25,20,18,44,18,34,32,27,33,31,20,27,23,32,28,39,18,25,33,20,37,24,24,31,33,21,30,29,23,29,37,24,51,33,26,33,23,18,40,29,46,29,24,46,29,30,17,23,26,21,31,32,23,33,49,24,17,46,39,42,31,26,42,31,24,31,31,34,34,43,38,43,37,34,23,21,24,21,21,38,17,28,32,30,40,36,30,30,35,20,27,21,20,45,25,27,45,47,32,26,18,30,31,30,39,31,19,30,19,29,35,32,21,50,31,18,17,24,37,22,19,20,41,42,39,22,20,30,26,36,34,40,47,35,27,37,22,30,41,25,25,22,34,26,27,48,37,28,21,33,28,25,17,40,19,33,21,27,37,43,41,28,43,24,18,17,48,27,33,32,23,33,23,31,35,19,37,26,22,37,48,28,24,32,21,20,41,37,33,29,22,26,34,30,32,23,35,39,42,48,36,43,28,48,38,20,25,35,32,46,45,25,26,30,32,20,33,19,25,33,37,38,26,19,26,28,22,33,26,19,35,30,25,39,29,39,40,18,29,20,36,39,19,38,26,29,20,26,35,26,33,31,49,33,23,30,32,22,35,36,37,37,29,24,28,36,24,24,40,26,39,34,47,39,21,28,27,40,32,33,32,25,33,17,23,40,27,17,39,35,41,31,20,42,41,32,23,36,53,35,27,39,18,45,37,50,25,25,25,25,45,41,29,29,24,31,20,38,31,37,32,18,17,29,32,33,37,18,19,38,32,38,26,27,19,28,34,17,24,45,33,22,43,27,23,39,40,39,17,40,22,32,49,25,48,19,22,23,30,18,18,25,20,39,37,37,50,21,21,31,43,38,25,20,33,33,22,32,39,38,23,19,21,36,38,30,36,53,44,37,42,32,22,33,31,53,32,36,33,33,28,23,40,22,35,33,23,32,26,23,29,29,41,33,19,27,27,32,27,25,34,31,19,31,44,19,22,37,25,34,37,35,38,17,30,19,26,41,26,32,38,29,21,30,37,38,23,25,33,18,21,34,24,28,33,17,38,32,34,24,31,21,28,30,24,38,30,22,39,30,29,25,23,27,35,48,20,23,25,22,33,33,40,47,25,25,26,23,24,17,30,28,35,30,18,35,30,38,26,37,36,40,21,18,30,23,35,27,22,36,34,18,22,22,28,32,43,17,21,22,34,32,20,18,31,28,44,38,29,21,21,26,30,33,29,22,40,18,37,18,23,34,35,28,21,35,24,34,25,25,35,22,34,27,26,32,49,37,33,39,45,17,40,22,25,24,22,18,25,24,18,36,21,43,27,18,23,30,27,27,26,24,20,28,38,22,38,39,36,28,36,31,33,28,33,23,20,35,30,43,30,25,44,22,32,39,27,23,21,25,37,44,29,24,21,30,30,17,27,20,25,30,45,24,28,20,17,17,27,21,35,38,39,30,30,25,37,38,39,46,28,21,30,29,23,39,26,21,18,48,41,27,21,42,38,21,28,34,43,24,25,30,25,36,21,24,24,30,49,35,36,24,39,40,41,28,30,26,21,20,32,41,27,52,30,39,22,22,33,28,36,34,36,18,31,27,36,43,24,38,41,39,21,25,26,33,30,26,20,34,19,28,37,41,29,47,33,34,31,28,21,26,35,33,34,28,28,34,50,32,26,40,18,28,20,28,20,37,27,32,28,25,30,39,26,25,40,30,22,39,39,31,28,45,32,36,28,50,35,25,19,25,29,33,27,23,35,38,44,25,26,32,21,17,17,20,41,25,17,24,30,27,35,31,40,37,30,40,34,39,27,22,35,22,32,33,32,38,21,30,31,32,34,34,44,37,37,26,48,24,34,19,29,40,27,19,34,28,17,31,39,31,34,34,26,37,30,22,39,18,38,40,28,33,21,43,23,29,45,28,27,34,30,29,29,27,27,22,29,21,31,32,26,23,19,26,36,24,20,33,35,25,24,30,49,29,33,26,25,28,25,27,28,26,47,29,20,42,29,33,22,23,33,35,29,35,36,48,19,23,27,40,18,26,23,34,38,17,33,41,30,32,19,19,23,43,32,20,36,36,31,20,39,28,33,30,41,29,20,20,25,24,30,19,36,28,19,33,35,36,23,26,28,24,44,27,20,30,43,20,38,39,32,18,26,24,35,26,31,29,18,17,26,30,26,33,26,28,36,34,32,28,37,22,26,38,17,30,28,41,46,18,18,22,32,27,39,39,49,25,32,37,39,26,25,36,28,19,23,41,24,35,19,29,28,44,22,24,38,28,28,19,25,40,23,35,26,33,34,28,24,31,24,27,31,38,30,35,31,36,31,31,18,21,32,17,33,35,34,18,44,23,35,30,36,25,22,26,28,40,38,36,21,37,27,21,27,27,39,32,52,49,36,41,32,21,42,25,40,39,42,29,20,23,36,37,27,21,21,31,39,35,17,25,26,32,17,25,34,19,26,17,34,40,28,37,18,24,31,21,42,46,28,44,39,45,52,19,38,25,34,17,19,29,33,22,33,36,30,31,31,37,30,30,30,29,23,31,28,30,17,26,36,20,24,40,24,27,22,29,22,17,44,25,22,23,25,22,26,21,28,30,19,27,31,25,25,18,29,25,29,28,30,28,24,36,28,24,37,32,27,43,28,21,34,30,35,43,32,37,26,31,20,34,24,27,32,44,26,18,24,28,30,37,19,42,19,37,41,22,30,30,32,42,27,26,23,23,23,30,29,25,28,28,47,41,28,34,41,50,20,24,18,31,31,38,29,31,52,33,27,28,41,27,33,17,26,41,26,34,21,28,37,27,22,20,32,24,21,44,43,38,41,25,25,31,22,35,45,32,45,35,44,17,35,26,36,39,31,39,20,17,23,17,29,22,33,29,37,36,22,41,45,43,39,42,23,20,33,35,28,21,35,17,19,44,29,41,46,27,31,24,21,23,29,21,28,36,48,31,25,34,19,19,39,39,41,38,31,31,38,21,25,36,33,22,43,22,33,19,28,30,31,40,20,27,32,32,30,39,39,26,44,35,38,41,36,37,18,32,22,19,33,30,25,41,27,18,33,27,29,31,22,19,30,24,39,18,31,49,44,34,31,17,46,37,48,37,21,33,33,25,24,27,27,25,32,33,28,42,32,29,35,33,31,27,27,23,18,19,31,31,20,21,38,17,26,43,36,36,24,20,23,32,40,21,25,33,36,42,18,44,38,32,36,23,39,17,40,25,52,20,21,47,41,24,26,35,23,26,30,33,35,47,34,35,28,37,37,24,42,27,40,17,31,39,41,40,27,39,27,24,43,20,46,26,43,22,40,29,38,34,20,32,20,40,25,31,32,38,33,43,27,22,36,23,18,35,46,33,35,18,48,35,40,28,48,32,23,37,26,19,22,50,39,28,17,24,26,31,42,20,20,36,38,30,35,31,28,40,37,35,34,35,19,21,38,29,46,32,24,37,32,18,29,32,48,32,24,17,20,23,26,52,24,23,23,30,28,24,31,30,28,32,26,40,25,30,29,32,38,27,26,34,23,25,21,23,44,31,19,20,30,21,26,38,36,32,28,18,30,23,36,23,44,29,23,24,27,49,23,20,31,20,40,24,29,23,49,44,42,36,37,51,23,35,36,24,25,22,31,44,32,26,20,39,18,38,39,18,34,25,21,19,47,32,35,42,28,19,30,35,41,37,39,53,19,26,26,26,34,29,19,47,26,25,40,33,50,21,37,22,41,27,19,41,21,25,35,23,38,25,32,36,35,25,40,38,35,31,42,29,30,37,23,38,23,17,38,29,23,40,39,35,25,45,33,26,35,22,46,35,46,27,24,47,30,30,23,19,28,30,25,39,31,24,32,41,23,25,33,23,17,32,41,37,28,25,38,36,22,40,29,35,24,18,28,36,37,27,24,44,38,41,36,39,29,24,23,39,21,27,44,29,25,27,29,25,42,29,26,37,42,37,23,50,23,31,47,19,23,31,25,24,31,35,28,29,22,19,46,19,26,24,40,30,27,38,30,30,22,29,24,20,17,22,31,48,35,20,37,24,30,48,24,37,42,25,31,27,22,37,31,27,41,35,38,20,25,17,32,27,28,22,53,32,30,24,35,34,31,31,26,26,26,27,30,29,31,22,30,35,35,23,29,45,38,32,27,22,21,17,30,23,20,37,26,37,36,19,39,17,27,28,29,20,28,20,20,48,36,42,35,18,39,29,34,19,30,28,23,29,20,26,38,20,30,27,20,29,40,42,38,32,17,38,29,19,26,32,21,21,25,25,24,38,36,46,42,23,28,29,31,36,26,43,31,38,19,29,27,32,40,28,25,30,42,33,22,43,32,41,38,24,28,46,33,24,25,24,39,32,24,32,43,28,38,30,32,25,30,26,30,18,27,30,29,28,35,36,41,31,26,32,39,28,21,18,26,21,42,28,31,22,17,19,27,37,39,41,26,17,33,38,23,41,44,47,34,17,40,31,17,20,48,34,44,37,43,29,31,20,25,28,40,37,25,29,39,30,39,33,41,23,42,39,32,27,27,26,31,20,19,29,41,21,27,25,28,30,40,39,27,38,31,22,22,25,25,21,24,33,18,30,26,30,29,38,42,19,18,22,17,23,19,24,22,33,32,19,30,50,29,28,42,38,23,23,21,45,22,21,25,39,40,27,29,28,17,32,41,40,23,39,32,34,23,17,35,43,22,40,33,31,39,23,22,33,42,40,27,39,18,42,42,27,28,39,37,20,54,22,24,22,37,35,28,24,29,22,28,28,35,44,23,19,39,28,39,22,26,31,31,28,52,33,44,26,32,21,46,22,31,41,27,21,31,32,43,18,22,23,38,22,33,24,26,46,17,27,29,34,34,33,30,34,20,33,43,33,40,38,37,48,23,24,23,21,23,32,28,33,24,42,30,37,33,34,27,22,35,24,30,17,28,32,23,28,31,20,35,17,20,26,22,20,31,37,22,23,27,25,17,41,23,26,22,25,32,26,36,18,34,32,27,26,41,18,49,28,26,33,32,42,18,28,42,26,26,29,32,25,38,25,43,35,38,27,30,38,36,22,34,38,25,29,27,26,28,30,44,35,29,29,46,33,39,22,28,43,27,18,38,32,36,28,25,25,32,28,19,17,32,40,21,27,27,28,31,24,39,36,20,31,30,33,31,45,27,32,41,23,31,24,25,27,42,38,18,33,18,29,29,35,39,37,22,38,30,34,22,19,22,45,24,29,37,23,24,38,23,38,30,33,22,27,29,28,36,49,20,22,34,35,32,18,33,24,39,30,20,42,45,36,30,33,25,30,26,23,35,17,35,26,37,30,48,24,33,34,36,33,21,27,28,24,30,49,40,40,25,37,22,37,36,36,30,25,23,28,35,27,45,31,25,23,32,18,24,28,28,26,30,32,28,22,34,24,23,27,19,28,38,30,44,23,28,27,26,38,40,48,29,29,21,29,37,36,44,37,22,30,30,22,29,26,20,21,26,28,25,35,19,25,28,31,36,34,38,38,22,31,33,27,25,43,33,46,34,26,18,35,38,29,35,39,29,44,32,18,20,23,23,19,21,48,21,31,28,24,33,31,32,26,28,20,44,26,29,22,26,29,35,18,20,27,32,20,24,32,30,22,18,39,20,39,41,36,34,23,27,32,20,41,23,40,28,28,23,30,21,32,40,36,37,42,20,40,39,26,38,35,26,26,44,27,26,33,22,41,28,19,28,26,41,22,40,37,30,40,25,26,30,29,39,20,43,26,31,29,27,49,37,30,20,23,31,32,27,20,43,28,33,31,20,28,39,38,19,34,30,29,38,37,27,17,29,21,29,33,23,21,17,37,22,39,20,20,27,21,19,33,21,48,39,28,21,38,43,23,33,33,40,30,23,24,33,38,17,50,21,20,28,32,33,33,26,34,34,32,28,36,37,35,38,32,25,29,20,35,33,33,51,17,26,19,18,43,29,37,32,17,25,36,42,17,22,34,38,24,21,27,29,36,21,42,36,19,18,25,28,31,23,32,17,34,48,40,17,24,22,39,18,18,28,34,25,32,34,27,28,29,35,47,54,26,31,21,28,40,26,35,44,30,26,38,20,27,23,41,27,25,22,21,35,17,24,33,28,39,46,18,19,30,18,36,40,29,24,27,42,35,36,26,25,22,21,31,21,31,21,23,17,48,44,21,31,44,32,37,37,22,33,34,22,41,24,27,36,27,39,35,40,30,36,26,30,32,28,33,34,36,46,27,43,27,44,29,25,39,30,25,34,39,24,24,25,46,33,32,26,19,36,25,30,40,28,51,31,35,35,21,27,40,26,23,25,19,24,36,37,22,25,27,40,35,17,28,47,23,31,25,19,34,24,42,25,21,25,23,36,43,28,22,30,30,44,32,42,41,25,25,28,43,29,28,34,34,28,21,32,21,19,35,23,33,46,54,19,22,23,35,29,41,27,33,33,27,37,28,34,27,29,28,23,39,31,44,46,41,34,21,23,30,23,31,43,29,48,34,27,38,23,36,20,29,35,25,32,31,20,19,31,23,29,23,21,36,44,18,33,25,28,17,32,28,20,25,30,44,32,18,26,49,31,21,40,35,34,32,24,34,28,33,38,38,31,33,36,32,30,46,47,22,42,34,23,29,30,27,19,38,29,20,27,25,23,23,44,29,39,43,51,21,28,32,25,47,27,36,40,32,33,29,34,34,26,21,38,39,21,42,18,19,29,24,25,20,42,28,36,32,35,17,32,19,23,27,27,25,30,26,23,36,30,30,44,26,22,29,24,18,34,40,48,21,29,27,35,20,32,30,25,37,41,26,37,31,25,26,30,42,32,29,30,23,21,41,22,23,22,30,47,40,35,26,29,39,27,41,48,35,31,30,27,26,27,27,33,34,28,18,18,30,26,31,31,18,32,31,31,23,23,28,33,32,25,46,29,31,24,40,23,18,31,30,43,24,35,32,32,22,29,36,42,33,35,17,54,23,40,30,37,27,20,30,27,33,54,43,29,30,33,25,26,25,25,34,39,26,36,21,40,42,26,25,38,28,23,28,32,24,26,30,38,22,33,24,43,32,41,35,17,34,34,17,21,32,22,40,29,30,34,34,34,31,44,23,27,22,36,21,28,31,30,33,42,35,29,47,33,22,22,26,34,31,36,42,21,31,24,41,36,32,40,40,22,27,33,34,28,39,24,50,22,39,28,31,40,18,24,36,25,43,19,34,30,44,26,31,21,30,26,23,17,43,33,46,24,22,37,33,36,25,25,41,41,25,24,24,35,23,27,38,34,20,17,26,30,31,38,36,24,32,34,34,37,28,17,25,29,46,17,26,42,18,27,29,30,30,31,27,31,36,22,34,24,23,35,17,35,41,21,45,36,23,29,51,48,35,23,18,38,23,17,21,18,27,42,34,21,29,18,20,34,24,34,34,32,26,34,35,33,28,25,21,20,36,20,22,27,28,19,33,32,22,33,40,29,36,36,45,32,22,38,44,41,39,33,24,27,32,33,38,32,23,22,25,23,25,32,19,38,38,27,33,34,30,38,42,23,30,34,24,26,32,30,32,29,30,29,32,28,19,23,38,26,43,48,45,30,48,43,40,28,22,18,27,46,27,27,45,19,38,33,27,21,23,43,27,27,36,30,38,40,26,24,39,32,33,34,25,33,38,22,31,26,32,27,31,34,44,24,22,19,28,23,21,18,24,28,33,39,23,35,36,46,21,44,18,35,33,30,29,25,18,35,35,21,30,28,29,28,37,22,23,24,23,17,33,40,21,39,25,28,28,36,37,41,41,41,42,43,24,40,21,35,44,23,34,17,22,35,22,22,36,30,17,26,26,28,36,19,33,35,43,27,20,18,29,36,33,31,28,19,37,31,36,42,25,43,24,42,41,25,23,49,36,31,33,17,26,37,42,25,33,22,25,39,18,31,23,38,28,18,21,31,27,22,32,36,37,17,34,23,29,43,43,35,33,35,29,30,38,36,37,22,48,19,50,25,36,27,30,19,19,32,19,30,45,20,37,40,34,37,41,32,47,36,34,33,26,31,33,23,43,54,20,35,40,27,37,17,38,35,34,22,21,22,31,18,21,20,51,19,28,22,20,36,17,39,19,36,23,27,24,29,28,37,27,34,38,36,27,17,43,27,36,45,36,29,40,29,29,27,31,24,32,24,32,31,44,30,29,34,30,38,37,38,43,24,38,18,37,32,49,18,22,29,34,17,40,25,37,37,40,18,30,24,31,18,31,32,46,22,41,22,26,45,34,22,21,28,40,27,31,41,17,22,22,27,36,23,33,40,49,28,32,27,26,33,24,35,24,26,20,19,35,20,28,29,22,51,38,20,53,36,35,19,23,28,26,21,19,25,26,29,48,30,25,22,20,46,41,24,35,34,18,22,35,34,20,28,31,37,24,46,20,47,25,23,26,36,39,41,20,25,41,42,30,19,28,19,28,48,44,31,40,46,38,44,30,28,32,35,33,24,19,39,23,34,44,29,26,37,28,18,34,37,32,43,18,34,24,27,23,34,26,28,23,38,54,24,33,40,28,42,21,46,21,34,45,29,28,42,23,32,31,37,41,23,30,29,30,32,33,49,42,36,28,17,19,28,42,29,30,23,28,26,24,23,21,29,26,33,35,26,30,21,22,28,29,27,31,21,23,50,35,36,19,23,26,19,20,42,33,33,22,23,42,44,26,31,44,41,33,20,42,23,44,28,27,23,33,31,36,19,27,28,39,35,21,30,24,32,29,18,31,33,32,21,28,33,29,45,17,32,29,34,18,30,36,34,25,23,40,27,39,26,48,24,27,29,23,31,27,27,21,28,37,37,30,20,25,36,27,42,25,28,22,33,48,40,22,18,32,44,34,21,24,17,22,19,32,25,25,33,36,43,32,31,29,24,38,27,41,20,45,36,35,52,46,33,34,17,30,37,46,22,31,36,27,33,40,35,22,32,23,29,35,24,27,19,22,41,26,24,40,22,22,41,22,25,34,41,42,27,41,31,27,34,27,17,43,31,19,45,31,19,31,40,24,30,26,18,41,19,40,41,26,39,32,41,26,33,30,24,31,21,26,54,39,17,28,36,33,40,39,40,32,44,44,34,40,37,39,26,28,25,25,23,18,25,40,27,45,21,29,25,28,24,35,29,26,42,29,44,31,31,30,31,48,27,20,42,33,39,37,25,46,33,32,32,43,24,43,19,37,22,29,39,28,37,33,31,23,31,33,47,23,19,34,36,27,30,19,26,39,45,26,27,40,39,39,40,48,32,19,36,35,24,35,18,21,21,36,30,39,27,30,38,40,17,43,21,39,39,36,22,43,18,28,25,36,44,33,20,40,33,27,21,38,19,24,24,33,34,28,34,31,43,23,35,31,41,20,44,19,17,21,27,18,33,25,34,28,25,23,37,40,31,29,36,25,31,23,30,19,20,26,22,26,33,19,37,31,35,37,21,20,40,25,21,18,35,27,52,18,28,44,33,32,35,43,19,37,41,30,25,23,41,33,39,37,39,39,20,46,23,22,23,36,33,28,23,32,39,32,46,36,38,34,38,39,18,28,19,29,33,18,48,25,37,18,17,29,35,21,26,20,28,28,37,51,27,22,28,25,33,27,34,29,20,38,22,41,41,38,33,24,22,26,48,22,18,29,30,31,26,31,38,31,40,39,29,17,24,37,30,42,25,29,30,45,22,30,31,20,35,31,37,39,31,34,28,32,30,38,20,35,25,25,48,26,19,24,35,29,40,38,37,43,36,42,26,32,21,35,20,26,31,38,45,21,33,42,21,35,30,28,35,17,21,36,24,26,41,17,24,29,27,40,27,45,22,47,31,46,46,31,43,44,22,30,42,48,36,35,27,28,34,21,25,22,31,19,19,21,26,24,17,41,28,54,32,17,50,25,24,35,25,36,19,23,25,20,26,33,33,43,34,33,35,25,31,23,32,33,18,19,28,30,44,31,32,36,31,22,26,32,22,36,31,34,32,19,45,25,25,22,49,30,26,30,22,28,26,26,21,23,21,39,43,45,44,36,22,35,27,20,31,26,21,23,25,37,53,32,51,20,21,19,39,42,33,32,46,21,41,18,36,42,29,29,34,17,28,47,32,41,35,31,26,30,27,38,35,38,33,40,33,25,33,32,22,34,39,41,32,29,21,24,42,42,32,27,20,24,39,40,37,18,22,30,29,24,51,33,22,18,32,44,28,48,24,30,17,25,20,25,33,17,18,31,32,39,25,32,24,30,23,30,38,37,22,34,28,26,31,32,34,21,17,26,32,36,30,24,34,20,20,18,35,25,20,31,34,40,19,27,35,38,27,31,52,23,21,37,31,33,27,20,21,24,28,25,22,33,28,37,29,27,25,18,31,42,49,27,32,38,29,18,22,26,34,27,35,21,40,21,19,29,27,42,32,25,36,27,20,42,22,29,38,23,28,22,37,32,25,17,38,27,24,40,23,21,26,37,35,35,23,27,25,33,24,20,30,39,30,29,23,21,44,29,20,38,28,36,39,30,18,41,27,21,22,40,49,30,26,38,30,18,27,25,51,37,34,46,40,38,28,26,37,30,24,29,26,36,20,50,23,33,33,46,26,34,30,34,24,29,35,32,34,41,34,29,32,29,31,24,23,37,40,26,40,35,30,35,21,27,24,34,43,34,18,19,46,27,24,41,23,32,38,29,42,46,31,49,49,32,27,22,26,30,27,28,41,23,29,34,22,30,42,33,25,24,26,30,20,43,24,33,31,32,27,39,42,25,54,26,25,29,20,19,25,29,31,32,36,24,31,27,54,24,39,17,25,39,24,27,20,38,35,41,33,36,33,19,25,36,45,34,37,29,37,20,35,41,34,52,24,28,22,24,45,19,29,17,30,29,22,27,33,21,33,24,47,19,28,27,26,40,26,29,32,28,28,22,37,24,35,18,32,35,41,32,26,46,25,23,36,39,23,37,30,30,31,51,31,20,52,30,39,17,22,25,35,26,29,30,28,28,24,36,38,26,20,38,36,31,22,37,19,48,45,27,33,32,33,22,17,21,48,32,34,38,20,24,42,24,41,29,18,35,22,28,23,17,37,35,31,25,43,41,47,24,26,26,40,37,34,21,33,34,24,22,25,33,27,39,33,33,39,30,33,33,21,27,35,30,42,38,34,20,23,19,44,19,27,30,33,29,41,27,34,25,22,33,41,23,25,38,44,28,31,41,27,24,46,21,21,30,22,36,41,31,29,30,43,30,38,35,30,42,26,37,47,30,51,39,33,42,21,27,34,18,30,29,30,29,27,20,36,25,36,33,28,34,25,43,20,22,30,25,34,17,20,18,42,32,18,23,24,25,23,31,22,23,30,34,40,18,32,40,25,37,36,24,36,44,21,30,19,31,31,31,48,24,32,39,17,20,25,25,39,29,26,22,26,28,20,31,38,29,21,33,37,36,40,41,32,23,34,26,42,27,31,33,23,43,34,32,38,37,29,30,17,34,27,34,20,49,21,20,34,26,25,26,40,21,24,32,21,48,25,17,31,26,41,33,20,33,39,39,29,24,24,46,33,35,43,29,24,25,37,25,34,35,22,41,51,31,25,30,19,28,20,21,34,17,34,28,20,31,42,21,33,28,40,24,33,25,30,20,18,40,27,35,24,26,21,44,40,36,38,37,34,23,28,46,38,27,27,36,33,29,26,27,28,46,39,34,31,20,32,22,37,36,39,34,41,21,21,41,25,29,32,42,28,23,17,42,32,18,24,23,37,42,29,26,24,23,22,27,25,24,35,21,34,28,34,31,23,20,37,18,17,28,30,25,29,38,35,18,33,30,17,20,22,29,40,36,37,29,32,24,34,22,40,20,32,40,38,25,32,33,39,28,20,29,31,21,38,22,29,28,29,36,30,21,20,33,32,22,19,43,18,45,29,38,41,21,24,30,28,34,22,27,33,36,33,31,43,32,30,20,24,22,27,27,30,28,34,21,30,41,39,25,33,20,21,32,30,33,45,34,32,30,29,33,32,30,20,39,25,30,32,17,28,20,35,24,21,46,24,31,21,28,30,38,33,39,18,44,21,27,36,28,19,38,24,17,30,18,35,22,44,28,25,26,26,31,34,20,35,34,40,41,49,30,36,39,40,36,28,20,42,23,35,28,25,30,27,20,29,24,35,47,22,26,53,18,26,20,25,18,20,20,35,21,37,38,35,19,29,17,33,30,20,33,28,41,42,27,30,37,18,31,37,23,28,19,24,38,33,31,17,34,25,36,18,23,17,20,33,23,41,29,25,35,32,47,24,29,35,35,31,29,19,29,26,24,21,24,28,41,25,29,22,22,40,32,35,27,31,17,23,21,30,29,18,28,35,23,19,43,21,32,23,24,22,29,32,20,28,47,43,33,26,22,30,20,28,36,36,25,31,28,25,22,43,29,33,40,20,23,49,32,34,41,38,39,26,41,29,39,32,27,29,24,34,35,22,32,30,32,20,49,28,20,41,27,40,22,20,28,22,17,40,42,41,39,33,40,25,30,42,42,33,18,32,38,47,35,32,43,49,26,30,32,31,42,24,29,18,28,28,19,27,30,34,25,32,39,40,37,38,33,36,27,24,39,38,31,27,30,21,36,25,21,17,36,17,21,29,36,39,33,34,35,23,33,21,19,35,21,39,27,29,47,35,30,27,26,28,33,31,21,43,22,20,23,23,35,27,30,23,48,27,40,38,31,24,40,28,23,41,47,26,32,30,29,35,27,28,21,39,22,30,30,41,48,34,41,30,42,24,25,28,25,21,33,25,25,24,43,31,46,30,27,49,29,25,17,20,29,23,31,35,27,34,24,37,25,44,28,42,21,30,45,25,32,48,33,23,24,40,40,26,21,54,41,28,26,22,41,21,34,36,18,35,20,23,36,26,30,44,19,19,49,39,45,33,24,34,41,21,28,28,26,29,33,27,37,52,36,27,17,17,21,35,27,28,26,18,40,21,25,19,46,25,23,49,27,21,33,25,19,45,28,23,33,46,21,39,34,18,26,31,30,35,33,41,21,35,41,20,28,28,40,37,45,38,23,21,39,23,39,42,25,31,42,43,32,49,21,24,21,25,26,26,19,25,28,40,43,23,36,27,19,28,48,36,31,39,39,20,41,31,35,35,39,54,29,42,29,20,35,20,35,30,35,25,35,25,31,38,18,23,30,19,34,23,17,40,27,29,46,25,29,26,17,31,22,32,29,41,26,17,34,30,37,37,26,26,17,26,43,36,26,22,18,17,31,17,38,30,29,36,28,24,46,32,34,20,48,25,17,18,32,34,47,33,40,48,44,45,38,22,41,17,38,42,29,25,36,24,26,36,25,35,30,38,25,36,34,37,32,30,35,27,23,32,19,29,32,34,35,23,19,39,30,31,28,20,37,19,17,30,25,28,25,18,31,28,32,30,31,31,28,39,29,51,24,38,44,18,24,31,38,32,37,41,45,23,29,34,24,22,34,36,37,26,37,21,37,38,21,33,31,51,26,27,18,21,38,37,43,29,21,24,23,35,43,28,22,22,30,30,18,45,27,35,26,47,23,30,36,17,33,31,41,22,37,35,35,40,42,50,34,29,23,29,23,33,19,38,20,33,21,29,39,18,31,20,27,36,31,19,19,33,35,25,20,31,43,24,20,46,39,38,29,35,41,28,32,23,26,28,38,39,39,23,27,41,42,32,29,31,36,32,17,36,28,18,42,36,28,45,17,32,35,19,36,30,37,19,32,32,21,22,25,17,22,40,33,44,32,20,21,33,41,30,28,20,25,36,24,25,27,36,35,43,33,34,28,35,37,20,30,27,33,33,30,23,24,31,21,50,22,17,39,27,22,30,23,45,40,25,30,32,38,32,31,24,20,19,22,23,22,32,33,30,32,33,26,29,37,39,37,32,26,28,27,28,32,24,28,38,36,33,48,30,22,48,33,23,28,39,51,19,30,39,30,41,19,22,28,36,27,33,49,28,40,37,27,38,19,28,21,37,26,19,21,18,20,48,26,35,17,28,27,28,45,31,41,39,21,29,31,31,26,45,18,21,40,37,32,28,19,18,31,49,31,52,25,27,46,22,49,24,24,19,35,22,32,33,27,38,25,18,39,39,40,43,39,51,19,35,44,29,37,28,21,28,17,30,18,27,34,33,32,23,34,29,28,28,21,23,28,37,42,29,48,41,28,34,36,45,22,21,40,17,35,21,36,31,35,26,25,29,40,41,27,23,33,25,30,27,40,31,27,26,29,23,35,23,40,36,18,30,26,33,32,31,25,18,23,23,25,47,29,23,31,37,36,45,52,25,34,27,33,19,42,42,29,29,40,18,48,39,24,33,32,26,22,28,28,29,36,23,21,30,31,37,24,19,41,53,23,25,25,42,20,33,30,20,27,45,17,30,17,36,19,28,30,25,29,17,41,30,21,23,44,40,27,37,34,19,27,30,38,30,23,30,23,19,30,22,43,39,31,32,21,19,27,31,30,37,24,32,26,21,35,32,26,47,23,28,35,19,41,42,24,33,42,48,17,46,28,20,23,34,27,24,32,20,31,30,45,24,44,54,21,28,29,28,32,34,19,30,31,30,24,34,32,25,33,21,40,33,18,28,42,24,30,36,20,29,30,22,27,29,19,29,28,32,35,25,35,53,24,18,26,31,37,25,36,17,27,21,19,20,28,36,44,28,30,23,22,42,25,42,32,23,20,38,41,36,34,23,39,17,31,28,26,18,29,31,24,38,17,38,29,21,19,31,28,26,27,19,27,19,34,35,21,24,29,27,26,30,24,40,25,28,31,20,33,17,35,43,22,45,23,38,48,22,38,28,30,29,24,18,37,33,42,41,37,28,34,24,29,37,35,48,20,18,38,29,25,34,24,24,26,20,24,35,32,21,47,30,39,27,29,37,24,33,32,19,38,27,22,38,21,23,30,31,17,19,22,28,29,20,22,49,36,34,30,22,34,25,21,24,31,35,21,25,32,22,29,25,53,41,49,18,35,35,41,23,19,30,28,26,36,38,27,37,29,43,31,19,34,23,17,29,44,28,34,21,26,30,35,30,30,35,29,38,29,29,30,38,50,28,24,35,48,20,22,25,34,21,31,32,29,43,29,32,36,23,24,31,37,41,21,29,30,20,32,29,45,40,21,20,27,37,28,37,47,38,24,18,39,30,24,29,25,25,23,26,36,32,32,33,29,20,39,30,21,26,25,29,36,34,25,47,47,19,27,42,25,21,32,28,32,26,39,31,28,26,27,34,25,26,30,38,37,22,29,23,50,36,22,30,36,30,20,29,40,27,17,37,17,17,35,27,44,26,27,24,25,23,40,28,22,32,33,33,31,32,23,32,30,34,43,21,21,34,43,27,24,36,22,34,24,31,40,26,30,34,42,27,48,33,21,18,19,42,36,24,37,21,32,27,28,40,22,21,35,22,29,21,36,36,39,25,33,19,24,21,34,22,24,25,30,29,37,31,18,35,39,34,21,37,27,42,53,26,18,40,18,29,23,40,36,42,24,24,32,20,29,21,29,43,21,22,24,26,28,43,21,25,42,35,23,18,25,33,26,28,25,39,28,29,18,24,34,32,37,48,24,24,47,35,24,28,28,21,21,31,27,31,28,21,34,25,31,38,41,44,31,22,29,23,39,34,17,39,51,26,17,39,17,18,30,20,18,32,21,37,24,32,39,24,22,28,26,37,32,26,17,20,31,41,21,29,32,49,32,41,40,27,23,41,30,33,19,31,20,22,21,36,26,28,35,43,26,45,42,39,40,18,18,30,17,23,24,35,44,29,27,37,27,23,29,35,20,21,48,46,22,39,21,36,24,17,44,41,32,22,38,41,33,38,36,35,22,32,29,39,31,33,38,41,32,40,30,33,31,29,21,37,40,24,28,20,25,37,29,27,24,41,22,23,35,31,27,45,24,28,25,26,28,26,33,27,21,31,23,38,36,24,33,33,31,44,34,45,29,33,25,36,36,38,45,30,33,35,20,33,17,43,34,32,27,25,25,29,41,41,37,36,24,49,21,17,27,39,20,17,49,29,21,44,37,27,39,18,21,27,39,27,21,27,22,30,40,26,30,22,35,24,31,23,26,28,23,37,18,30,43,19,28,30,25,36,21,23,35,17,27,18,29,34,25,36,29,19,32,23,20,37,25,33,27,34,30,35,28,32,44,32,29,38,29,37,31,36,18,38,32,25,31,20,20,36,31,42,23,28,31,44,29,21,39,21,24,21,23,30,24,27,24,23,31,25,33,18,22,30,38,34,40,30,31,46,31,42,39,36,34,22,46,34,20,30,19,24,27,27,26,29,43,22,20,24,19,34,25,34,27,25,36,26,32,26,32,28,32,23,20,26,20,34,18,27,38,37,34,37,35,30,26,19,25,44,20,22,29,26,29,38,25,25,44,32,30,27,41,36,31,32,38,30,22,29,23,30,17,43,29,24,31,43,41,38,41,24,46,27,26,17,45,28,27,40,25,18,22,37,21,27,42,34,38,23,26,32,31,30,43,52,34,47,41,28,26,25,17,26,45,33,29,34,19,42,37,48,35,41,24,37,41,21,33,29,26,25,27,24,35,30,31,27,27,25,17,34,30,43,34,32,31,44,28,42,44,36,29,21,25,30,36,38,34,27,25,34,20,26,24,18,18,27,40,20,36,32,29,31,26,39,18,36,22,17,31,35,25,25,26,44,39,19,31,36,37,46,28,24,44,30,37,19,30,27,36,33,27,18,26,20,29,37,47,54,26,36,31,40,30,43,28,39,25,24,38,25,28,37,47,35,41,35,21,27,39,37,34,26,28,25,33,36,30,24,39,29,23,41,29,21,25,26,29,44,42,46,18,38,31,23,33,34,34,49,35,24,24,34,31,24,40,43,28,24,31,30,22,37,35,37,20,18,28,28,35,26,31,35,27,32,31,26,22,18,39,31,35,39,20,25,44,37,30,40,33,45,32,25,37,34,25,28,40,32,38,43,20,19,23,33,21,29,34,27,35,45,27,25,39,34,37,28,31,25,22,32,26,22,24,25,31,30,29,25,41,30,41,21,21,50,19,27,28,35,37,23,25,27,31,28,30,41,50,47,24,29,27,34,42,25,19,27,35,33,29,18,26,26,27,22,30,24,35,21,25,29,31,34,28,27,25,22,41,31,25,17,28,26,26,32,35,26,26,31,46,21,39,22,26,37,21,44,31,36,17,44,34,31,39,44,40,20,21,27,38,17,31,35,26,30,29,22,35,30,46,27,35,28,26,43,33,36,35,34,38,36,45,43,32,27,21,29,29,23,21,33,31,51,36,33,28,43,37,21,29,23,27,24,32,27,30,44,26,25,51,21,24,34,24,33,20,28,33,25,25,33,23,27,29,42,20,33,46,29,20,39,27,39,21,24,28,27,30,22,25,23,34,24,31,40,33,30,28,47,33,49,25,36,32,40,45,21,33,25,31,46,26,17,36,46,39,30,36,37,40,40,29,24,54,24,18,42,33,21,37,41,27,42,29,27,36,40,26,30,41,17,29,49,39,37,32,28,25,28,32,20,29,24,31,24,21,32,25,27,28,51,28,31,26,27,28,39,44,26,43,32,25,26,26,21,23,30,23,18,19,38,23,34,39,29,20,35,18,27,43,33,18,44,38,26,39,29,24,29,30,17,39,23,46,29,30,31,25,38,31,29,21,34,31,40,24,48,19,20,20,26,29,22,25,27,36,21,27,31,23,27,25,27,40,25,28,41,35,17,31,40,33,32,46,27,27,33,43,31,18,37,27,49,21,31,24,31,45,26,19,27,19,23,19,25,23,44,34,35,39,19,34,31,23,38,26,32,25,43,19,19,35,32,30,32,45,24,26,32,22,26,37,24,26,39,31,31,47,34,25,36,38,31,31,26,21,34,39,41,34,32,26,23,18,30,25,27,21,39,38,48,32,26,40,19,18,35,28,40,30,36,30,32,26,34,31,18,35,30,19,24,43,27,21,28,33,47,33,38,21,27,23,25,31,27,38,21,31,34,18,35,48,31,37,31,24,18,34,23,37,32,20,33,18,36,43,39,35,22,22,28,39,31,35,25,45,33,48,21,51,32,36,31,19,36,54,35,46,26,29,29,37,27,29,37,25,27,39,24,35,25,24,32,30,37,28,32,38,33,37,42,29,23,25,30,18,41,31,43,26,49,18,37,36,53,32,30,31,38,24,29,24,33,21,25,17,28,39,48,18,30,17,28,44,38,36,23,28,26,30,27,29,31,30,24,23,18,31,23,35,51,17,29,25,48,41,35,29,39,40,20,38,37,17,17,32,35,40,28,27,49,39,37,19,28,53,49,47,25,34,32,28,29,35,38,22,34,27,30,28,24,32,21,26,40,43,48,19,20,20,24,19,22,29,29,27,28,30,38,43,45,25,28,23,35,30,26,22,24,42,17,38,18,32,23,33,38,52,28,19,17,35,44,21,19,28,34,39,28,33,38,27,33,34,48,34,30,34,23,40,18,40,40,33,35,25,47,20,38,31,19,20,54,28,23,38,38,23,37,36,28,39,26,29,24,23,28,27,30,26,23,18,28,26,18,25,17,19,37,28,25,28,32,44,24,26,35,26,36,18,40,25,23,24,36,18,18,36,46,40,27,19,22,37,43,27,23,19,23,46,20,27,46,38,28,26,30,33,45,33,24,28,42,20,35,28,45,42,39,18,18,19,20,33,24,35,32,23,24,32,29,35,35,20,23,24,27,20,28,17,35,26,21,30,27,42,24,18,26,29,40,23,40,37,19,23,20,40,20,18,29,33,37,36,23,38,17,31,43,38,32,21,18,24,25,30,28,43,28,43,37,25,18,38,31,30,23,44,44,39,34,18,33,27,20,29,27,25,31,17,23,40,32,19,21,37,23,34,30,18,23,37,21,32,27,36,32,44,20,22,31,23,43,32,23,28,43,24,31,33,17,31,40,49,31,22,40,45,29,26,17,35,22,37,25,31,23,41,37,28,34,25,25,38,31,34,20,21,34,41,25,23,24,33,38,18,38,34,33,52,40,37,42,25,20,47,42,46,32,44,46,36,33,30,27,38,19,33,26,25,38,26,21,33,31,29,20,48,34,37,21,38,29,22,37,26,32,20,34,26,30,31,37,25,34,34,32,31,37,19,39,32,35,43,35,45,28,31,39,54,26,31,25,33,21,33,33,24,34,30,40,42,27,54,39,26,42,27,40,50,30,47,33,37,19,31,31,33,29,27,36,45,30,43,20,25,33,24,36,43,27,34,42,27,54,33,17,35,39,32,26,38,48,33,24,24,42,17,31,20,31,26,23,30,28,30,21,39,45,38,31,32,27,34,36,25,29,35,24,19,32,17,31,37,43,21,33,27,45,26,23,29,23,29,47,31,42,26,42,25,23,27,36,28,39,17,25,35,47,28,30,22,31,21,28,48,37,27,36,33,41,36,21,27,27,32,30,25,24,22,25,24,32,36,38,29,36,22,36,38,24,23,34,26,25,52,29,30,26,21,28,38,32,40,40,29,31,35,22,21,45,39,21,23,41,29,25,36,37,34,36,39,35,25,20,26,18,38,48,41,38,27,35,23,30,33,18,39,24,21,24,36,28,38,24,35,43,37,37,27,17,33,25,29,26,22,34,39,19,24,29,24,45,34,34,39,38,28,32,35,21,27,21,33,35,18,28,38,28,37,39,29,25,18,25,20,28,23,25,49,27,32,35,34,32,23,21,38,19,21,24,40,35,27,24,21,35,36,35,27,28,32,31,38,37,42,39,27,41,38,20,32,20,31,25,41,40,28,29,24,23,21,27,28,32,29,23,38,31,41,40,36,30,39,25,23,29,27,42,37,37,28,31,27,32,38,27,22,51,21,34,18,30,22,44,23,32,27,27,34,33,29,42,19,23,43,26,42,34,40,24,30,32,37,25,27,20,17,28,21,28,25,26,39,42,35,33,31,31,23,39,35,26,21,30,29,25,21,28,36,48,41,18,42,21,46,39,38,41,46,32,20,17,39,32,38,35,45,24,31,36,37,46,33,20,42,18,32,22,34,50,23,44,28,34,43,35,35,30,30,27,20,40,34,21,31,22,44,24,33,47,49,36,32,37,24,23,29,24,29,30,30,24,20,21,24,20,17,22,17,34,49,39,31,25,17,39,49,40,35,32,30,23,28,38,19,21,36,23,19,35,37,21,35,35,24,28,28,39,20,22,43,30,20,29,26,32,28,20,30,19,38,43,45,30,22,29,25,49,25,36,44,44,18,20,24,19,22,41,26,25,43,17,24,33,44,22,25,27,38,37,21,27,34,17,20,31,41,29,27,25,17,41,24,30,26,38,47,31,17,31,24,37,34,22,28,20,34,19,30,22,37,25,20,36,35,27,32,28,41,25,33,27,20,43,46,19,27,42,21,30,28,35,44,17,38,30,28,39,25,35,39,25,23,25,23,33,36,34,19,29,39,32,36,29,24,31,31,20,21,51,17,23,26,31,50,19,34,24,33,41,32,37,32,26,26,24,34,31,20,17,35,17,26,27,18,30,50,23,50,30,27,18,20,18,28,23,36,27,33,38,34,36,18,19,29,40,30,48,32,29,20,29,35,22,33,28,20,30,34,30,27,23,39,20,38,24,36,49,41,27,27,31,17,19,26,36,26,26,29,21,21,32,21,43,39,24,45,23,31,25,20,36,48,26,30,34,24,24,48,33,33,38,24,42,20,33,46,17,37,33,33,26,36,49,29,36,42,31,25,34,39,20,34,33,27,40,22,20,37,21,35,21,40,44,31,26,21,36,51,22,50,37,26,41,32,26,28,26,37,25,25,31,29,26,19,28,37,39,24,34,25,33,22,26,45,33,27,26,18,38,37,29,21,24,34,18,27,32,37,32,32,29,36,29,34,18,39,35,27,42,43,46,29,35,27,24,43,46,43,33,34,23,35,26,18,34,36,32,43,38,42,38,25,24,42,22,22,24,25,32,30,25,33,42,20,21,21,36,48,20,28,21,26,33,45,32,22,21,22,35,33,20,25,39,35,35,35,21,42,33,30,36,27,30,36,17,21,34,18,47,22,28,36,25,22,25,22,21,26,21,18,26,23,41,26,36,18,36,27,44,29,25,35,44,37,29,39,27,23,36,30,35,35,44,25,31,26,21,34,25,29,34,29,21,33,32,25,30,37,45,24,28,34,32,22,19,18,26,36,40,23,22,28,29,30,44,37,33,43,42,37,17,22,21,22,21,34,21,54,39,29,27,17,22,35,27,34,24,24,27,29,40,20,20,23,29,27,21,30,37,19,25,29,35,24,26,23,29,36,25,23,22,38,20,28,30,23,30,38,43,39,25,25,43,38,24,22,46,45,17,36,39,42,24,27,36,17,20,39,26,45,42,30,23,31,20,32,41,26,22,43,37,37,27,39,24,36,26,27,31,20,29,32,27,27,40,47,28,36,30,19,47,27,22,42,38,38,24,43,17,31,37,17,29,40,32,50,25,41,28,46,19,50,32,40,19,36,25,23,35,29,18,45,26,24,46,41,51,37,44,17,46,23,45,26,18,31,24,22,45,39,30,34,30,54,38,29,30,22,29,34,30,19,35,30,33,18,23,43,26,34,38,22,28,49,20,27,27,20,33,35,29,46,38,23,21,25,47,20,28,20,33,42,20,17,37,27,18,44,26,34,44,22,33,26,19,21,22,31,40,35,41,32,28,25,37,25,29,23,27,32,32,34,22,33,28,30,40,28,32,23,28,21,30,30,29,36,53,18,38,44,30,20,29,25,37,21,29,25,25,47,36,17,27,41,26,22,17,18,42,24,29,39,28,22,23,25,17,40,29,33,34,29,38,28,26,18,43,41,24,25,35,28,36,22,32,31,32,33,23,20,37,23,31,38,41,42,26,49,27,36,21,21,21,29,23,38,27,29,24,19,31,26,24,21,20,22,28,26,30,38,35,33,31,29,22,25,41,26,25,26,29,27,19,27,32,26,38,23,18,39,20,18,37,37,22,32,17,23,22,25,44,21,33,37,37,46,39,30,43,41,23,26,40,24,30,27,29,30,18,37,27,22,26,37,39,45,39,24,33,38,32,23,31,17,30,35,25,34,32,29,37,32,51,26,25,30,30,45,34,31,32,33,39,17,26,27,28,30,30,24,21,28,29,34,30,37,22,22,34,20,28,34,26,19,39,36,49,38,46,42,40,31,38,22,36,29,35,22,23,49,31,19,33,27,35,25,36,29,39,33,29,33,47,37,30,34,33,17,50,27,18,32,32,23,35,32,23,24,34,30,20,35,25,28,26,28,23,38,42,53,20,39,37,23,25,27,36,39,25,29,31,26,35,28,27,38,31,43,43,36,21,35,33,32,29,40,21,26,20,41,40,33,50,35,50,18,23,38,32,27,18,34,24,28,29,26,25,28,35,34,33,30,24,46,30,53,21,36,28,26,33,18,36,36,33,37,30,37,42,40,28,36,32,34,28,21,34,44,50,40,30,31,25,29,32,39,33,48,30,27,21,29,29,21,39,38,17,21,19,31,23,35,18,34,21,34,31,50,30,17,37,25,38,26,31,17,33,24,30,45,25,19,32,27,44,19,21,23,48,27,33,26,29,25,28,24,19,32,38,20,29,21,33,26,30,44,28,27,28,27,25,37,23,18,27,23,37,38,18,46,29,30,38,54,39,20,28,35,18,24,40,44,21,33,25,45,31,38,37,21,17,33,24,32,44,29,27,27,27,29,21,35,25,24,26,47,25,44,24,20,19,48,25,31,25,29,28,40,24,30,19,35,18,48,30,46,31,36,35,45,28,29,23,22,30,25,26,48,20,22,22,38,24,48,53,41,17,35,51,40,27,29,21,21,39,24,43,20,36,30,23,24,44,26,23,19,25,35,24,19,32,27,41,30,24,20,27,27,30,35,41,29,30,18,37,24,35,41,25,25,39,43,24,24,33,29,38,19,32,26,49,32,44,28,24,33,28,26,33,30,22,19,23,25,34,29,31,29,18,36,21,42,25,33,31,29,26,30,31,33,42,26,32,22,22,22,39,38,32,23,36,23,28,32,42,29,19,32,33,28,24,30,27,23,29,38,24,33,33,38,18,32,27,25,25,33,34,26,17,24,36,32,35,25,47,42,47,17,39,25,30,25,33,22,22,31,24,38,43,40,22,31,20,31,29,18,24,41,41,23,28,20,52,30,32,24,36,48,24,40,31,31,26,39,29,28,48,33,28,25,21,18,22,32,30,25,40,33,34,34,26,30,48,26,20,47,34,40,26,26,26,47,36,21,32,32,18,20,49,37,29,28,28,24,20,35,28,19,21,34,31,36,43,23,25,21,19,26,32,35,36,41,30,17,30,49,19,26,33,27,17,28,36,29,45,34,30,17,19,27,33,38,41,26,30,33,45,34,47,23,21,34,36,46,21,30,41,40,33,45,27,41,22,39,32,32,24,31,34,25,47,22,25,39,41,25,30,36,30,36,43,30,26,30,33,22,29,25,18,35,17,44,30,20,31,31,29,31,29,35,37,25,24,39,26,30,41,35,32,37,27,42,33,42,39,28,28,19,26,30,39,36,46,18,47,27,36,18,44,32,45,25,37,30,46,19,26,32,17,25,21,19,24,32,26,28,28,18,36,34,28,27,37,27,22,44,29,22,41,43,23,20,26,28,42,39,41,31,18,24,34,23,19,20,30,20,28,32,22,24,40,22,19,33,31,25,32,42,19,29,18,24,24,30,17,33,20,31,18,31,36,33,20,19,49,34,41,26,34,21,38,25,32,40,29,40,41,46,20,24,32,26,28,20,34,19,46,22,19,43,32,21,34,28,37,24,50,44,19,25,42,17,47,28,20,32,36,20,37,26,20,23,19,19,29,31,38,39,30,37,25,36,36,45,21,32,35,28,30,28,38,53,33,28,41,30,22,21,18,18,27,26,34,25,22,33,37,29,36,31,25,35,34,21,27,30,21,35,23,35,29,34,20,22,23,29,30,28,36,23,32,39,35,22,24,29,33,33,37,32,33,28,19,40,25,29,30,44,22,33,18,23,41,21,23,43,34,32,25,38,48,18,22,18,34,32,44,26,29,35,24,27,28,23,33,44,19,27,41,37,21,37,43,24,21,27,29,19,30,39,35,35,24,36,50,19,31,32,25,30,23,38,21,44,54,43,43,43,19,22,21,34,33,22,40,44,23,26,44,27,19,38,41,31,43,30,38,31,25,19,22,34,42,31,31,40,20,31,26,19,48,28,31,27,29,36,32,21,21,53,30,24,29,26,45,30,28,22,23,18,23,21,31,29,20,23,38,40,26,26,28,41,20,29,25,41,18,30,49,25,30,25,36,29,19,27,37,19,42,19,41,24,27,20,29,17,25,41,39,17,37,34,25,49,36,33,27,21,26,37,23,38,33,26,21,36,22,27,41,25,39,27,28,35,20,31,40,27,29,17,32,20,19,21,22,26,28,34,36,49,19,31,32,46,22,19,28,19,34,31,34,48,31,18,35,33,37,30,26,25,30,22,25,19,23,31,44,35,17,28,31,27,29,29,32,25,32,37,29,22,35,22,22,45,35,46,34,22,26,25,28,39,51,38,28,30,20,24,52,33,28,19,33,34,23,36,17,44,23,44,24,41,22,40,27,44,29,37,20,40,19,22,22,20,20,18,26,19,36,30,28,38,31,23,22,31,33,33,26,33,19,39,19,37,22,30,43,38,38,35,20,19,26,38,37,31,48,31,20,47,37,47,19,36,41,36,21,40,25,37,48,27,31,36,28,27,38,36,21,45,20,18,43,21,31,22,32,31,33,26,44,30,24,31,40,44,42,27,43,23,24,20,25,33,31,28,25,23,22,21,29,23,33,34,20,28,23,19,31,30,25,20,23,36,50,35,38,47,45,33,23,26,17,35,28,46,28,19,33,29,39,36,37,33,36,31,36,29,40,42,26,17,42,30,39,38,42,20,29,29,25,30,28,37,19,18,34,36,41,26,28,26,39,38,39,21,27,35,29,26,19,24,31,39,52,39,22,21,26,26,29,34,32,34,37,34,32,18,46,33,41,30,30,32,49,34,23,20,45,23,48,39,25,17,32,23,44,27,29,39,17,24,30,33,22,24,27,35,27,26,46,21,25,30,18,26,28,31,30,19,24,43,47,22,24,25,30,18,19,32,24,33,45,28,20,31,28,48,37,37,28,35,17,37,47,28,26,39,24,42,37,18,24,43,24,29,17,33,20,29,42,19,28,31,25,32,46,29,36,23,25,24,38,29,46,38,35,40,23,34,31,47,30,28,25,51,31,40,34,45,33,27,22,30,28,30,26,35,33,31,24,32,24,34,31,34,20,25,36,18,25,30,22,28,17,26,21,23,18,34,31,20,41,36,34,28,37,23,34,41,23,30,40,32,32,38,22,18,22,33,36,19,23,28,26,18,21,28,24,29,17,28,22,29,29,28,29,39,38,39,24,26,21,47,27,20,27,19,48,27,30,24,24,22,28,29,36,24,27,45,22,49,24,34,41,34,40,33,38,23,24,30,38,19,24,19,35,27,31,37,22,29,29,32,25,27,25,19,25,35,32,33,27,34,24,19,35,31,18,41,17,39,44,33,26,27,49,25,17,31,25,29,28,36,28,30,40,29,29,39,50,23,38,31,27,24,47,32,22,41,29,28,21,46,20,26,22,28,21,34,34,31,21,31,41,18,34,24,40,26,20,28,27,17,37,43,23,24,52,43,17,24,19,26,19,28,23,25,18,40,28,44,32,31,28,36,28,42,37,23,35,39,28,31,33,18,36,17,38,50,27,21,44,22,39,42,39,22,33,44,28,36,31,50,32,43,25,44,41,43,28,36,20,37,26,39,26,44,24,30,19,31,35,20,29,39,24,25,33,19,46,26,20,41,18,23,26,28,20,27,26,45,43,21,33,23,33,22,32,39,36,22,43,34,35,19,31,26,30,51,30,34,43,29,20,22,21,33,28,45,27,25,51,34,38,34,31,29,22,23,24,31,36,24,20,26,33,26,17,21,23,26,39,35,43,25,22,30,20,40,30,19,21,52,35,36,39,17,33,26,35,29,27,46,35,23,33,19,36,38,26,37,17,32,24,35,27,36,43,27,21,30,38,30,34,21,18,33,22,30,43,28,40,45,40,19,24,29,17,37,24,25,17,45,39,38,20,22,36,32,26,25,36,49,20,22,50,26,26,30,38,20,26,43,30,45,32,35,32,27,41,36,26,30,46,39,37,28,37,20,22,37,20,31,18,27,32,20,29,25,35,43,26,24,46,38,32,38,39,40,27,28,26,30,31,32,27,18,45,35,33,25,34,34,37,36,19,17,31,26,22,22,22,46,34,41,37,38,29,40,28,30,25,39,34,35,36,18,40,26,36,31,40,30,21,25,35,43,46,33,26,26,38,22,31,49,42,22,31,43,17,26,32,20,42,35,33,39,34,18,25,51,27,22,25,27,35,23,28,38,33,28,33,28,24,23,19,19,46,32,40,21,29,22,45,28,34,33,24,23,21,28,24,31,26,40,29,26,38,28,43,25,40,35,26,42,47,50,30,24,28,18,33,38,48,21,25,24,31,21,25,24,32,28,36,37,21,33,22,21,41,29,17,32,35,19,39,27,22,17,41,32,29,46,21,43,22,26,36,37,30,32,40,33,22,28,24,40,23,30,21,23,49,32,26,18,35,25,22,23,24,42,31,29,27,27,42,31,31,29,18,50,24,28,29,37,23,33,28,32,35,27,35,42,38,32,32,39,39,30,30,47,48,24,26,33,29,31,32,44,26,21,34,34,45,35,31,22,34,35,27,34,38,43,27,39,27,47,31,38,48,25,40,43,26,35,31,35,44,31,26,39,24,20,21,38,31,21,30,27,37,17,44,30,45,28,20,19,41,32,17,49,20,30,26,38,21,35,21,20,26,27,29,19,23,39,47,20,33,34,25,28,27,43,53,43,31,26,39,19,25,18,21,17,21,34,24,31,23,38,26,32,25,45,23,20,21,21,23,19,32,18,27,28,44,30,19,27,31,34,28,26,46,19,33,20,27,28,32,25,36,36,24,31,49,29,42,38,26,26,26,35,23,30,18,23,41,18,29,21,41,23,38,28,34,34,24,32,40,46,33,31,32,18,26,38,36,19,25,47,28,26,40,20,33,21,38,24,31,42,39,43,22,25,43,38,36,25,20,30,27,50,36,34,21,21,17,28,32,24,36,39,25,21,28,26,32,43,26,34,37,19,24,30,51,25,43,32,39,40,42,33,26,23,29,32,29,21,32,32,18,30,33,27,32,31,34,21,41,42,38,23,40,23,24,35,43,34,26,26,30,32,26,29,22,17,34,23,40,21,21,21,31,32,32,51,36,29,22,34,36,25,17,17,48,22,27,42,54,30,47,46,27,40,41,21,42,28,38,31,31,42,37,29,51,34,33,33,36,31,38,36,33,40,23,22,34,33,40,25,39,25,29,38,21,27,30,20,35,47,37,27,33,20,43,34,36,40,28,36,33,32,39,36,32,32,27,22,42,22,22,27,27,41,26,27,34,40,32,18,37,35,47,43,20,29,25,23,39,27,39,38,17,38,27,26,42,31,35,37,34,27,46,32,21,25,42,47,27,34,39,37,36,40,31,32,20,38,35,38,34,25,20,24,34,26,18,24,27,23,18,28,28,36,36,30,31,23,29,18,39,48,29,19,34,36,35,28,33,40,20,41,39,25,31,31,44,39,17,42,26,31,19,32,36,27,17,26,28,23,18,24,27,38,43,37,32,38,19,30,33,42,32,34,20,38,31,30,28,32,18,24,39,18,28,42,24,23,33,46,28,44,35,23,20,25,35,17,37,22,36,24,38,31,27,33,28,35,39,38,29,40,24,30,30,31,33,44,19,20,39,26,28,34,19,28,30,35,24,18,49,28,20,25,30,19,25,31,31,25,24,36,32,30,20,35,31,36,34,21,40,22,35,23,31,37,39,37,29,30,41,27,45,41,24,26,23,30,28,26,31,22,36,25,18,22,17,30,40,32,42,33,34,46,37,40,35,22,27,39,44,28,35,37,35,22,37,20,28,33,36,19,32,19,27,19,18,22,46,18,27,33,41,23,22,28,17,31,33,23,38,25,23,23,39,22,29,41,20,51,32,35,40,30,30,36,28,37,40,25,30,25,27,27,43,26,32,24,41,20,22,26,17,26,34,43,27,23,29,26,18,30,22,51,34,27,25,30,28,44,21,25,31,24,27,26,29,35,24,25,44,32,29,27,27,42,17,31,35,31,25,26,25,38,33,28,30,30,27,32,25,20,33,42,37,26,25,50,22,19,23,17,22,41,32,21,25,20,31,53,38,30,28,24,18,49,38,33,34,24,29,35,38,37,39,23,50,36,43,40,43,24,27,27,32,23,36,34,34,23,29,22,21,23,21,30,37,48,29,30,29,34,28,27,31,29,22,34,27,30,35,28,23,47,25,26,43,24,40,20,26,40,50,34,28,30,18,33,38,30,34,21,46,26,20,50,46,29,34,36,18,29,18,27,31,35,26,36,31,23,22,18,19,51,27,39,30,38,26,22,23,22,43,24,27,35,41,20,19,39,41,35,43,32,32,20,26,42,34,20,36,20,22,25,30,34,42,28,45,23,43,31,23,38,41,34,34,33,41,33,25,24,25,33,22,35,45,25,18,23,25,33,42,29,45,27,27,23,33,17,26,48,25,42,31,34,32,38,23,41,31,42,23,32,29,35,31,18,29,22,32,28,28,36,29,41,38,35,34,41,44,43,23,20,34,31,51,21,19,36,47,23,33,23,43,54,23,42,36,28,28,25,46,25,40,33,47,32,21,28,28,36,44,18,27,22,33,24,40,28,47,29,29,33,28,34,34,31,25,18,27,28,25,48,23,18,22,39,43,20,22,20,30,35,33,22,21,23,18,22,31,18,40,19,25,32,39,21,38,22,28,22,32,41,32,37,28,36,26,24,30,35,30,25,28,42,29,36,21,20,25,26,31,24,31,34,26,32,23,50,42,40,31,37,22,25,25,26,27,26,30,40,41,39,25,35,49,37,50,29,28,26,22,35,37,43,29,26,26,27,34,36,29,22,34,27,42,50,22,49,38,47,24,23,31,34,17,32,29,46,20,18,34,28,25,40,21,18,44,27,18,25,20,24,30,44,38,27,24,34,50,28,33,27,32,27,23,38,24,21,36,34,39,24,35,32,32,33,24,45,24,34,20,53,29,35,39,28,25,34,35,18,23,23,37,27,37,33,26,37,24,29,30,30,24,35,42,36,26,27,34,35,25,21,34,28,33,24,35,45,24,36,43,25,30,51,42,27,32,33,17,33,34,25,28,34,39,31,26,21,20,32,29,36,32,37,51,28,19,21,23,23,38,40,20,25,17,33,34,17,36,26,35,37,37,30,29,39,34,32,31,46,32,17,32,39,24,31,28,36,20,20,36,29,32,30,28,34,19,24,33,25,32,40,26,18,31,31,31,28,33,29,20,43,30,32,47,31,31,42,45,22,26,23,24,30,43,34,24,21,43,27,35,31,40,35,24,21,23,32,33,31,49,27,52,17,39,24,30,17,42,27,30,31,32,47,37,40,23,33,31,51,42,22,38,25,23,34,27,36,23,26,35,19,35,47,47,26,23,22,19,28,37,27,27,29,20,41,47,34,41,41,41,25,32,35,22,36,34,34,31,26,30,26,24,29,24,24,22,39,34,24,36,22,39,26,17,23,35,26,25,27,26,18,41,37,36,38,20,22,21,22,25,19,38,28,37,29,27,24,26,33,50,40,21,37,17,30,39,51,37,23,28,19,26,45,23,31,41,28,26,21,27,25,29,26,43,32,19,30,33,28,37,20,35,21,24,29,34,22,42,24,34,37,19,26,26,29,32,30,36,18,22,22,17,19,27,35,32,26,17,28,31,24,26,22,41,34,20,26,17,26,34,48,26,33,35,29,35,18,29,32,25,26,34,25,34,34,21,24,29,18,36,29,27,19,37,25,23,28,22,34,35,36,26,20,38,38,32,18,34,32,33,28,29,35,26,23,32,27,28,42,27,23,22,20,29,31,32,45,32,24,34,33,28,44,36,36,21,28,18,36,53,19,25,46,49,37,17,24,22,27,42,28,26,38,24,30,45,30,24,31,33,19,21,30,22,40,34,20,25,20,36,26,36,22,40,33,36,37,31,18,33,21,30,36,31,42,34,43,39,21,32,46,29,23,31,38,36,24,32,53,31,30,38,27,39,22,25,40,21,25,21,21,43,24,33,30,25,38,36,48,32,42,44,28,27,32,21,25,44,24,26,31,44,32,30,22,34,20,44,32,36,39,18,30,40,43,27,45,44,23,29,30,38,29,41,20,32,21,20,38,22,35,38,25,31,37,30,29,26,42,30,42,37,30,20,32,27,30,34,39,22,27,35,25,19,30,31,25,29,37,35,42,18,34,22,19,19,26,35,33,33,23,22,27,35,30,23,40,34,33,30,52,33,29,31,51,43,30,50,20,35,35,41,21,33,23,23,19,17,20,30,40,30,33,27,31,31,22,34,35,36,29,26,41,39,37,20,25,48,43,38,32,22,21,27,41,32,36,34,17,45,30,22,30,19,26,20,32,25,35,32,30,32,33,33,29,33,25,28,24,24,30,18,21,38,31,31,32,19,31,26,28,33,47,32,23,18,26,19,33,18,25,23,27,35,31,24,24,24,26,38,23,31,28,23,23,41,18,20,21,19,31,33,29,19,26,29,33,22,50,25,41,45,25,20,19,47,35,22,17,32,25,27,34,29,44,26,43,37,18,26,31,38,34,41,22,30,21,32,22,37,26,34,17,30,34,33,24,41,36,25,19,19,46,20,20,33,20,29,21,31,23,23,35,36,24,21,28,30,31,34,17,27,28,37,38,17,31,26,34,30,28,42,31,21,36,25,30,31,24,35,28,41,17,20,37,27,33,38,26,22,28,36,27,29,17,22,22,21,21,17,35,42,23,24,40,26,39,27,50,18,23,30,40,23,48,28,36,40,22,27,32,20,37,34,32,29,24,22,39,49,35,26,38,32,23,30,22,25,20,34,29,33,36,49,28,20,19,27,37,20,21,39,46,37,35,17,21,39,31,24,34,33,27,29,32,20,25,18,36,39,27,34,19,42,24,41,33,32,32,36,36,48,42,44,18,38,35,27,37,47,33,28,32,25,33,28,24,27,41,25,28,34,47,48,27,32,32,40,39,19,22,30,26,32,39,24,22,33,32,33,29,32,26,42,20,33,42,50,23,19,41,17,21,28,20,33,46,17,47,19,28,30,44,29,33,26,36,47,37,24,46,21,29,39,35,33,31,41,23,19,33,19,39,48,22,19,24,21,36,17,28,38,35,18,47,30,30,22,41,33,24,32,27,18,25,32,34,34,22,23,36,20,22,26,17,30,22,28,24,32,22,28,34,18,21,28,27,18,18,27,34,32,23,27,42,35,34,31,30,29,42,23,32,25,22,25,28,43,36,38,25,44,26,29,42,20,18,32,22,21,37,24,29,34,44,35,26,38,33,32,33,24,22,19,28,41,24,33,27,18,21,20,23,21,43,39,21,43,33,31,20,39,21,26,21,20,34,29,41,20,21,28,32,44,37,20,28,36,24,21,19,28,22,27,28,19,28,37,28,33,23,20,30,34,30,43,33,23,40,19,36,39,33,35,40,29,18,22,38,26,29,21,28,39,27,19,44,37,37,54,24,17,30,30,44,30,30,43,20,31,35,43,17,25,36,22,24,40,33,25,34,30,35,35,25,20,32,48,21,29,34,33,22,47,39,17,33,26,31,27,38,19,32,23,39,23,29,45,26,41,32,41,41,25,29,29,27,39,27,20,43,32,25,26,24,25,41,28,29,39,24,23,35,27,18,41,23,20,32,30,34,32,33,39,37,28,39,19,29,26,23,28,27,24,19,36,20,27,42,22,26,34,25,25,17,26,27,27,28,41,33,33,37,33,38,31,20,23,24,46,27,40,48,31,44,20,25,43,31,22,31,24,37,33,24,39,32,38,42,25,35,18,32,33,47,42,27,53,37,27,38,40,27,18,25,23,42,23,25,37,20,23,27,24,32,37,30,34,20,31,40,34,34,41,31,30,31,25,20,26,34,27,51,30,41,28,35,24,34,36,39,25,31,43,18,49,25,23,24,44,22,39,52,40,26,23,25,37,25,48,19,26,39,43,30,26,30,35,22,46,40,37,28,39,45,38,30,27,36,36,39,39,26,20,39,44,50,31,24,20,32,17,47,25,31,51,30,31,28,27,17,38,21,23,24,30,23,36,44,37,20,33,38,33,38,31,42,22,30,26,20,36,46,44,25,18,34,32,46,18,34,40,34,28,24,32,33,36,45,21,26,30,25,47,28,35,28,32,50,31,29,22,28,50,34,38,44,24,18,36,30,29,36,53,24,48,46,36,28,27,33,22,19,28,23,24,33,36,20,21,21,38,22,18,31,21,27,39,45,42,29,36,19,24,32,38,20,23,18,25,21,29,24,28,31,36,21,41,29,23,32,18,24,32,29,33,18,28,29,38,24,20,37,28,41,23,38,44,29,21,38,34,35,37,23,37,21,26,25,27,36,36,36,31,22,22,42,28,33,19,23,35,24,27,43,30,35,34,26,21,39,39,17,20,21,39,23,27,28,22,29,18,25,31,18,34,42,38,20,32,29,29,23,42,19,19,28,17,49,24,31,34,44,25,29,24,35,25,23,34,37,25,29,27,30,30,51,38,47,26,42,41,27,21,30,29,33,33,31,35,22,23,23,45,40,49,47,39,33,41,33,44,36,28,50,35,26,21,32,35,24,28,30,17,31,20,18,47,30,20,29,18,41,24,25,20,42,27,46,17,44,28,33,35,35,23,30,18,19,30,17,38,23,30,23,49,17,30,29,35,25,21,36,32,25,33,50,37,21,47,30,19,37,28,31,39,42,45,42,47,33,26,28,30,22,26,31,22,27,52,27,43,22,33,23,28,18,29,22,27,29,28,22,41,25,37,31,39,45,19,21,40,28,35,34,26,22,36,19,28,20,36,25,29,22,22,26,33,29,23,41,30,41,34,36,24,22,44,24,24,43,41,40,27,49,33,30,34,36,29,36,23,39,29,31,26,33,44,44,27,32,29,24,28,38,29,22,31,24,44,18,27,26,17,39,32,29,25,29,32,20,39,32,41,47,38,24,29,31,18,39,24,25,27,37,30,24,20,21,25,29,38,27,46,32,25,38,40,25,24,27,26,22,34,31,38,18,41,35,37,25,23,26,21,33,32,29,28,32,43,33,21,17,45,18,31,27,17,40,29,36,38,27,35,33,25,45,38,30,51,21,44,34,39,26,26,26,28,37,32,20,38,25,35,36,24,26,29,31,27,28,29,40,23,24,22,20,37,30,17,34,38,27,26,25,27,28,33,25,37,27,30,32,17,46,32,32,37,31,38,23,24,26,26,32,20,39,46,18,34,28,30,39,42,30,27,19,28,28,31,32,29,21,34,28,24,28,23,23,42,29,41,34,35,20,39,20,31,34,36,24,40,24,24,37,51,47,21,25,35,34,42,24,17,40,17,26,26,25,40,26,38,24,36,45,29,17,21,30,35,41,26,36,28,48,29,34,27,32,29,41,19,36,28,41,35,20,24,48,32,22,45,24,41,28,32,22,38,33,32,37,37,29,23,34,35,45,30,39,46,19,33,41,34,41,43,21,19,26,27,37,18,37,40,21,21,31,23,31,45,24,22,27,35,26,40,36,35,26,34,23,37,20,37,28,45,24,37,31,27,45,28,44,31,32,31,37,29,32,35,34,34,29,43,42,29,35,22,30,27,20,48,27,21,28,39,17,28,29,18,42,40,36,35,28,28,36,22,34,25,43,33,29,25,45,47,24,39,33,29,21,26,28,20,36,35,17,28,19,25,25,41,31,24,31,22,35,23,27,26,31,19,25,23,20,23,17,22,40,40,38,29,37,47,33,51,20,41,36,20,21,18,45,37,29,21,36,18,27,35,31,27,28,30,47,29,37,41,37,28,32,27,34,28,43,24,29,30,21,31,22,33,42,25,33,31,30,19,32,48,28,53,24,22,36,27,34,32,40,36,27,25,48,18,26,39,35,39,32,23,38,24,30,24,32,44,30,27,50,23,37,26,24,29,21,35,36,41,20,20,43,34,19,26,33,39,31,29,22,28,30,28,34,40,31,30,30,26,36,29,35,19,29,31,36,26,31,34,37,30,25,43,39,23,36,37,27,35,38,25,21,26,19,39,29,32,34,28,30,31,18,31,26,45,18,23,20,24,22,31,21,37,28,29,27,36,36,26,31,34,39,18,35,34,19,34,32,30,34,44,32,39,25,23,37,24,26,33,34,24,19,34,32,23,31,20,38,40,30,17,32,39,21,21,17,20,21,41,29,45,30,43,23,26,27,30,42,48,25,26,45,42,27,22,32,33,38,31,29,39,31,24,38,17,27,27,40,30,42,23,28,34,19,17,17,42,25,27,35,33,35,35,40,30,34,31,42,26,31,24,28,25,28,31,30,31,29,40,37,39,27,38,38,33,34,22,22,25,26,46,41,29,34,30,26,26,30,23,29,28,30,27,29,36,35,24,29,29,40,28,36,29,28,34,21,21,31,24,38,18,18,31,30,25,37,19,28,18,41,28,27,42,29,22,40,20,30,30,36,17,28,26,25,50,31,20,32,39,29,33,26,29,39,19,30,30,20,29,20,29,29,23,26,18,17,24,28,30,35,36,26,22,17,24,21,50,36,44,32,34,24,21,28,38,42,34,40,50,31,35,26,38,23,26,32,43,18,26,30,45,23,21,18,24,25,25,30,35,37,27,21,28,31,33,45,23,26,28,28,27,42,22,26,28,30,28,23,21,26,35,23,40,21,30,20,40,37,43,36,34,33,40,36,32,22,29,30,18,38,25,32,30,27,34,36,32,42,40,25,37,43,36,23,17,43,40,36,45,32,18,18,33,31,24,34,45,50,31,26,41,33,32,43,27,30,41,26,19,40,35,25,20,48,37,40,36,45,25,31,19,45,31,35,49,41,17,46,17,30,17,29,36,35,19,44,32,54,35,25,39,26,40,33,25,43,39,30,34,32,21,34,19,30,35,38,36,31,36,43,30,23,18,27,33,45,31,30,27,30,26,25,34,30,27,27,43,35,33,30,50,30,18,31,24,29,36,24,23,42,42,33,41,29,38,40,30,46,33,25,39,24,28,32,28,19,36,23,28,27,38,38,33,32,41,25,27,43,34,23,28,29,40,23,35,25,28,42,41,28,38,33,40,21,35,31,38,26,29,46,33,37,30,36,31,40,24,27,43,38,20,19,24,22,30,31,28,21,49,24,42,35,38,36,49,44,24,39,50,28,46,21,25,21,22,42,30,48,29,39,22,45,30,39,36,22,35,38,46,37,42,40,25,27,43,31,45,26,38,37,29,30,37,28,29,25,33,33,44,18,20,22,38,43,18,17,35,28,38,39,33,53,29,30,29,29,27,28,54,19,39,36,44,27,25,33,19,22,27,34,26,36,43,17,36,29,20,45,20,33,24,23,41,26,35,33,30,28,22,29,44,21,33,37,40,49,24,27,39,21,27,26,21,32,26,29,30,46,22,17,35,20,31,39,27,20,22,38,34,32,29,31,24,26,39,48,24,20,33,33,23,28,20,18,31,35,43,30,17,30,31,23,18,21,36,25,24,24,25,22,23,31,24,31,30,23,21,36,18,30,17,37,31,27,17,29,21,37,27,30,43,24,35,21,19,37,29,31,28,26,52,40,35,28,26,40,35,36,17,40,24,38,34,31,29,41,19,34,25,42,30,28,24,20,39,41,27,27,33,32,23,26,33,17,22,21,23,39,40,20,18,47,24,23,28,20,27,36,26,23,35,19,30,25,29,18,42,27,37,31,36,35,30,41,29,32,41,29,44,26,44,51,25,24,24,32,46,28,44,28,33,43,20,20,41,41,25,29,28,41,32,29,30,24,34,20,20,34,26,26,27,31,33,36,19,33,37,19,45,30,43,30,26,24,43,38,29,47,42,27,31,27,27,39,31,48,40,24,32,31,41,34,34,27,27,40,24,27,33,37,37,29,30,28,34,32,25,47,22,28,20,41,43,30,19,30,37,21,39,17,44,18,19,34,29,32,36,27,28,32,31,43,42,36,26,22,37,19,22,35,47,24,29,20,28,31,44,28,18,26,46,47,30,48,38,31,26,27,27,34,35,36,37,19,33,36,17,41,18,41,21,25,28,19,42,24,34,20,23,33,33,29,26,18,29,37,45,34,17,42,43,25,23,40,20,26,41,17,35,19,23,43,24,29,21,26,22,30,33,43,51,22,32,18,23,28,25,24,25,26,34,36,26,43,24,19,43,22,37,30,17,18,34,46,22,42,45,41,30,36,22,31,23,17,36,33,18,24,19,28,18,34,28,31,18,35,18,32,30,34,22,37,49,33,18,40,31,24,18,22,37,17,18,17,29,35,20,36,26,21,35,33,27,40,23,45,29,36,32,46,18,52,33,38,34,47,32,33,27,32,40,29,28,23,21,39,26,30,28,19,29,42,24,21,48,29,45,29,34,30,28,21,49,18,26,22,17,31,25,18,27,27,46,18,27,28,17,34,29,36,31,30,31,35,26,35,44,29,30,43,23,18,26,29,20,46,26,33,20,30,27,30,30,38,24,37,33,21,27,22,24,17,28,31,44,25,43,45,35,24,40,22,30,37,32,27,37,26,29,38,18,22,34,47,44,21,37,21,33,29,33,31,26,53,23,49,40,48,30,47,32,41,29,33,23,34,25,36,44,22,21,43,24,28,17,40,34,20,32,28,26,38,35,42,37,28,31,32,23,30,38,42,28,30,35,51,36,33,34,25,33,22,41,26,38,29,52,37,30,34,25,28,25,27,29,17,29,47,35,17,25,35,34,23,26,41,40,22,23,25,41,30,30,34,20,37,35,29,33,36,30,28,31,20,46,29,27,45,28,35,34,25,40,43,18,45,17,42,19,29,33,24,28,38,22,26,35,30,25,25,29,26,41,27,33,36,24,37,22,40,34,43,37,39,40,46,27,44,17,22,37,26,21,34,23,21,25,35,41,18,29,24,41,20,32,35,38,30,36,30,41,20,17,26,21,26,21,34,31,27,34,40,30,36,19,31,22,32,25,26,35,25,17,27,21,39,23,28,21,34,18,34,25,24,27,31,23,35,36,38,36,38,38,20,23,37,35,17,32,24,34,30,46,31,47,20,39,29,20,30,19,35,22,27,40,43,32,22,27,25,28,48,42,21,26,23,42,28,30,31,35,42,18,27,26,26,23,18,23,25,30,22,22,18,25,31,28,22,42,49,20,28,37,34,36,22,26,23,32,33,34,48,47,30,17,34,33,32,43,43,22,33,30,25,41,47,38,22,47,34,23,35,37,22,44,37,32,24,29,32,39,30,52,30,18,33,29,46,23,17,24,19,21,41,37,19,26,39,32,22,31,27,29,44,43,29,36,31,22,38,31,33,24,53,47,18,33,31,33,22,25,26,29,26,33,20,40,28,44,42,25,24,29,39,21,22,25,42,41,18,40,17,22,40,25,36,29,29,24,41,44,37,23,45,29,33,33,40,36,50,25,44,32,33,29,24,35,30,38,35,31,28,31,34,40,37,32,17,28,51,29,31,21,24,30,24,19,31,34,29,28,21,32,38,37,44,35,32,28,28,22,34,31,17,47,19,17,28,22,39,51,48,24,21,20,39,30,17,45,29,26,44,18,37,35,17,46,26,45,44,34,22,33,34,50,31,23,23,29,27,36,43,19,21,33,31,25,31,26,32,39,30,21,22,19,21,32,33,31,24,39,37,32,33,21,42,30,21,28,50,36,32,34,30,33,46,24,39,49,28,35,23,19,28,21,21,24,33,46,21,18,33,43,29,35,46,31,37,25,31,28,33,38,36,49,29,38,35,25,30,42,32,36,34,25,31,31,33,30,33,29,26,17,18,20,18,18,29,17,50,26,28,24,28,27,45,31,30,31,27,17,29,39,21,22,36,39,33,25,23,31,23,17,26,37,22,42,28,39,25,20,18,48,21,31,22,18,31,34,27,26,34,19,22,38,27,27,25,40,26,25,18,32,34,23,24,20,50,28,32,34,32,28,41,19,25,34,29,29,31,24,48,22,30,32,35,34,35,32,20,25,39,27,37,25,45,35,24,33,27,24,39,41,32,32,22,25,20,20,34,34,46,26,21,31,47,46,17,34,34,29,34,23,19,29,29,34,35,29,31,28,34,43,32,45,22,44,41,19,27,34,29,22,22,36,18,23,19,26,19,38,21,37,31,23,36,29,29,35,37,30,40,24,37,39,36,33,22,28,35,25,29,54,26,24,35,34,41,23,20,37,50,32,28,38,30,37,27,43,36,30,36,40,36,24,38,32,33,30,21,39,31,29,30,35,29,21,29,26,27,22,46,25,32,41,18,31,36,24,25,42,27,40,31,29,27,27,30,46,17,40,22,35,18,36,39,37,18,27,50,23,18,33,40,32,31,25,38,30,22,28,22,43,23,33,33,21,32,40,37,20,36,30,20,21,45,24,32,28,22,31,21,40,31,31,40,26,26,25,41,35,24,31,39,31,20,32,37,29,28,34,26,32,30,27,26,29,24,21,33,27,24,29,30,36,39,23,29,41,19,23,37,38,34,45,28,28,27,43,31,17,38,31,20,33,17,29,28,38,23,48,31,31,23,21,33,39,39,41,27,30,27,29,33,29,21,18,29,34,28,23,39,34,26,34,20,28,46,18,30,32,37,30,19,28,25,18,26,17,29,37,25,30,23,28,19,17,17,26,24,44,28,36,37,21,34,36,24,29,22,41,28,35,38,22,23,30,40,33,23,41,23,38,46,28,26,30,39,38,36,29,46,31,20,28,29,23,24,27,30,30,24,26,41,43,20,41,27,20,28,32,31,24,23,24,17,28,23,18,21,23,22,40,22,23,44,26,26,34,26,33,20,35,28,18,37,42,20,25,32,41,17,36,19,30,32,34,40,26,28,22,18,18,20,28,25,22,39,37,28,27,23,36,23,23,37,48,32,42,25,18,28,31,23,34,30,31,38,24,36,21,40,19,24,19,32,27,35,37,43,35,26,18,22,31,36,36,28,28,37,36,25,48,24,29,29,33,35,46,26,30,24,29,31,25,47,19,36,43,29,18,39,33,22,42,34,39,27,49,30,21,25,31,20,32,18,48,30,17,29,38,43,30,48,34,36,20,32,21,28,20,39,21,32,36,26,40,21,25,21,35,45,17,43,17,22,20,21,19,20,29,27,24,49,33,43,25,29,23,29,28,18,42,17,19,46,19,27,24,43,33,42,39,38,41,27,17,23,27,24,35,47,48,24,38,24,25,34,43,27,22,35,26,36,22,22,22,30,17,18,17,33,26,28,27,27,20,22,26,21,33,46,26,24,43,35,22,40,25,33,26,29,27,35,36,36,52,47,38,32,45,21,35,37,29,37,31,32,38,29,41,33,21,33,32,47,27,54,29,24,26,36,33,28,34,22,29,47,18,37,27,24,19,27,25,23,35,25,17,34,22,45,28,36,44,34,17,27,27,43,29,40,37,29,26,37,33,30,29,32,20,30,29,35,17,22,21,21,18,36,45,31,34,35,38,36,23,36,20,26,38,29,27,23,20,18,28,43,24,26,24,39,29,31,27,29,20,29,50,24,35,40,18,34,25,22,35,48,33,22,22,34,21,37,28,33,23,28,36,28,33,26,36,40,35,26,36,18,30,21,35,30,32,28,33,39,44,36,22,25,46,27,49,42,18,37,19,18,24,32,46,28,43,51,27,30,47,18,19,20,36,31,40,25,29,52,40,25,22,45,32,45,21,23,18,41,37,26,25,24,31,24,31,45,23,34,24,28,18,50,18,36,24,22,41,32,46,28,38,36,29,22,46,26,38,25,34,18,36,35,25,37,44,29,18,38,38,31,33,22,26,29,45,17,22,40,19,26,28,40,29,40,25,25,47,37,38,34,45,41,39,18,24,29,29,33,23,35,28,34,42,24,42,38,42,29,30,21,44,37,38,30,43,39,34,23,36,29,39,37,39,30,26,27,29,43,36,42,37,29,24,26,30,22,21,49,20,19,38,32,36,19,24,33,21,49,27,34,43,40,19,32,43,26,29,29,47,27,17,41,35,30,41,40,30,26,29,41,20,31,18,38,20,43,47,49,37,37,35,18,29,30,33,21,35,35,35,38,44,36,27,37,39,37,27,39,25,42,29,26,33,25,40,44,32,26,41,24,34,32,35,47,30,33,23,33,27,25,21,39,24,41,32,36,36,45,29,26,21,24,23,37,26,22,29,27,44,30,25,17,27,40,30,23,27,36,35,50,30,29,19,32,35,27,33,32,19,39,38,44,30,25,39,19,40,34,20,31,25,19,34,28,20,19,34,41,18,29,32,40,34,33,29,21,24,50,29,33,35,19,25,31,30,42,25,30,47,36,26,23,31,21,44,44,25,23,17,32,27,31,22,36,42,30,36,17,31,28,29,24,40,25,28,33,26,45,20,44,17,31,33,28,38,40,46,25,33,35,24,24,37,36,40,47,32,17,30,26,36,32,33,38,26,33,27,40,22,34,26,44,29,43,38,44,31,27,36,45,44,22,37,21,45,39,43,33,26,36,26,18,32,22,30,34,19,31,50,27,28,26,20,35,32,41,30,22,35,31,25,25,33,29,41,24,25,32,26,22,28,29,31,35,26,43,29,35,29,38,28,36,22,32,42,52,25,29,22,19,31,35,29,45,17,29,33,24,19,22,34,35,49,32,27,21,37,18,24,21,38,39,33,28,32,27,52,27,36,35,44,36,29,23,36,29,19,25,23,21,17,17,20,32,53,36,18,23,29,32,30,32,23,25,23,38,34,17,50,22,29,33,19,27,25,29,18,35,21,20,21,30,32,43,38,37,24,39,29,42,30,30,37,32,30,40,43,49,42,17,20,20,39,48,48,39,26,19,35,19,28,36,32,25,35,40,40,31,38,40,43,22,44,31,22,18,23,31,39,25,37,29,24,19,20,32,37,31,30,19,24,24,24,40,22,21,19,20,28,25,23,32,19,36,18,33,42,37,24,25,20,27,30,49,26,20,17,26,19,20,34,39,44,25,26,33,36,31,39,26,26,23,28,23,38,19,30,18,36,20,22,42,43,31,25,17,45,32,21,22,37,32,29,19,17,36,20,25,29,30,39,30,26,29,17,32,23,18,29,33,17,37,45,17,20,30,37,29,33,26,37,45,18,22,52,50,38,17,27,22,22,26,40,38,32,43,22,35,32,42,32,33,21,28,27,34,18,32,36,21,22,19,45,36,30,26,38,22,38,31,23,31,28,34,18,27,33,22,25,27,35,42,25,31,29,20,20,30,42,32,24,33,29,27,35,32,28,24,31,19,41,26,40,39,30,35,36,34,41,26,29,23,29,32,28,33,24,44,34,45,23,28,29,25,39,25,19,32,36,35,40,30,26,34,23,31,27,36,36,23,18,31,39,29,21,44,47,32,26,51,32,35,30,19,36,20,25,31,39,32,32,41,23,29,18,21,40,21,27,19,24,48,27,20,32,25,33,46,20,34,17,28,45,30,36,44,39,20,28,34,23,30,25,48,32,39,45,49,40,33,32,18,18,26,42,38,32,38,29,33,32,29,44,32,27,19,17,21,31,45,32,40,41,24,48,39,25,22,39,30,27,27,39,23,25,25,33,27,31,23,33,37,27,24,28,28,20,41,29,21,17,33,24,26,31,39,48,30,33,33,21,41,26,30,33,36,30,39,20,40,39,34,20,25,19,24,28,38,46,20,25,27,43,35,35,20,32,28,35,42,32,38,33,31,24,37,37,34,46,26,43,19,24,32,54,31,54,51,29,35,37,29,18,38,21,17,24,34,36,39,23,23,30,27,21,30,22,19,53,27,22,18,24,36,38,29,33,35,41,38,44,21,44,52,35,41,48,22,19,26,34,34,25,40,29,25,19,31,25,29,24,33,28,31,29,41,36,23,39,23,35,18,39,30,27,24,29,29,35,33,23,19,29,32,29,34,25,17,41,29,30,20,18,34,26,27,39,20,22,28,37,19,26,29,35,36,23,23,20,20,24,31,18,30,35,25,42,26,28,26,44,27,30,37,39,19,34,28,32,20,30,23,40,31,29,35,39,19,18,22,19,37,20,34,29,28,24,26,31,29,31,28,24,26,24,30,24,18,42,26,28,40,38,33,26,18,42,24,19,44,28,30,26,29,48,38,39,22,42,36,21,26,33,40,17,42,45,30,45,42,40,28,31,19,23,43,37,33,26,24,18,29,30,22,29,23,30,24,31,24,26,17,26,39,35,27,33,42,50,38,27,25,26,48,29,40,27,41,19,42,26,28,27,31,23,26,30,24,22,45,22,26,27,25,33,26,23,28,19,39,46,36,34,36,31,30,30,43,33,52,38,34,29,27,30,38,25,19,18,23,45,36,31,17,50,30,17,23,27,36,29,33,23,26,18,39,39,20,20,34,33,30,20,42,20,39,20,27,21,29,34,45,35,20,41,29,21,21,28,29,21,43,24,31,30,46,20,43,34,28,43,20,29,31,33,23,23,30,35,29,36,21,40,23,49,17,25,35,24,34,24,41,31,21,19,30,28,46,28,44,27,21,27,18,21,29,29,27,17,32,34,22,33,19,34,37,36,30,30,21,31,49,44,22,22,30,19,44,18,52,41,20,21,30,29,26,21,30,40,19,26,24,23,19,18,28,22,27,25,25,21,27,30,30,26,29,28,49,33,30,25,26,41,33,25,49,22,32,20,26,25,29,21,52,25,17,22,29,28,27,30,31,34,42,23,24,38,20,54,21,19,45,39,32,29,25,40,39,22,24,23,18,23,44,27,33,31,40,36,30,39,37,20,33,35,30,44,27,25,40,21,23,23,19,22,30,38,50,25,28,25,38,23,24,28,24,22,29,20,34,30,32,27,25,20,34,18,44,18,20,33,22,30,31,29,41,30,23,24,31,27,23,39,28,42,28,45,43,26,34,23,47,23,35,46,18,34,30,33,23,21,35,42,44,37,18,36,24,28,28,21,23,36,38,27,26,38,29,32,38,40,26,23,18,17,27,52,45,24,32,22,39,34,28,23,29,25,39,37,39,45,33,24,29,37,22,17,52,34,38,34,36,28,34,24,33,28,37,17,28,20,27,23,44,38,30,20,35,29,39,33,17,25,28,26,27,22,23,23,23,43,32,29,43,22,21,21,37,25,33,24,22,42,32,28,22,33,22,39,48,26,27,37,20,29,30,20,25,21,30,39,34,38,32,40,33,27,39,34,38,19,30,33,29,27,30,39,22,31,31,19,24,17,30,20,27,25,24,29,26,32,50,32,26,30,45,29,17,21,31,24,29,27,18,31,37,27,39,18,38,20,21,30,42,32,25,18,28,19,34,20,25,36,36,23,17,24,32,33,23,33,28,29,18,25,23,36,17,20,29,22,30,31,24,24,17,20,39,24,39,24,34,33,34,25,37,26,30,33,38,34,26,33,29,37,37,34,21,40,33,38,20,42,38,45,36,35,46,25,33,26,25,28,18,39,46,48,28,32,39,27,28,24,24,29,34,24,40,42,37,18,36,31,25,30,20,18,28,27,29,26,43,28,39,27,20,24,43,23,36,24,24,46,46,36,35,29,22,47,32,39,38,27,33,38,36,28,29,24,32,44,31,32,39,27,25,37,26,32,38,37,22,31,19,17,23,44,35,25,31,39,24,36,30,21,27,31,24,20,30,35,46,24,24,19,20,46,42,49,40,18,32,43,30,39,26,24,29,29,25,40,26,53,44,29,37,37,30,38,35,30,38,18,24,27,42,22,23,19,40,32,33,50,43,31,25,35,24,17,23,40,36,34,28,42,25,20,31,27,25,36,45,34,27,32,37,34,30,42,37,41,34,27,32,36,32,36,29,32,32,18,18,38,21,38,37,29,32,24,24,19,48,21,24,26,38,18,18,20,37,28,32,24,20,43,32,21,27,22,25,24,31,37,33,24,27,36,24,36,26,26,38,38,17,45,22,46,20,26,41,34,34,40,21,25,26,39,45,45,29,36,26,22,26,48,32,37,35,25,51,25,41,19,53,17,21,23,31,29,41,37,36,47,18,18,36,25,39,39,39,33,19,35,34,33,38,37,24,20,26,23,31,27,25,37,26,35,33,20,38,27,30,38,22,37,41,33,18,19,33,31,37,29,19,31,21,32,36,28,34,30,21,43,36,31,26,34,31,23,42,34,40,33,17,40,43,35,24,29,37,30,22,26,47,17,24,29,18,19,45,26,24,22,25,17,19,17,26,29,20,46,23,32,31,19,20,19,46,29,37,34,21,33,48,27,33,21,29,34,30,22,31,36,31,33,20,29,26,38,31,33,29,24,42,22,37,37,21,53,33,37,21,42,44,53,23,29,45,30,22,31,25,35,19,19,19,34,22,28,37,28,23,44,34,35,43,31,30,35,38,20,32,20,45,20,33,18,30,22,27,36,50,42,29,23,17,36,28,53,35,22,46,46,30,26,28,20,36,30,38,29,25,39,39,25,37,18,33,17,28,45,19,22,28,35,37,24,24,41,29,29,28,50,23,21,17,24,40,23,30,18,30,38,27,46,43,26,35,21,25,39,29,30,36,22,26,18,31,39,24,39,37,38,30,18,27,27,34,18,27,22,31,20,30,21,34,24,46,31,35,28,20,28,42,23,39,20,36,31,38,37,40,21,34,35,32,25,29,32,33,39,47,49,20,42,21,25,27,29,38,27,29,24,34,22,46,46,32,34,45,44,43,30,22,28,32,28,21,24,31,19,33,17,18,29,38,38,29,28,18,38,29,39,22,23,28,39,19,23,22,25,29,36,35,25,23,51,24,26,40,24,19,28,44,28,25,23,20,22,43,28,33,38,42,37,32,32,31,36,22,46,36,24,26,42,25,18,39,42,35,36,33,49,20,33,34,48,50,28,32,28,27,31,28,25,40,43,38,24,30,21,32,33,44,39,21,26,18,20,28,28,31,19,26,39,31,27,47,34,27,27,37,34,38,46,38,27,25,29,36,19,38,19,27,33,48,36,34,37,24,44,23,29,32,28,19,42,48,36,27,22,28,35,39,29,20,31,23,30,28,20,19,31,22,25,24,47,26,35,30,35,22,47,35,44,31,35,22,17,25,25,24,43,22,40,17,50,34,30,26,23,20,35,23,52,34,21,45,29,29,32,29,28,39,31,27,25,35,53,37,34,34,28,25,29,48,19,46,29,23,20,20,37,22,38,35,36,23,38,18,17,31,24,38,26,32,23,33,28,32,19,41,21,17,26,19,28,43,26,29,27,30,26,21,23,31,39,46,23,38,41,38,30,31,33,28,35,28,25,41,37,38,20,28,26,20,23,23,28,37,36,42,21,22,31,38,21,20,40,32,25,18,26,36,32,34,27,32,33,37,36,34,21,33,29,33,23,20,38,17,31,46,17,37,32,32,25,44,40,33,38,20,28,24,34,29,34,24,25,23,34,19,54,19,32,27,33,28,29,22,23,27,25,46,37,21,29,20,26,34,22,33,40,28,50,29,28,54,22,24,27,32,47,27,25,47,44,42,39,34,22,28,20,33,23,31,47,19,23,41,40,34,22,37,25,21,27,21,25,32,35,19,26,35,33,30,27,18,37,28,39,33,35,18,37,34,31,43,48,44,30,35,32,43,25,33,39,19,44,26,35,18,31,29,28,45,32,32,33,38,49,39,26,21,31,42,33,39,27,21,46,36,26,34,26,30,27,21,19,30,29,32,38,30,30,32,35,35,31,21,27,36,42,42,26,34,20,36,43,30,36,40,18,31,28,39,34,32,31,34,39,33,24,23,32,31,17,33,28,19,26,20,31,26,25,36,19,41,34,35,33,32,36,19,34,23,34,31,25,29,29,31,39,29,23,23,35,21,19,31,39,23,31,37,28,33,35,17,20,18,48,37,37,23,18,29,38,28,25,35,26,32,28,18,26,39,21,24,33,39,25,40,18,36,19,34,33,19,54,32,37,35,48,32,27,32,18,19,33,17,26,24,19,23,42,32,26,41,28,27,17,18,24,32,45,26,23,20,35,25,30,33,22,33,32,27,24,23,23,32,23,28,25,39,27,33,43,35,34,22,43,34,31,25,32,31,26,37,28,33,30,38,24,22,28,17,24,41,22,30,43,21,26,27,20,49,37,40,30,45,33,25,39,26,32,26,26,41,45,24,27,24,37,43,28,24,20,24,29,29,20,29,23,34,34,28,26,26,36,24,22,32,34,26,41,41,30,41,34,35,26,30,24,26,24,29,31,40,22,35,27,30,42,33,39,26,32,49,30,52,38,22,31,38,23,23,36,33,37,26,23,32,47,45,25,19,26,33,28,30,38,33,30,25,47,22,25,24,53,17,28,28,28,34,42,27,32,29,35,29,24,17,20,30,39,19,26,26,24,31,20,39,44,34,22,33,30,32,22,31,41,32,33,22,18,20,30,22,28,23,25,29,34,21,20,30,20,50,18,21,30,29,37,29,27,33,22,29,19,40,20,23,20,30,20,31,31,36,44,19,24,32,26,18,47,45,38,51,47,17,20,23,31,47,25,30,28,43,44,34,28,40,33,41,32,25,39,20,29,41,31,25,39,19,42,32,35,43,23,24,32,24,30,33,36,19,18,23,32,22,40,35,25,24,34,27,21,38,39,21,17,18,40,29,39,20,45,21,33,49,51,23,35,30,31,45,48,26,29,33,24,21,20,38,21,26,30,36,27,37,27,42,33,25,22,24,46,29,22,25,23,46,30,40,22,21,24,30,47,30,39,35,47,35,18,23,32,26,18,24,28,46,36,30,21,25,20,22,28,27,52,18,27,34,21,20,23,36,33,32,24,38,32,37,42,21,25,38,34,29,31,41,36,28,39,24,30,35,23,22,30,33,34,19,43,35,19,39,24,31,40,38,23,51,32,23,29,40,22,26,30,35,20,29,29,38,34,35,27,33,30,37,24,41,39,31,24,45,20,22,49,36,42,19,29,23,20,41,23,22,34,34,30,26,18,26,18,37,29,43,29,33,26,44,22,37,34,41,35,37,34,33,29,20,18,19,19,35,31,23,26,39,20,42,44,39,33,41,23,48,25,32,23,35,42,21,24,25,31,24,39,27,32,26,46,33,27,41,20,32,19,41,39,42,39,47,25,30,19,22,39,39,25,29,29,31,32,46,25,28,20,25,34,26,27,29,25,38,19,36,32,38,24,24,27,23,32,38,54,41,30,32,22,32,30,24,26,43,48,37,31,33,41,20,27,27,33,48,23,40,24,27,23,23,39,21,41,27,28,24,26,27,31,32,32,26,31,17,41,32,24,20,38,26,21,33,46,18,25,19,22,23,31,33,26,20,25,20,33,40,20,33,36,34,39,20,18,34,27,32,31,27,45,31,27,39,29,20,53,47,28,24,41,41,31,35,42,39,18,44,32,29,20,20,31,41,18,31,27,48,25,36,27,33,37,40,38,25,17,28,48,28,35,45,21,24,23,39,37,24,34,51,32,37,26,17,36,26,34,34,21,36,30,23,20,34,31,26,31,26,21,34,25,32,37,37,20,18,51,19,39,46,37,30,29,28,18,39,29,19,30,27,42,32,33,24,29,28,29,17,31,38,21,30,25,21,42,40,32,37,25,19,24,41,48,37,25,38,43,30,19,29,25,43,31,35,44,38,39,35,36,36,41,40,24,27,48,35,27,29,46,39,31,50,30,19,17,17,38,20,33,28,21,31,30,36,30,24,53,37,30,27,39,19,45,28,26,36,29,22,42,40,32,17,33,30,32,42,29,41,20,24,21,40,17,20,28,29,34,37,34,18,23,49,33,35,29,32,23,19,41,26,35,27,23,42,45,25,41,28,24,23,17,29,37,24,32,33,40,23,22,29,26,41,19,24,29,39,31,20,17,43,38,37,35,30,37,17,24,21,24,20,27,35,25,33,54,19,26,21,25,24,24,23,22,37,33,21,20,36,26,39,28,27,44,19,38,36,19,29,32,31,33,39,30,42,18,30,26,36,18,33,35,27,28,23,34,43,27,39,21,34,38,27,26,19,26,19,25,38,23,30,24,18,18,45,41,24,28,34,26,35,25,32,51,38,37,32,23,43,31,26,20,22,29,31,26,24,30,45,28,21,28,38,32,29,17,28,24,40,40,19,37,41,33,38,17,35,31,25,47,31,33,29,38,53,23,21,23,29,30,50,36,19,49,32,26,31,41,19,19,23,32,39,33,41,34,44,36,25,26,38,18,50,40,29,18,31,21,25,40,24,33,20,22,32,39,48,32,37,36,26,34,21,24,20,45,34,45,27,36,41,20,30,27,25,22,51,36,43,30,47,35,38,34,29,41,46,27,20,34,24,28,41,25,27,24,26,23,21,36,36,31,36,24,28,36,38,26,28,27,31,33,30,22,30,27,25,24,30,41,31,28,22,39,27,34,19,36,22,31,17,18,36,42,18,36,20,19,26,23,18,29,28,31,42,27,32,29,45,25,23,29,25,28,30,54,18,25,38,23,20,44,21,29,24,35,32,17,30,27,34,33,37,39,25,35,35,30,24,22,25,22,43,37,32,28,49,34,33,33,37,38,36,23,25,26,34,20,28,31,34,36,19,25,26,45,35,23,24,30,28,29,21,41,28,31,31,24,34,20,38,27,31,53,39,23,28,26,21,17,24,21,18,38,32,24,37,38,25,49,36,34,23,29,38,31,24,30,27,29,33,40,35,27,30,22,25,31,21,28,30,29,52,27,38,42,29,33,20,40,21,26,21,21,32,25,46,39,35,24,23,41,17,27,34,30,49,42,31,28,34,41,35,39,37,46,25,22,30,30,19,31,40,20,35,23,41,29,28,37,31,17,24,30,54,23,24,41,31,28,25,28,34,18,20,18,22,22,37,28,36,48,35,29,18,21,30,46,23,51,22,25,23,26,37,22,27,21,32,23,22,26,21,31,26,23,39,35,37,34,20,23,27,36,24,34,40,29,33,25,20,28,39,29,32,44,27,52,34,23,27,37,25,24,39,27,32,27,21,38,27,34,34,29,23,35,40,30,36,36,40,20,21,49,18,24,20,38,40,35,34,34,39,17,46,29,32,34,37,48,31,24,29,37,28,21,34,20,33,33,23,19,23,48,24,24,36,29,29,40,25,42,48,29,20,35,39,43,29,23,41,22,24,30,30,44,31,26,22,35,41,31,28,41,24,26,27,25,23,31,37,28,28,29,31,29,39,32,33,24,29,22,39,21,19,29,35,23,37,25,24,24,33,43,39,25,40,35,36,31,25,36,37,35,17,34,38,25,33,17,29,30,41,21,39,24,32,21,42,27,27,20,42,27,32,30,25,18,18,26,46,44,23,18,36,31,34,21,38,27,32,33,27,41,37,34,34,31,19,37,19,19,34,46,23,32,30,22,20,26,36,26,31,28,23,25,37,33,24,20,24,32,38,17,42,43,30,36,38,28,33,23,29,30,17,38,47,29,20,33,38,18,30,27,29,23,31,19,26,38,37,25,33,40,37,36,37,30,38,36,30,51,44,26,26,40,39,25,38,28,28,18,21,39,34,26,30,28,26,42,20,23,23,23,30,30,21,20,30,21,47,29,28,38,38,26,31,23,25,23,41,43,30,40,23,26,36,25,17,40,25,21,20,36,49,31,27,26,36,32,35,50,26,23,49,36,37,41,17,37,43,17,26,34,31,32,50,51,36,26,27,41,25,19,25,17,20,26,29,30,18,23,33,33,30,29,20,33,25,34,22,43,22,20,37,25,30,20,30,35,17,42,24,26,24,30,20,32,24,36,23,22,46,24,45,34,23,32,40,30,29,51,31,20,18,39,25,32,30,21,34,30,21,39,21,30,32,32,21,28,24,29,22,40,44,34,45,22,40,22,39,45,26,53,36,37,22,36,32,38,43,26,20,40,26,19,44,39,22,39,46,19,34,19,30,29,18,36,21,20,28,29,22,32,29,31,30,30,40,21,22,37,36,23,40,31,35,38,36,29,36,34,22,34,17,24,30,46,25,24,22,33,18,40,39,27,26,24,39,38,24,24,27,38,17,38,48,44,37,25,29,25,35,41,21,29,45,33,37,37,24,44,24,17,34,44,19,28,26,35,20,43,17,33,44,24,17,36,30,47,31,37,24,36,38,18,32,30,29,43,18,38,27,52,37,34,34,50,42,49,35,40,32,36,44,22,21,20,19,27,42,28,24,34,21,41,45,17,27,37,42,39,32,34,27,19,31,38,42,27,54,17,47,47,44,24,26,23,22,34,22,30,34,29,33,25,29,30,21,29,24,17,38,41,38,47,20,44,24,26,33,33,28,30,38,21,17,25,22,34,28,20,32,26,30,35,27,27,21,27,21,42,48,31,23,17,25,41,23,31,40,34,26,24,31,31,28,27,28,22,24,27,36,34,26,18,27,35,18,27,27,17,39,37,28,47,19,21,40,25,44,28,40,33,34,28,29,25,25,42,28,44,32,41,29,21,22,24,36,18,29,29,40,20,38,17,44,39,41,23,27,35,20,32,21,38,25,33,36,21,24,27,31,29,22,30,23,18,28,46,22,32,36,29,25,29,26,34,19,21,22,18,30,33,18,28,31,18,26,30,27,35,46,24,26,26,25,22,28,32,38,17,23,28,34,28,45,17,17,26,23,27,40,18,27,19,37,41,34,33,18,22,35,34,33,17,31,26,42,34,27,24,22,38,25,43,22,34,47,36,31,23,32,23,24,41,24,51,25,23,23,41,34,48,48,39,30,26,32,28,36,39,17,34,33,36,23,18,42,26,29,40,25,34,24,31,32,40,42,20,32,29,34,40,24,25,27,23,27,38,20,23,23,35,35,27,27,25,17,19,36,36,34,31,22,23,21,34,33,24,35,45,43,39,27,31,24,38,24,32,28,33,28,30,34,30,38,33,20,23,29,40,20,19,39,25,37,39,35,33,24,38,28,39,36,27,32,44,26,36,40,17,32,23,39,46,20,31,24,25,26,41,50,29,42,32,41,29,27,20,23,24,41,33,28,30,30,32,22,30,40,42,20,41,23,23,19,36,37,35,20,31,17,41,32,39,29,19,26,47,27,25,36,23,31,33,23,17,34,30,37,22,23,38,32,23,34,37,33,41,24,41,36,36,21,29,43,22,29,29,19,44,17,30,26,40,32,22,30,28,29,20,41,32,23,28,27,30,20,26,23,34,36,25,27,24,51,28,37,31,28,41,30,30,47,32,43,28,25,35,39,20,33,48,28,24,32,41,32,39,21,33,43,21,51,44,33,24,37,27,22,21,32,48,40,33,30,40,24,41,36,48,33,28,36,22,45,33,29,18,38,20,24,31,30,25,36,26,30,30,19,42,49,22,33,19,22,25,26,37,32,24,26,18,46,26,23,21,31,32,41,30,28,41,35,20,41,31,29,33,45,34,27,21,17,25,36,24,33,24,23,36,26,20,43,21,32,19,28,29,19,29,26,23,23,36,21,47,36,18,29,30,19,30,26,23,46,39,20,18,20,44,18,24,32,32,27,45,20,20,25,48,32,40,34,20,35,28,37,36,46,17,28,39,24,27,35,17,44,40,22,21,44,41,30,40,29,39,52,21,18,35,30,34,35,21,23,37,20,30,25,26,28,28,23,25,27,26,28,33,38,40,42,26,38,25,25,42,24,19,34,36,39,27,33,30,30,29,50,25,32,28,34,22,24,27,33,41,34,39,52,30,27,25,27,37,20,28,49,45,35,36,28,25,30,19,50,24,20,32,36,31,45,24,29,43,34,36,42,37,50,28,33,31,28,19,35,26,19,34,38,40,31,34,20,32,29,40,41,25,20,34,33,23,42,21,19,30,35,23,38,39,32,23,31,29,32,29,25,40,25,19,25,34,27,18,43,21,32,39,39,29,32,31,34,30,27,20,24,34,46,32,41,24,45,34,32,34,31,35,34,18,31,28,17,33,31,19,35,43,18,17,18,33,37,29,31,21,40,30,35,34,26,29,22,29,27,32,50,19,30,44,37,32,23,18,35,52,31,39,30,40,37,25,23,18,27,21,29,23,40,40,26,34,23,41,24,29,25,17,35,29,35,30,23,38,32,35,37,18,32,43,53,18,24,30,34,35,18,19,35,32,31,27,19,37,28,23,44,21,37,27,25,17,51,20,43,22,21,44,33,32,34,32,44,33,37,22,23,34,30,32,28,38,42,33,26,40,36,27,23,45,50,34,18,18,30,32,41,22,40,35,28,27,22,30,38,38,40,47,41,30,39,30,27,29,17,19,48,22,32,31,20,45,25,41,20,23,37,28,40,19,30,45,30,19,19,40,26,20,34,31,20,42,20,21,47,31,26,37,24,45,46,27,26,24,29,43,29,24,34,23,21,23,19,19,25,26,33,31,26,37,23,41,25,40,41,37,18,29,34,28,24,29,19,37,26,21,21,32,24,31,31,40,22,45,27,31,48,28,30,19,38,19,33,33,27,27,28,40,40,29,28,26,39,24,40,31,21,17,38,41,25,37,18,24,24,28,33,34,49,41,27,38,32,29,37,37,33,32,34,33,28,29,29,46,34,32,41,33,28,28,19,34,33,33,36,38,27,34,17,24,33,42,35,40,19,21,33,37,37,24,37,26,32,51,28,29,39,31,34,40,36,35,19,35,28,32,33,45,19,36,33,21,34,22,24,29,19,24,28,18,18,33,29,40,24,27,34,23,37,24,26,36,28,25,17,34,43,52,17,23,26,17,27,33,35,40,25,25,28,30,25,45,29,25,19,44,31,28,33,21,42,20,26,34,39,37,20,27,30,30,21,23,22,34,27,43,38,34,25,38,32,27,23,29,38,24,31,35,34,24,42,41,29,31,20,24,18,54,20,48,25,27,29,23,31,22,21,34,39,29,30,29,45,27,20,31,26,35,41,20,36,22,29,44,34,44,26,39,33,20,23,26,36,31,32,27,44,41,26,34,32,37,23,47,26,18,42,22,30,27,30,28,17,33,35,27,18,30,29,40,25,51,32,29,29,34,26,28,49,17,33,23,23,37,43,28,21,28,23,23,36,25,24,34,29,28,30,45,29,27,29,21,18,29,28,38,19,48,32,18,17,34,31,25,22,38,17,21,26,41,41,31,32,35,27,32,38,39,35,21,30,35,18,26,20,29,37,25,38,28,30,47,36,33,28,37,39,24,39,36,38,27,40,31,33,28,32,41,23,20,36,34,36,20,37,31,42,17,32,21,41,30,26,27,37,24,40,17,19,32,30,38,24,26,27,21,22,18,21,28,32,34,36,24,32,24,21,22,35,24,36,24,38,39,27,42,21,32,27,36,35,30,30,40,39,24,30,27,31,29,27,18,40,17,24,25,23,27,27,32,24,43,21,29,37,29,23,22,27,40,17,21,22,28,39,28,39,27,19,38,22,32,30,18,36,35,28,30,21,28,27,27,38,29,32,45,28,32,31,44,34,24,48,34,25,25,38,25,31,31,26,21,28,34,23,24,36,32,24,27,35,35,23,33,23,44,22,21,38,22,32,35,34,46,34,31,26,28,42,29,18,23,29,50,33,35,32,19,27,33,30,24,32,18,51,18,50,23,35,31,21,34,31,49,32,25,35,20,31,33,32,21,31,36,23,28,29,25,39,41,38,30,20,27,43,34,32,33,36,18,41,40,31,20,33,31,28,29,39,46,26,38,34,30,32,39,34,32,27,24,21,24,25,37,18,26,18,26,23,23,34,32,20,26,39,30,39,36,32,17,27,42,27,34,21,27,42,36,39,23,34,27,23,28,27,19,19,21,22,45,18,30,48,39,27,40,31,32,26,19,51,20,23,22,33,34,36,49,20,33,35,42,44,38,45,34,41,19,34,44,33,45,30,34,26,22,38,30,26,18,35,20,19,40,35,33,34,47,23,36,27,52,48,29,33,26,36,42,27,28,18,29,24,32,33,17,45,30,25,40,26,41,23,34,20,32,26,25,31,23,33,38,39,36,20,24,36,33,28,25,22,31,25,26,38,17,18,31,29,28,31,32,37,35,46,39,41,24,41,20,28,41,23,27,36,32,32,21,23,25,28,27,36,22,21,41,34,44,44,43,36,27,27,27,26,21,27,40,36,37,23,26,25,35,24,45,33,31,27,29,25,29,22,26,33,27,23,32,24,24,25,30,25,28,19,28,34,24,21,34,39,32,22,40,27,33,31,29,39,20,32,25,33,52,32,37,28,33,38,28,18,38,45,23,36,32,22,41,26,42,37,42,29,29,32,25,24,37,30,30,26,36,25,37,24,26,47,28,23,29,23,34,35,17,30,34,21,31,19,24,20,32,28,17,32,31,32,45,37,37,47,37,35,24,22,39,36,23,31,29,20,34,47,36,38,39,32,38,38,39,32,31,37,25,28,24,27,18,18,17,27,19,28,31,36,20,40,32,24,48,29,36,47,44,33,33,32,37,32,24,30,30,49,20,31,31,22,44,18,39,45,43,25,22,23,21,36,28,34,41,20,34,25,26,17,37,39,48,36,21,44,26,29,34,25,30,19,38,29,49,20,37,30,20,29,22,37,26,18,36,35,32,47,21,34,39,20,38,26,38,23,40,32,25,33,17,42,37,45,35,28,18,17,44,22,38,27,21,25,41,42,30,31,31,27,19,24,28,27,26,20,31,34,26,34,41,22,22,27,31,24,26,35,24,46,24,32,40,19,30,34,32,20,36,20,26,38,40,44,28,36,40,37,25,25,29,33,20,30,33,24,39,23,31,31,35,45,32,33,22,30,33,40,21,18,33,26,30,17,27,22,35,22,40,19,26,24,37,18,17,24,31,28,28,26,19,17,32,39,20,32,34,24,32,33,34,24,36,34,30,28,43,30,23,26,38,26,27,32,41,32,37,17,22,39,20,20,29,31,40,35,36,28,47,29,23,34,25,21,42,35,42,32,36,31,26,40,22,38,32,24,31,24,41,17,21,25,29,28,33,32,30,34,19,22,28,37,24,36,47,20,31,21,40,34,41,33,18,29,20,27,40,32,41,30,28,38,28,38,17,18,33,33,35,33,47,38,27,30,44,37,21,28,48,30,27,24,18,19,17,35,28,27,20,25,29,45,18,31,40,32,46,39,33,32,39,20,44,28,23,25,20,40,39,45,34,25,32,31,20,33,35,26,24,34,21,50,31,24,31,30,32,22,30,21,41,32,40,28,21,39,20,33,40,30,33,26,30,35,39,17,19,31,33,34,23,38,23,36,43,19,43,36,35,41,28,32,28,29,22,31,42,17,36,39,28,38,33,21,40,42,34,17,23,25,37,26,35,29,30,34,46,37,30,26,40,23,23,17,37,27,48,42,24,42,34,49,19,27,25,24,17,42,38,26,48,22,23,51,45,38,28,31,30,28,34,31,34,33,22,20,45,34,28,25,42,24,29,34,32,42,19,24,37,42,39,35,31,50,18,30,20,25,35,38,25,21,24,31,30,40,41,26,31,24,25,20,34,43,48,32,43,38,27,44,35,27,32,22,26,38,24,27,44,19,28,37,37,24,29,21,25,31,18,22,52,48,36,42,35,37,23,21,40,18,51,28,50,23,24,38,35,41,41,26,51,20,27,20,20,17,39,25,28,22,33,21,30,26,39,31,26,35,30,31,28,18,43,37,39,30,22,30,23,44,22,24,26,27,25,32,19,23,17,23,17,25,30,37,26,23,21,30,37,23,21,23,27,36,24,25,18,25,19,18,18,46,36,18,19,21,27,40,29,27,28,38,41,38,42,21,47,34,27,34,32,25,35,34,29,24,28,22,28,43,37,45,22,36,43,27,24,30,21,34,32,19,28,18,48,21,21,21,32,19,38,40,26,35,29,33,47,35,25,30,24,47,22,21,36,42,35,40,50,24,19,25,38,20,39,23,26,35,26,29,30,47,39,20,22,42,27,24,31,34,20,22,26,30,28,24,21,36,34,20,28,25,31,33,28,26,24,35,29,24,17,32,25,33,32,27,39,22,32,30,26,38,54,28,31,21,25,25,38,38,20,34,33,23,27,30,29,27,26,49,19,39,26,38,38,25,32,25,28,29,24,18,27,36,33,17,42,33,52,31,26,33,29,42,33,37,30,24,31,31,31,35,41,35,33,39,44,39,34,27,37,43,36,32,42,25,19,22,26,38,17,37,31,37,36,34,30,18,22,24,27,41,34,24,40,36,29,19,24,37,45,22,52,31,29,37,40,18,48,40,32,23,47,28,27,38,20,34,25,34,26,30,31,33,30,23,19,30,37,20,39,37,41,43,43,35,25,20,30,30,23,38,21,37,27,22,21,24,38,24,17,43,17,43,37,23,27,24,27,18,51,25,22,43,29,31,43,30,36,38,28,35,41,17,26,29,30,38,18,32,30,25,35,54,37,29,29,29,37,25,27,37,35,27,38,37,29,28,44,46,27,31,18,31,26,21,31,41,23,48,37,28,22,20,25,33,35,35,20,17,20,36,43,46,17,30,37,20,32,40,36,36,40,29,23,36,25,22,34,19,23,18,35,39,40,26,34,48,41,25,28,37,45,22,30,41,35,22,18,21,18,17,33,25,19,19,35,29,34,39,31,24,31,43,45,25,27,33,18,23,31,46,27,33,22,37,17,20,25,45,47,19,38,37,31,19,46,18,38,27,17,18,33,17,21,26,31,47,27,45,17,33,29,27,32,23,37,44,19,33,19,38,31,29,21,28,31,36,29,32,39,29,39,33,33,26,22,20,33,33,38,26,19,17,29,30,21,39,23,32,30,17,34,31,17,21,30,28,29,27,20,34,25,37,32,19,46,31,23,25,19,27,32,20,42,38,46,33,22,28,22,23,22,30,19,26,42,32,29,33,28,37,34,26,37,34,17,20,30,34,23,32,26,32,51,36,25,32,29,19,25,28,32,36,36,33,26,21,31,40,23,27,33,32,37,42,40,38,23,41,28,25,33,27,44,34,40,22,37,24,27,31,31,33,34,34,26,52,27,35,28,32,33,31,19,50,28,35,50,30,22,36,19,34,29,28,24,35,28,23,26,30,27,23,42,22,27,19,28,28,42,39,20,24,37,26,34,21,24,29,33,40,37,31,18,38,38,29,38,25,45,31,22,28,21,21,31,45,32,27,34,42,34,37,26,19,22,46,38,44,27,17,32,32,22,37,24,27,17,36,44,43,44,22,17,21,28,29,26,23,32,37,35,35,34,22,36,26,20,46,46,26,39,32,23,26,47,36,49,30,28,32,22,18,38,32,27,20,26,43,27,29,29,35,33,29,28,20,44,34,29,18,33,41,27,26,30,28,34,49,29,20,28,34,38,34,32,22,31,30,21,29,30,33,32,41,19,22,35,40,31,22,18,39,32,29,42,20,24,23,25,33,41,18,24,25,30,43,24,32,20,28,42,41,28,33,18,23,27,20,46,29,17,40,33,29,22,34,37,28,41,27,24,33,28,27,26,34,37,23,29,31,21,26,39,30,21,42,28,19,33,33,35,49,17,18,24,33,40,38,34,45,23,45,19,22,50,23,28,23,38,31,42,31,46,28,30,28,33,33,23,27,34,32,30,29,43,37,39,34,30,38,24,39,20,36,24,26,39,23,39,36,27,19,44,39,32,40,22,27,26,41,21,28,31,42,34,40,18,18,29,26,23,39,39,18,24,42,33,37,43,31,43,31,37,26,17,27,23,17,28,18,22,30,21,37,38,25,40,38,20,39,54,36,35,41,30,26,40,31,26,25,37,35,19,26,27,20,20,29,30,37,28,31,23,35,29,38,24,26,34,31,26,22,36,20,28,29,32,24,30,21,17,19,28,19,25,30,38,23,34,30,36,27,23,25,18,22,32,54,24,40,28,42,27,30,25,25,27,17,39,20,35,34,18,37,39,28,30,27,34,20,31,32,50,48,35,31,24,47,21,28,32,36,31,30,21,29,20,23,17,27,31,32,38,23,28,33,45,21,41,23,33,30,20,20,20,24,29,31,33,54,30,24,26,18,23,29,23,39,30,18,31,24,20,25,30,27,46,31,25,40,39,17,19,36,32,35,39,43,27,29,20,31,39,49,52,28,17,27,28,30,41,31,23,42,26,38,46,49,35,20,38,32,32,26,38,20,34,53,28,27,21,30,21,23,35,33,17,45,37,29,36,23,35,30,30,26,30,19,25,25,20,35,29,39,25,32,24,24,34,17,39,19,38,29,22,35,23,19,37,32,32,35,20,26,18,45,18,35,37,18,25,34,23,28,35,33,28,21,46,25,34,37,31,32,42,19,29,42,32,29,35,31,30,17,37,49,18,25,44,25,38,39,33,36,26,24,25,27,28,37,32,46,35,34,29,24,23,51,27,25,38,22,43,30,32,29,29,25,22,29,42,26,21,19,29,29,32,17,26,28,22,26,29,35,28,43,27,22,39,29,29,18,25,34,20,18,35,25,31,35,25,24,36,27,25,21,28,46,27,22,24,28,41,36,32,53,35,32,29,22,24,17,32,17,22,28,28,30,38,51,23,28,19,22,23,25,34,24,23,29,28,22,22,41,34,32,43,30,23,28,28,50,29,25,36,25,20,22,25,41,46,42,27,26,47,19,34,31,33,28,33,30,20,41,34,18,30,20,25,39,36,25,35,31,27,31,23,18,25,34,34,19,29,43,22,17,30,27,40,37,44,26,26,20,34,34,27,21,28,38,40,30,37,33,23,40,35,27,27,26,22,34,35,35,37,39,39,26,30,33,20,25,48,26,27,23,26,45,41,23,17,31,20,34,33,37,25,33,17,40,24,19,40,17,33,36,21,44,27,32,32,32,42,30,26,32,19,33,37,17,38,49,31,30,33,18,30,19,37,25,32,25,34,28,31,25,36,24,31,41,26,38,40,17,44,20,32,39,24,36,30,23,26,18,26,28,32,29,21,31,45,32,23,33,49,26,32,19,19,30,27,21,36,20,19,21,37,29,33,27,25,48,39,32,21,33,36,36,29,21,28,40,17,23,32,30,26,41,39,38,49,26,38,25,38,39,28,27,36,44,29,28,25,51,30,32,39,34,40,22,24,35,22,43,37,44,39,18,35,39,20,52,25,37,30,24,29,19,28,25,33,37,38,46,39,17,33,45,27,30,23,18,32,34,39,44,36,31,25,42,26,32,24,31,28,48,39,22,25,39,37,41,27,49,30,23,49,30,40,25,39,29,37,31,37,42,23,17,26,23,22,29,27,22,22,24,26,19,31,24,30,34,37,20,24,34,22,29,22,18,37,36,35,33,23,33,27,36,44,32,28,26,19,19,19,32,20,32,20,46,20,18,17,41,47,36,29,20,18,20,43,20,17,19,46,43,40,17,30,22,41,50,44,35,29,17,29,26,34,18,24,30,31,29,36,25,26,41,40,38,24,34,23,18,27,39,31,27,34,40,19,18,36,28,42,35,26,25,52,36,32,32,25,38,39,40,27,30,30,17,37,32,19,41,40,29,28,46,32,37,33,30,53,24,28,24,30,54,30,33,35,41,30,29,40,26,43,27,40,27,24,20,33,33,29,35,21,29,22,36,29,37,18,54,31,18,28,26,26,21,30,32,29,32,29,19,28,26,24,35,28,20,23,29,34,21,23,21,47,39,39,36,31,26,28,42,37,26,29,22,20,44,35,25,23,24,24,40,23,40,23,35,20,27,21,17,36,29,36,34,23,40,19,19,22,26,33,22,29,22,26,38,22,50,35,34,33,46,19,26,27,17,23,41,33,29,45,25,29,19,19,36,28,36,39,22,28,24,19,22,17,30,37,34,25,31,33,32,22,22,34,33,25,36,19,51,22,31,36,38,22,25,32,20,41,38,26,23,32,47,35,26,21,28,27,43,20,32,23,33,33,29,26,23,28,27,37,28,24,29,17,19,24,37,20,30,50,23,52,24,30,30,32,20,25,50,41,42,32,47,29,28,35,33,21,40,42,25,37,34,31,33,17,27,29,17,41,24,21,41,18,34,30,31,47,29,26,28,32,28,32,24,23,26,36,38,37,21,29,49,41,33,39,27,21,21,25,50,32,23,30,21,33,35,25,46,25,29,28,25,31,37,54,30,22,47,27,18,20,45,18,29,24,33,46,43,18,28,34,39,21,31,37,18,29,22,47,29,22,25,37,32,29,18,36,30,24,44,25,46,34,25,45,22,23,26,17,17,35,27,49,41,24,19,48,46,45,24,25,36,37,41,26,17,35,17,36,20,28,52,45,24,27,22,19,23,19,25,28,19,29,20,23,17,29,42,31,17,38,40,31,22,36,39,25,51,37,25,39,32,22,42,27,32,30,23,24,32,23,39,23,34,44,27,35,19,43,33,38,24,27,49,19,41,27,28,36,28,32,25,26,43,26,28,24,20,25,45,36,31,18,23,50,43,29,17,41,25,33,43,33,23,37,21,27,29,20,28,30,40,29,38,26,30,23,23,21,35,34,42,29,33,19,17,26,39,33,21,45,36,27,17,32,34,29,32,23,19,27,45,38,32,22,26,28,45,33,25,33,41,25,25,24,26,23,17,32,28,18,48,34,23,19,21,35,20,35,49,44,17,24,26,36,33,41,19,38,47,31,18,17,25,33,34,33,23,23,38,32,34,40,19,22,20,47,32,19,47,32,27,31,40,49,25,19,17,30,36,23,52,24,25,24,36,37,27,44,31,29,34,31,22,28,22,38,25,27,42,37,30,38,27,29,26,28,25,35,19,19,26,26,32,24,30,37,36,27,33,25,30,33,30,32,37,32,41,29,32,33,37,39,17,34,37,22,26,34,34,27,17,37,29,43,40,31,29,36,29,18,34,17,42,17,17,33,37,30,29,27,31,26,28,28,20,20,21,39,33,44,44,28,41,29,26,32,28,47,19,18,25,18,46,29,21,21,38,27,47,50,37,35,39,28,17,36,39,36,30,43,38,26,27,18,24,27,34,43,30,33,27,36,26,31,32,18,26,29,31,25,45,23,31,17,32,18,32,36,19,31,35,32,33,28,31,47,20,22,33,44,40,33,28,36,19,42,31,42,32,21,29,24,25,30,34,38,18,17,34,33,30,21,34,26,21,28,21,41,27,38,38,52,20,34,25,24,41,18,20,32,47,31,29,23,25,22,22,35,24,28,27,18,26,38,32,22,22,28,18,29,25,48,26,35,22,22,28,24,39,34,30,31,26,22,28,40,42,27,30,33,33,32,26,31,40,35,38,29,29,33,22,18,33,36,18,29,26,37,20,27,36,44,24,31,32,35,22,28,33,20,29,47,39,26,44,17,34,30,30,28,24,29,26,24,28,32,31,34,31,38,24,20,42,26,25,37,44,26,24,29,26,40,17,50,36,24,23,26,32,34,29,48,37,22,24,25,27,19,27,20,50,30,20,27,35,41,28,26,36,32,23,41,30,28,20,24,36,21,43,40,20,27,32,28,32,30,52,26,45,24,30,20,27,17,27,30,28,31,28,35,30,35,23,34,32,19,22,35,27,40,47,25,18,48,25,34,29,35,30,32,26,36,42,31,33,18,27,19,39,29,41,41,23,28,28,22,31,17,35,32,35,31,34,33,35,20,19,30,19,44,36,28,40,41,40,26,31,26,18,28,38,30,28,48,30,19,21,32,45,18,40,25,37,25,27,45,29,32,19,34,21,27,38,36,29,30,20,19,33,26,26,22,24,17,38,28,30,38,19,40,37,19,17,39,25,41,39,27,22,23,47,19,22,22,24,29,31,17,51,41,36,30,34,50,37,44,22,35,30,49,27,27,34,29,40,28,31,32,43,29,32,22,25,28,24,38,25,30,18,34,34,40,26,26,28,28,32,40,23,27,30,37,35,37,28,34,44,38,31,37,36,23,23,30,19,19,28,29,28,28,21,25,42,44,40,45,22,22,43,32,41,38,27,35,33,20,45,19,35,22,18,31,32,44,41,30,32,35,22,37,30,26,28,27,34,24,40,22,35,26,35,26,26,36,22,35,39,38,24,39,33,28,28,26,41,23,35,24,20,22,31,33,26,43,24,28,21,37,31,43,34,25,46,20,41,41,33,28,28,35,25,37,53,27,26,26,31,34,33,28,27,46,24,33,19,25,27,22,43,44,21,23,33,18,52,32,29,42,22,20,20,46,43,29,33,28,26,20,29,37,32,30,17,32,21,19,38,23,28,25,20,45,28,39,33,22,31,22,35,27,47,31,38,28,30,34,36,42,49,31,38,27,32,31,41,29,32,21,27,34,39,29,18,38,18,28,26,31,29,22,20,37,33,45,51,29,30,34,31,20,39,17,35,23,45,43,25,29,48,25,27,36,33,31,30,34,26,43,25,44,29,34,37,28,24,34,22,23,47,29,39,21,38,24,50,38,27,24,39,29,21,33,34,24,48,32,33,23,18,29,22,28,32,24,28,28,42,37,39,28,34,28,41,30,32,30,26,22,23,23,29,34,25,20,39,29,38,33,33,34,18,35,35,22,36,22,24,48,42,36,37,30,23,18,31,41,24,21,29,28,28,24,34,43,19,42,31,34,29,19,30,24,17,23,37,35,31,25,36,31,28,25,31,37,36,33,20,26,20,43,26,31,25,30,31,39,32,35,25,21,29,32,31,35,48,34,19,34,32,40,38,43,33,18,26,34,26,23,31,39,38,41,24,31,25,26,29,28,33,43,18,49,28,32,25,30,43,38,41,25,25,28,32,39,28,26,39,25,25,39,43,34,36,21,46,37,42,19,23,29,33,28,20,18,23,17,33,37,30,37,28,20,38,25,37,30,21,38,42,30,42,34,45,21,31,22,46,25,36,32,29,19,19,18,34,28,34,50,33,28,25,54,26,30,22,43,29,21,17,27,25,18,29,33,33,44,44,30,29,47,52,26,17,29,31,30,22,29,18,23,28,44,34,23,35,24,27,43,47,23,18,19,23,21,34,25,35,33,35,45,29,21,34,39,40,31,36,44,26,26,31,19,49,30,30,42,28,25,19,36,20,35,23,40,21,24,28,38,37,17,31,44,27,34,27,20,22,41,23,47,23,29,22,26,36,30,41,41,32,25,30,23,28,22,25,29,42,44,23,30,32,29,24,25,42,34,33,28,34,23,21,22,36,37,43,18,23,24,17,35,28,38,30,19,34,23,27,29,30,29,30,22,17,21,39,23,31,24,25,26,37,32,27,42,34,45,22,33,39,19,21,19,17,23,28,26,25,36,25,30,31,36,33,22,36,39,35,32,44,30,38,36,19,23,24,23,36,20,22,25,33,40,54,17,43,38,25,32,20,41,41,21,26,28,25,31,34,23,27,31,18,18,22,38,24,36,28,35,21,36,36,28,22,39,21,26,31,29,37,21,35,27,28,26,32,31,30,24,20,30,39,22,42,28,35,35,25,31,21,27,34,39,19,26,19,44,37,38,23,20,25,25,25,45,21,48,27,23,23,21,36,21,22,29,35,39,44,25,35,23,44,20,26,28,34,24,24,30,47,22,37,19,25,48,25,27,31,35,38,35,24,31,29,28,33,19,37,23,35,36,27,26,24,35,33,37,23,18,28,24,30,44,17,21,28,50,31,37,23,23,23,20,26,28,30,27,29,26,35,37,18,42,31,23,32,21,51,36,23,21,29,28,39,35,26,24,27,18,22,36,28,43,35,40,34,19,41,26,21,30,23,28,17,20,39,29,43,31,19,21,38,51,33,26,45,47,29,20,22,17,22,27,23,21,45,47,20,35,25,23,40,32,28,37,35,35,27,30,25,32,17,28,34,38,19,33,31,26,26,31,28,39,35,28,40,28,23,25,28,43,31,35,18,37,23,35,19,19,30,30,36,18,17,31,32,25,28,23,26,45,32,27,19,30,28,40,24,34,25,21,23,35,37,26,21,27,23,37,25,23,20,33,39,39,24,24,28,26,29,22,24,25,36,21,20,49,27,34,35,33,18,32,26,44,39,29,43,26,24,41,18,32,44,44,31,29,26,32,44,25,33,36,24,49,27,39,33,47,21,28,29,21,21,20,20,34,35,22,35,30,33,20,29,20,24,23,35,21,40,37,29,27,21,41,34,31,29,24,18,36,17,34,27,44,37,39,34,27,25,35,39,40,22,27,28,19,31,32,36,36,33,19,40,20,23,20,31,25,31,32,29,30,38,36,20,23,27,26,33,28,21,23,19,31,24,44,22,24,26,35,32,30,32,34,26,20,29,47,26,36,22,29,45,21,28,38,45,31,28,33,26,30,48,30,17,31,49,25,22,35,21,33,38,31,35,32,26,26,39,26,40,21,26,25,31,42,30,24,35,45,27,31,25,31,34,30,25,33,34,35,48,21,19,30,38,38,31,22,42,40,49,25,33,26,41,44,38,17,23,21,52,30,23,36,47,18,31,37,17,30,19,48,32,32,37,20,33,19,38,38,37,22,25,40,18,22,19,27,29,29,18,33,28,26,31,34,28,23,31,23,25,37,19,39,27,53,36,30,38,20,21,33,22,30,35,25,40,33,23,30,41,21,30,30,32,44,30,25,19,39,30,46,30,23,28,18,31,41,32,30,27,39,33,25,32,17,30,40,38,24,41,20,33,44,23,31,44,21,29,28,53,28,22,37,18,29,40,29,33,30,37,29,22,36,51,17,19,38,26,33,25,30,40,40,43,37,34,25,45,44,43,24,34,31,47,36,48,32,32,21,37,42,48,32,21,33,24,22,24,35,28,35,27,21,31,30,30,42,27,27,32,26,32,23,23,34,32,22,18,18,33,34,33,39,21,35,38,34,22,32,31,42,32,19,37,27,18,23,35,27,40,43,17,21,24,32,45,31,23,34,19,37,28,34,24,37,21,38,29,26,23,34,27,26,37,41,25,25,22,30,33,38,24,20,21,42,40,27,24,39,37,27,22,50,47,30,30,22,36,29,44,34,21,35,35,27,32,32,38,28,32,45,36,33,20,21,33,40,17,27,51,30,34,45,42,28,29,49,36,23,24,40,48,38,30,34,35,43,52,30,35,33,52,29,26,32,31,34,38,27,30,28,28,31,23,25,28,34,36,28,38,21,43,29,26,34,27,41,27,26,41,27,26,20,26,27,34,31,26,25,36,29,17,27,26,24,20,22,25,19,17,26,38,45,40,28,29,23,45,27,39,29,39,21,26,33,18,23,19,21,49,24,24,50,28,27,27,51,47,35,22,27,35,32,36,42,23,28,27,22,21,45,24,41,22,27,29,29,48,38,39,20,30,45,35,20,37,37,31,39,29,26,23,43,38,54,39,31,27,44,45,38,26,19,25,28,23,40,38,36,30,33,43,26,18,17,20,20,35,31,27,33,23,23,39,35,37,40,18,43,30,43,40,34,18,48,36,21,25,19,26,26,22,38,27,33,41,40,28,29,21,37,43,33,24,17,29,24,49,22,39,26,28,26,20,45,38,20,43,20,22,35,21,25,26,23,26,37,31,23,33,25,40,26,26,30,32,46,32,28,45,28,26,36,30,40,35,23,27,26,45,24,31,28,42,33,29,22,35,34,27,36,44,31,20,18,32,22,33,26,26,40,27,18,34,42,22,38,31,20,29,31,22,28,23,41,37,25,34,26,31,40,39,45,30,29,36,24,41,41,35,38,30,20,23,18,51,33,27,25,34,20,25,23,24,25,33,33,42,42,19,36,20,27,24,32,34,25,52,37,30,36,29,34,24,27,29,29,34,34,31,24,20,21,24,26,21,37,36,26,23,21,20,22,44,35,25,24,18,41,38,26,27,48,28,19,34,43,31,19,35,21,32,36,24,34,35,33,23,33,44,27,42,38,20,34,21,54,20,30,25,24,43,48,19,39,24,28,28,23,35,30,19,46,39,28,33,34,32,19,23,21,21,23,35,33,37,21,22,44,45,33,25,21,42,28,41,31,33,38,22,27,37,17,22,28,22,33,24,18,33,31,18,23,37,28,28,33,28,23,28,34,44,26,51,19,34,41,28,25,23,44,32,21,31,21,33,40,31,21,20,30,35,40,44,30,34,28,26,39,42,27,35,24,39,26,36,26,29,50,27,42,39,27,42,24,28,24,20,17,25,26,44,34,26,19,30,19,31,20,29,39,38,35,29,25,32,28,38,19,22,29,18,18,42,44,28,28,38,20,42,28,28,21,40,35,29,32,25,33,21,20,30,19,22,39,25,40,38,34,22,34,38,27,24,51,46,19,37,31,26,29,32,31,28,27,34,34,25,24,29,25,26,35,35,24,39,18,45,33,33,39,27,23,21,34,34,34,29,37,22,26,31,27,22,28,36,38,30,34,26,27,24,41,28,28,47,20,33,19,41,42,26,36,24,35,36,19,32,20,22,25,40,40,32,43,31,40,29,39,24,17,29,30,26,41,23,27,46,39,22,30,30,32,38,31,37,30,19,48,44,20,34,20,24,41,27,37,24,41,26,42,39,39,18,37,25,28,19,53,32,37,20,27,18,21,22,35,33,19,43,22,26,31,38,26,28,37,39,37,23,30,17,34,42,35,33,24,20,40,33,30,34,27,28,44,27,48,34,26,33,24,43,17,21,20,25,20,30,40,42,18,33,23,18,34,32,22,21,32,22,27,23,34,39,39,19,20,22,48,43,21,47,24,20,30,37,23,21,48,31,40,27,47,38,30,32,20,32,33,21,36,33,24,34,33,40,20,39,30,19,32,31,37,34,39,23,33,38,31,30,31,24,30,38,39,31,30,29,25,29,25,45,31,33,32,32,41,25,30,30,26,23,19,34,36,30,20,22,27,37,36,23,23,31,35,25,20,28,34,31,27,25,33,27,33,26,35,17,25,22,23,35,33,20,27,18,31,29,36,17,39,27,48,25,23,20,20,29,22,28,26,28,19,27,23,37,24,20,42,49,27,26,23,34,35,23,25,25,28,31,18,25,25,23,39,31,43,33,20,19,22,37,23,27,36,46,31,39,28,31,41,41,18,29,37,24,43,32,21,40,37,23,31,40,39,42,39,34,34,32,33,35,23,35,41,39,33,25,33,40,25,21,36,27,25,25,38,34,33,30,34,21,23,22,41,30,37,33,38,19,32,46,42,25,25,23,30,34,43,41,32,19,33,38,36,40,34,23,28,49,39,27,22,22,30,33,24,41,33,22,33,25,17,32,27,32,26,29,34,18,31,39,26,27,36,31,24,24,28,18,29,23,30,23,31,26,18,22,23,36,18,24,22,26,40,32,35,39,23,24,28,25,36,43,22,44,36,31,32,24,25,39,29,29,28,42,30,44,21,30,40,28,32,36,41,35,40,40,28,29,19,31,36,49,30,21,24,37,30,30,31,17,21,46,46,26,25,26,23,38,30,22,37,34,24,30,24,30,41,29,40,23,24,37,34,20,34,21,18,37,29,21,21,23,29,23,31,35,34,34,29,22,25,29,28,45,35,18,42,49,34,18,27,47,27,28,35,29,36,45,34,22,35,26,36,30,29,21,25,40,23,42,28,28,38,43,21,22,29,27,40,25,30,29,37,31,33,18,44,41,35,29,25,22,25,46,40,18,29,18,44,26,43,21,17,33,35,24,36,27,40,39,37,26,17,32,33,19,28,41,31,21,33,30,27,26,35,35,35,37,33,28,23,28,28,38,26,29,19,26,46,35,33,36,24,43,31,25,25,34,36,29,27,34,19,35,30,26,30,52,32,19,27,37,18,45,47,25,36,23,36,36,35,32,27,29,36,22,48,33,42,21,22,23,19,44,39,19,37,20,35,20,36,20,29,27,29,44,26,17,36,27,18,19,21,20,23,29,30,19,25,37,31,27,39,23,34,46,32,42,22,25,18,26,17,21,33,24,21,35,39,46,24,20,19,45,19,28,41,29,19,28,24,17,32,32,28,30,22,23,18,24,39,34,23,28,20,31,50,38,37,32,25,35,29,24,49,19,19,24,18,47,17,18,24,26,29,22,34,26,21,26,36,21,38,23,23,28,24,35,41,45,22,39,32,19,26,34,29,48,28,31,38,33,34,19,18,21,23,25,29,24,32,27,37,47,21,35,21,48,23,28,32,38,18,34,44,23,30,37,20,22,26,21,35,21,30,36,29,27,21,21,18,32,34,47,31,34,21,37,41,30,38,33,25,33,26,19,29,51,24,42,29,26,48,49,31,22,23,22,20,20,26,22,26,37,34,35,33,27,36,30,23,22,19,18,26,28,32,29,31,33,44,24,38,23,30,31,31,18,32,30,18,23,35,24,44,45,26,43,20,34,20,26,27,29,43,35,44,21,19,37,27,38,31,41,25,24,27,20,43,34,43,35,32,35,29,24,38,21,34,30,22,19,46,40,28,30,28,48,35,26,27,19,34,36,39,32,37,26,24,24,32,52,29,29,49,39,29,50,32,30,39,42,22,32,22,53,27,39,29,46,28,17,35,31,37,23,27,31,41,20,21,25,29,30,30,34,24,40,33,37,36,26,27,21,24,34,25,43,33,38,38,26,34,31,35,31,28,36,24,18,30,24,30,27,34,24,28,30,26,19,19,26,23,25,43,34,38,26,24,27,32,25,23,52,49,43,22,27,32,36,26,28,54,21,25,29,31,46,31,39,35,37,33,36,38,29,37,19,34,20,18,28,37,25,26,17,36,34,27,50,25,30,23,37,19,47,34,29,25,25,40,18,22,28,33,45,31,28,32,31,37,30,37,26,32,32,23,19,25,34,37,35,34,39,32,27,36,37,33,44,30,39,22,24,29,41,44,26,37,21,33,41,28,38,24,34,42,35,27,36,26,38,34,25,23,44,25,28,23,27,31,20,36,28,32,31,21,24,33,31,30,30,25,34,32,20,27,19,22,31,29,23,18,42,31,38,24,42,36,26,27,22,23,25,27,32,35,29,25,28,24,18,45,35,28,41,27,18,41,20,39,28,31,26,44,34,23,39,32,35,35,27,29,29,46,19,33,26,32,32,23,28,39,29,26,32,27,17,39,21,43,33,27,29,23,38,33,20,26,40,42,23,44,28,41,21,27,36,21,40,18,18,19,40,20,27,34,27,21,25,34,34,18,31,18,20,37,30,22,41,24,27,22,18,27,33,33,17,39,19,23,28,27,25,37,36,27,31,24,31,17,27,30,32,32,18,18,19,26,25,23,30,25,19,31,43,19,20,32,18,37,20,28,32,50,36,20,21,24,21,22,30,37,40,25,28,26,19,20,39,36,34,30,34,50,17,24,32,29,24,34,29,23,28,20,27,23,26,21,36,28,28,22,32,30,27,31,19,29,41,32,37,28,34,27,28,33,29,36,30,32,23,20,22,34,20,45,18,25,21,27,28,35,37,27,31,29,42,28,18,36,26,29,22,37,40,37,31,20,32,48,48,38,35,21,25,29,34,39,27,27,45,29,43,33,27,28,45,30,49,27,24,35,30,21,35,32,27,35,25,34,18,22,18,28,28,21,31,18,37,33,29,39,28,30,21,25,18,26,26,23,26,25,41,42,33,26,18,51,26,36,39,37,45,32,25,29,40,38,27,25,30,26,34,29,29,22,24,42,26,36,34,36,34,22,19,32,35,21,31,21,22,20,33,34,44,24,19,28,28,39,38,25,41,21,25,27,22,19,48,27,30,29,33,26,32,28,32,37,37,36,28,31,37,48,31,22,35,39,37,43,25,29,33,30,40,32,21,24,50,32,26,34,18,43,39,33,43,30,34,38,19,30,25,33,34,30,37,19,48,23,17,20,35,21,30,25,30,30,29,32,51,29,33,18,18,35,34,44,23,37,29,47,33,18,24,24,36,26,18,20,31,20,27,20,30,34,38,19,29,18,32,21,26,31,31,31,18,24,24,18,31,22,41,24,25,38,17,26,38,41,29,31,21,30,32,32,41,19,24,29,25,19,24,35,22,39,18,27,32,23,25,37,31,51,39,42,19,17,20,43,23,35,28,49,40,28,44,34,18,28,34,29,28,29,35,47,26,20,28,35,36,19,24,42,22,27,25,32,39,53,46,36,21,37,31,24,30,46,22,17,30,39,19,37,25,41,24,21,28,17,20,18,33,26,47,37,17,47,37,23,20,26,41,38,24,53,22,52,31,28,31,32,35,26,37,33,31,27,25,26,35,45,32,37,24,27,20,23,38,41,20,36,30,44,47,41,31,24,20,22,34,31,24,42,19,19,29,37,37,38,39,32,31,29,25,38,38,34,38,32,20,36,31,33,43,43,43,22,39,17,23,27,26,47,30,50,30,39,41,34,32,31,43,22,20,25,30,34,32,42,41,25,37,31,43,36,21,23,29,20,39,47,26,26,22,33,24,19,26,24,19,44,22,49,23,21,30,35,36,22,29,32,23,25,21,34,43,25,31,18,25,51,45,25,35,26,30,40,26,30,29,32,34,36,25,22,24,19,20,21,42,20,32,30,35,38,33,30,47,21,41,49,19,31,35,39,38,29,30,53,32,29,30,24,40,26,20,33,26,24,33,41,22,31,33,32,41,24,24,20,29,30,29,17,32,41,51,48,21,25,47,28,32,27,33,38,31,34,34,28,18,28,24,31,22,37,27,33,31,22,36,41,34,34,41,25,26,42,32,40,26,40,40,27,33,32,21,52,20,27,19,28,35,32,26,29,23,30,23,36,27,34,42,25,32,26,27,34,19,34,33,28,44,38,36,28,21,30,32,32,23,27,21,30,23,27,36,23,25,44,24,17,36,37,27,20,41,36,34,23,26,17,48,20,31,26,31,31,24,22,37,38,33,25,18,27,33,27,20,38,21,33,21,19,39,33,25,34,46,35,29,30,33,17,21,29,23,37,47,31,34,25,39,40,30,38,35,36,21,27,21,32,26,23,23,32,26,31,41,34,42,39,43,39,35,24,29,32,28,26,33,37,30,21,18,41,42,39,26,28,26,37,18,32,29,33,39,24,27,28,27,21,25,30,21,36,24,21,40,37,45,43,53,33,22,34,34,30,31,22,23,28,44,32,23,45,32,24,39,30,18,26,35,17,46,43,27,24,48,18,43,21,27,29,33,20,33,23,21,33,18,33,23,27,47,17,17,25,22,36,18,22,33,38,22,32,26,37,35,38,41,43,39,34,32,31,17,27,20,22,30,30,25,27,39,31,18,23,25,26,32,39,24,17,21,30,32,34,21,19,22,31,21,21,22,25,32,25,34,34,24,48,17,31,32,34,33,17,36,38,39,33,38,42,36,27,27,25,31,21,26,28,29,20,30,20,18,26,31,40,48,28,44,32,52,28,24,36,27,27,35,26,18,27,34,42,18,38,36,20,18,37,18,24,32,21,52,35,43,40,23,22,31,24,18,27,29,30,35,24,24,39,31,30,52,45,20,38,32,49,25,30,30,26,19,32,23,28,25,26,25,23,31,20,26,24,35,46,48,29,35,23,25,46,39,40,27,27,25,31,25,33,24,48,26,28,22,28,38,43,34,27,40,32,21,22,27,23,39,28,24,28,32,20,21,26,29,37,17,26,38,21,28,36,25,46,31,39,26,22,19,38,21,25,39,46,23,36,19,36,37,42,43,29,35,37,40,25,27,37,39,32,26,25,27,30,24,24,28,32,38,26,44,29,29,49,35,32,28,23,35,24,22],\"y0\":\" \",\"yaxis\":\"y\",\"type\":\"box\"}],                        {\"template\":{\"layout\":{\"colorway\":[\"#4B9AC7\",\"#4BE8E0\",\"#9DD4F3\",\"#97FBF6\",\"#2A7FAF\",\"#23B1AB\",\"#0E3449\",\"#015955\"]}},\"xaxis\":{\"anchor\":\"y\",\"domain\":[0.0,1.0]},\"yaxis\":{\"anchor\":\"x\",\"domain\":[0.0,1.0],\"title\":{\"text\":\"Value\"}},\"annotations\":[{\"font\":{},\"showarrow\":false,\"text\":\"Feature=age\",\"x\":0.5,\"xanchor\":\"center\",\"xref\":\"paper\",\"y\":1.0,\"yanchor\":\"bottom\",\"yref\":\"paper\"}],\"legend\":{\"title\":{\"text\":\"Feature\"},\"tracegroupgap\":0},\"title\":{\"text\":\"Age\"},\"boxmode\":\"group\",\"height\":400,\"width\":400,\"showlegend\":false},                        {\"responsive\": true}                    ).then(function(){\n",
              "                            \n",
              "var gd = document.getElementById('64339121-85f6-4a80-9997-d36a9200b156');\n",
              "var x = new MutationObserver(function (mutations, observer) {{\n",
              "        var display = window.getComputedStyle(gd).display;\n",
              "        if (!display || display === 'none') {{\n",
              "            console.log([gd, 'removed!']);\n",
              "            Plotly.purge(gd);\n",
              "            observer.disconnect();\n",
              "        }}\n",
              "}});\n",
              "\n",
              "// Listen for the removal of the full notebook cells\n",
              "var notebookContainer = gd.closest('#notebook-container');\n",
              "if (notebookContainer) {{\n",
              "    x.observe(notebookContainer, {childList: true});\n",
              "}}\n",
              "\n",
              "// Listen for the clearing of the current output cell\n",
              "var outputEl = gd.closest('.output');\n",
              "if (outputEl) {{\n",
              "    x.observe(outputEl, {childList: true});\n",
              "}}\n",
              "\n",
              "                        })                };                            </script>        </div>\n",
              "</body>\n",
              "</html>"
            ]
          },
          "metadata": {}
        }
      ]
    },
    {
      "cell_type": "markdown",
      "metadata": {
        "id": "70MwsoCS3QD5"
      },
      "source": [
        "# Create model"
      ]
    },
    {
      "cell_type": "code",
      "execution_count": 7,
      "metadata": {
        "id": "NM0feCss5sLZ"
      },
      "outputs": [],
      "source": [
        "# The dataset is quite big let's create a sample of the dataset before making any visualizations\n",
        "data_sample = data.sample(10000)"
      ]
    },
    {
      "cell_type": "markdown",
      "metadata": {
        "id": "dPh1qPTf3wZU"
      },
      "source": [
        "## Choose variables to use in the model, and create train and test sets\n",
        "**From the EDA, we know that the most useful feature is total_pages_visited. Let's create a baseline model by using at first only this feature : in the next cells, we'll make preprocessings and train a simple (univariate) logistic regression.**"
      ]
    },
    {
      "cell_type": "code",
      "execution_count": null,
      "metadata": {
        "id": "sjEHMGoY3kMB"
      },
      "outputs": [],
      "source": [
        "features_list = ['total_pages_visited']\n",
        "numeric_indices = [0]\n",
        "categorical_indices = []\n",
        "target_variable = 'converted'"
      ]
    },
    {
      "cell_type": "code",
      "execution_count": null,
      "metadata": {
        "colab": {
          "base_uri": "https://localhost:8080/",
          "height": 50
        },
        "id": "SV5E9KMs4xcq",
        "outputId": "9d1ed76e-e82e-45e7-f3e5-6d47962caa5a"
      },
      "outputs": [
        {
          "name": "stdout",
          "output_type": "stream",
          "text": [
            "Explanatory variables :  Index(['total_pages_visited'], dtype='object')\n",
            "\n"
          ]
        }
      ],
      "source": [
        "X = data.loc[:, features_list]\n",
        "Y = data.loc[:, target_variable]\n",
        "\n",
        "print('Explanatory variables : ', X.columns)\n",
        "print()"
      ]
    },
    {
      "cell_type": "code",
      "execution_count": null,
      "metadata": {
        "colab": {
          "base_uri": "https://localhost:8080/",
          "height": 67
        },
        "id": "W8K5DQEvvQgl",
        "outputId": "d280ebc9-4d4b-4723-b9fe-32513f898abc"
      },
      "outputs": [
        {
          "name": "stdout",
          "output_type": "stream",
          "text": [
            "Dividing into train and test sets...\n",
            "...Done.\n",
            "\n"
          ]
        }
      ],
      "source": [
        "# Divide dataset Train set & Test set\n",
        "print(\"Dividing into train and test sets...\")\n",
        "X_train, X_test, Y_train, Y_test = train_test_split(X, Y, test_size=0.1, random_state=0)\n",
        "print(\"...Done.\")\n",
        "print()"
      ]
    },
    {
      "cell_type": "markdown",
      "metadata": {
        "id": "7b_aU7ij7K3Q"
      },
      "source": [
        "## Training pipeline"
      ]
    },
    {
      "cell_type": "code",
      "execution_count": null,
      "metadata": {
        "colab": {
          "base_uri": "https://localhost:8080/",
          "height": 235
        },
        "id": "_9bEZ5bn7I5Z",
        "outputId": "ad5c8f97-2d25-4827-f1ee-43c665a97fa0"
      },
      "outputs": [
        {
          "name": "stdout",
          "output_type": "stream",
          "text": [
            "Encoding categorical features and standardizing numerical features...\n",
            "...Done\n",
            "[[-0.26070136]\n",
            " [ 0.93728655]\n",
            " [-0.85969532]\n",
            " [-0.56019834]\n",
            " [-0.26070136]]\n"
          ]
        }
      ],
      "source": [
        "# Put here all the preprocessings\n",
        "print(\"Encoding categorical features and standardizing numerical features...\")\n",
        "\n",
        "featureencoder = StandardScaler()\n",
        "X_train = featureencoder.fit_transform(X_train)\n",
        "print(\"...Done\")\n",
        "print(X_train[0:5,:])"
      ]
    },
    {
      "cell_type": "code",
      "execution_count": null,
      "metadata": {
        "colab": {
          "base_uri": "https://localhost:8080/",
          "height": 104
        },
        "id": "1qhidLbq7o-5",
        "outputId": "6bfb746c-1ff4-41c9-b0d6-a98fd09a444d"
      },
      "outputs": [
        {
          "name": "stdout",
          "output_type": "stream",
          "text": [
            "Train model...\n",
            "...Done.\n"
          ]
        }
      ],
      "source": [
        "# Train model\n",
        "print(\"Train model...\")\n",
        "classifier = LogisticRegression() #\n",
        "classifier.fit(X_train, Y_train)\n",
        "print(\"...Done.\")"
      ]
    },
    {
      "cell_type": "code",
      "execution_count": null,
      "metadata": {
        "colab": {
          "base_uri": "https://localhost:8080/",
          "height": 84
        },
        "id": "Au2TK_vw7rD-",
        "outputId": "702789a8-4631-4c29-f297-e4b2901f3195"
      },
      "outputs": [
        {
          "name": "stdout",
          "output_type": "stream",
          "text": [
            "Predictions on training set...\n",
            "...Done.\n",
            "[0 0 0 ... 0 0 0]\n",
            "\n"
          ]
        }
      ],
      "source": [
        "# Predictions on training set\n",
        "print(\"Predictions on training set...\")\n",
        "Y_train_pred = classifier.predict(X_train)\n",
        "print(\"...Done.\")\n",
        "print(Y_train_pred)\n",
        "print()"
      ]
    },
    {
      "cell_type": "markdown",
      "metadata": {
        "id": "7TY_v9uH_CE7"
      },
      "source": [
        "## Test pipeline"
      ]
    },
    {
      "cell_type": "code",
      "execution_count": null,
      "metadata": {
        "colab": {
          "base_uri": "https://localhost:8080/",
          "height": 134
        },
        "id": "ngOSdG6-_Cvb",
        "outputId": "1e19e8ee-222f-413b-9bc0-e9f41dcca1c0"
      },
      "outputs": [
        {
          "name": "stdout",
          "output_type": "stream",
          "text": [
            "Encoding categorical features and standardizing numerical features...\n",
            "...Done\n",
            "[[ 0.63778957]\n",
            " [ 0.03879562]\n",
            " [-0.26070136]\n",
            " [-0.26070136]\n",
            " [ 0.63778957]]\n"
          ]
        }
      ],
      "source": [
        "# Use X_test, and the same preprocessings as in training pipeline,\n",
        "# but call \"transform()\" instead of \"fit_transform\" methods (see example below)\n",
        "\n",
        "print(\"Encoding categorical features and standardizing numerical features...\")\n",
        "\n",
        "X_test = featureencoder.transform(X_test)\n",
        "print(\"...Done\")\n",
        "print(X_test[0:5,:])"
      ]
    },
    {
      "cell_type": "code",
      "execution_count": null,
      "metadata": {
        "colab": {
          "base_uri": "https://localhost:8080/",
          "height": 84
        },
        "id": "QS1XrzzE_jQI",
        "outputId": "866a96d2-4180-4bd1-ce54-ba052e75d485"
      },
      "outputs": [
        {
          "name": "stdout",
          "output_type": "stream",
          "text": [
            "Predictions on test set...\n",
            "...Done.\n",
            "[0 0 0 ... 0 0 0]\n",
            "\n"
          ]
        }
      ],
      "source": [
        "# Predictions on test set\n",
        "print(\"Predictions on test set...\")\n",
        "Y_test_pred = classifier.predict(X_test)\n",
        "print(\"...Done.\")\n",
        "print(Y_test_pred)\n",
        "print()"
      ]
    },
    {
      "cell_type": "markdown",
      "metadata": {
        "id": "zxJCTlz0_2it"
      },
      "source": [
        "## Performance assessment"
      ]
    },
    {
      "cell_type": "code",
      "execution_count": null,
      "metadata": {
        "colab": {
          "base_uri": "https://localhost:8080/",
          "height": 50
        },
        "id": "6x7p1nyr_3UV",
        "outputId": "8e5b91ba-ca06-4486-d808-37a6aaaa8cf7"
      },
      "outputs": [
        {
          "name": "stdout",
          "output_type": "stream",
          "text": [
            "f1-score on train set :  0.6938517686692869\n",
            "f1-score on test set :  0.7060240963855422\n"
          ]
        }
      ],
      "source": [
        "# WARNING : Use the same score as the one that will be used by Kaggle !\n",
        "# Here, the f1-score will be used to assess the performances on the leaderboard\n",
        "print(\"f1-score on train set : \", f1_score(Y_train, Y_train_pred))\n",
        "print(\"f1-score on test set : \", f1_score(Y_test, Y_test_pred))"
      ]
    },
    {
      "cell_type": "code",
      "execution_count": null,
      "metadata": {
        "colab": {
          "base_uri": "https://localhost:8080/",
          "height": 151
        },
        "id": "KhDTCeBy__JK",
        "outputId": "72c82d66-d765-437e-e9ef-4ccc80e7183f"
      },
      "outputs": [
        {
          "name": "stdout",
          "output_type": "stream",
          "text": [
            "Confusion matrix on train set : \n",
            "[[246817   1082]\n",
            " [  3280   4943]]\n",
            "\n",
            "Confusion matrix on test set : \n",
            "[[27384   117]\n",
            " [  371   586]]\n",
            "\n"
          ]
        }
      ],
      "source": [
        "# You can also check more performance metrics to better understand what your model is doing\n",
        "print(\"Confusion matrix on train set : \")\n",
        "print(confusion_matrix(Y_train, Y_train_pred))\n",
        "print()\n",
        "print(\"Confusion matrix on test set : \")\n",
        "print(confusion_matrix(Y_test, Y_test_pred))\n",
        "print()"
      ]
    },
    {
      "cell_type": "markdown",
      "metadata": {
        "id": "gBxtRSg6vj0F"
      },
      "source": [
        "**Our baseline model reaches a f1-score of almost 70%. Now, feel free to refine your model and try to beat this score ! 🚀🚀**"
      ]
    },
    {
      "cell_type": "markdown",
      "metadata": {
        "id": "6tVVDRABv91O"
      },
      "source": [
        "# Train best classifier on all data and use it to make predictions on X_without_labels\n",
        "**Before making predictions on the file conversion_data_test.csv, let's train our model on ALL the data that was in conversion_data_train.csv. Sometimes, this allows to make tiny improvements in the score because we're using more examples to train the model.**"
      ]
    },
    {
      "cell_type": "code",
      "execution_count": null,
      "metadata": {
        "colab": {
          "base_uri": "https://localhost:8080/",
          "height": 154
        },
        "id": "M14RHUadzE2p",
        "outputId": "abcfcfec-9461-4579-adbd-f23270f984eb"
      },
      "outputs": [
        {
          "data": {
            "text/html": [
              "<style>#sk-container-id-10 {\n",
              "  /* Definition of color scheme common for light and dark mode */\n",
              "  --sklearn-color-text: black;\n",
              "  --sklearn-color-line: gray;\n",
              "  /* Definition of color scheme for unfitted estimators */\n",
              "  --sklearn-color-unfitted-level-0: #fff5e6;\n",
              "  --sklearn-color-unfitted-level-1: #f6e4d2;\n",
              "  --sklearn-color-unfitted-level-2: #ffe0b3;\n",
              "  --sklearn-color-unfitted-level-3: chocolate;\n",
              "  /* Definition of color scheme for fitted estimators */\n",
              "  --sklearn-color-fitted-level-0: #f0f8ff;\n",
              "  --sklearn-color-fitted-level-1: #d4ebff;\n",
              "  --sklearn-color-fitted-level-2: #b3dbfd;\n",
              "  --sklearn-color-fitted-level-3: cornflowerblue;\n",
              "\n",
              "  /* Specific color for light theme */\n",
              "  --sklearn-color-text-on-default-background: var(--sg-text-color, var(--theme-code-foreground, var(--jp-content-font-color1, black)));\n",
              "  --sklearn-color-background: var(--sg-background-color, var(--theme-background, var(--jp-layout-color0, white)));\n",
              "  --sklearn-color-border-box: var(--sg-text-color, var(--theme-code-foreground, var(--jp-content-font-color1, black)));\n",
              "  --sklearn-color-icon: #696969;\n",
              "\n",
              "  @media (prefers-color-scheme: dark) {\n",
              "    /* Redefinition of color scheme for dark theme */\n",
              "    --sklearn-color-text-on-default-background: var(--sg-text-color, var(--theme-code-foreground, var(--jp-content-font-color1, white)));\n",
              "    --sklearn-color-background: var(--sg-background-color, var(--theme-background, var(--jp-layout-color0, #111)));\n",
              "    --sklearn-color-border-box: var(--sg-text-color, var(--theme-code-foreground, var(--jp-content-font-color1, white)));\n",
              "    --sklearn-color-icon: #878787;\n",
              "  }\n",
              "}\n",
              "\n",
              "#sk-container-id-10 {\n",
              "  color: var(--sklearn-color-text);\n",
              "}\n",
              "\n",
              "#sk-container-id-10 pre {\n",
              "  padding: 0;\n",
              "}\n",
              "\n",
              "#sk-container-id-10 input.sk-hidden--visually {\n",
              "  border: 0;\n",
              "  clip: rect(1px 1px 1px 1px);\n",
              "  clip: rect(1px, 1px, 1px, 1px);\n",
              "  height: 1px;\n",
              "  margin: -1px;\n",
              "  overflow: hidden;\n",
              "  padding: 0;\n",
              "  position: absolute;\n",
              "  width: 1px;\n",
              "}\n",
              "\n",
              "#sk-container-id-10 div.sk-dashed-wrapped {\n",
              "  border: 1px dashed var(--sklearn-color-line);\n",
              "  margin: 0 0.4em 0.5em 0.4em;\n",
              "  box-sizing: border-box;\n",
              "  padding-bottom: 0.4em;\n",
              "  background-color: var(--sklearn-color-background);\n",
              "}\n",
              "\n",
              "#sk-container-id-10 div.sk-container {\n",
              "  /* jupyter's `normalize.less` sets `[hidden] { display: none; }`\n",
              "     but bootstrap.min.css set `[hidden] { display: none !important; }`\n",
              "     so we also need the `!important` here to be able to override the\n",
              "     default hidden behavior on the sphinx rendered scikit-learn.org.\n",
              "     See: https://github.com/scikit-learn/scikit-learn/issues/21755 */\n",
              "  display: inline-block !important;\n",
              "  position: relative;\n",
              "}\n",
              "\n",
              "#sk-container-id-10 div.sk-text-repr-fallback {\n",
              "  display: none;\n",
              "}\n",
              "\n",
              "div.sk-parallel-item,\n",
              "div.sk-serial,\n",
              "div.sk-item {\n",
              "  /* draw centered vertical line to link estimators */\n",
              "  background-image: linear-gradient(var(--sklearn-color-text-on-default-background), var(--sklearn-color-text-on-default-background));\n",
              "  background-size: 2px 100%;\n",
              "  background-repeat: no-repeat;\n",
              "  background-position: center center;\n",
              "}\n",
              "\n",
              "/* Parallel-specific style estimator block */\n",
              "\n",
              "#sk-container-id-10 div.sk-parallel-item::after {\n",
              "  content: \"\";\n",
              "  width: 100%;\n",
              "  border-bottom: 2px solid var(--sklearn-color-text-on-default-background);\n",
              "  flex-grow: 1;\n",
              "}\n",
              "\n",
              "#sk-container-id-10 div.sk-parallel {\n",
              "  display: flex;\n",
              "  align-items: stretch;\n",
              "  justify-content: center;\n",
              "  background-color: var(--sklearn-color-background);\n",
              "  position: relative;\n",
              "}\n",
              "\n",
              "#sk-container-id-10 div.sk-parallel-item {\n",
              "  display: flex;\n",
              "  flex-direction: column;\n",
              "}\n",
              "\n",
              "#sk-container-id-10 div.sk-parallel-item:first-child::after {\n",
              "  align-self: flex-end;\n",
              "  width: 50%;\n",
              "}\n",
              "\n",
              "#sk-container-id-10 div.sk-parallel-item:last-child::after {\n",
              "  align-self: flex-start;\n",
              "  width: 50%;\n",
              "}\n",
              "\n",
              "#sk-container-id-10 div.sk-parallel-item:only-child::after {\n",
              "  width: 0;\n",
              "}\n",
              "\n",
              "/* Serial-specific style estimator block */\n",
              "\n",
              "#sk-container-id-10 div.sk-serial {\n",
              "  display: flex;\n",
              "  flex-direction: column;\n",
              "  align-items: center;\n",
              "  background-color: var(--sklearn-color-background);\n",
              "  padding-right: 1em;\n",
              "  padding-left: 1em;\n",
              "}\n",
              "\n",
              "\n",
              "/* Toggleable style: style used for estimator/Pipeline/ColumnTransformer box that is\n",
              "clickable and can be expanded/collapsed.\n",
              "- Pipeline and ColumnTransformer use this feature and define the default style\n",
              "- Estimators will overwrite some part of the style using the `sk-estimator` class\n",
              "*/\n",
              "\n",
              "/* Pipeline and ColumnTransformer style (default) */\n",
              "\n",
              "#sk-container-id-10 div.sk-toggleable {\n",
              "  /* Default theme specific background. It is overwritten whether we have a\n",
              "  specific estimator or a Pipeline/ColumnTransformer */\n",
              "  background-color: var(--sklearn-color-background);\n",
              "}\n",
              "\n",
              "/* Toggleable label */\n",
              "#sk-container-id-10 label.sk-toggleable__label {\n",
              "  cursor: pointer;\n",
              "  display: block;\n",
              "  width: 100%;\n",
              "  margin-bottom: 0;\n",
              "  padding: 0.5em;\n",
              "  box-sizing: border-box;\n",
              "  text-align: center;\n",
              "}\n",
              "\n",
              "#sk-container-id-10 label.sk-toggleable__label-arrow:before {\n",
              "  /* Arrow on the left of the label */\n",
              "  content: \"▸\";\n",
              "  float: left;\n",
              "  margin-right: 0.25em;\n",
              "  color: var(--sklearn-color-icon);\n",
              "}\n",
              "\n",
              "#sk-container-id-10 label.sk-toggleable__label-arrow:hover:before {\n",
              "  color: var(--sklearn-color-text);\n",
              "}\n",
              "\n",
              "/* Toggleable content - dropdown */\n",
              "\n",
              "#sk-container-id-10 div.sk-toggleable__content {\n",
              "  max-height: 0;\n",
              "  max-width: 0;\n",
              "  overflow: hidden;\n",
              "  text-align: left;\n",
              "  /* unfitted */\n",
              "  background-color: var(--sklearn-color-unfitted-level-0);\n",
              "}\n",
              "\n",
              "#sk-container-id-10 div.sk-toggleable__content.fitted {\n",
              "  /* fitted */\n",
              "  background-color: var(--sklearn-color-fitted-level-0);\n",
              "}\n",
              "\n",
              "#sk-container-id-10 div.sk-toggleable__content pre {\n",
              "  margin: 0.2em;\n",
              "  border-radius: 0.25em;\n",
              "  color: var(--sklearn-color-text);\n",
              "  /* unfitted */\n",
              "  background-color: var(--sklearn-color-unfitted-level-0);\n",
              "}\n",
              "\n",
              "#sk-container-id-10 div.sk-toggleable__content.fitted pre {\n",
              "  /* unfitted */\n",
              "  background-color: var(--sklearn-color-fitted-level-0);\n",
              "}\n",
              "\n",
              "#sk-container-id-10 input.sk-toggleable__control:checked~div.sk-toggleable__content {\n",
              "  /* Expand drop-down */\n",
              "  max-height: 200px;\n",
              "  max-width: 100%;\n",
              "  overflow: auto;\n",
              "}\n",
              "\n",
              "#sk-container-id-10 input.sk-toggleable__control:checked~label.sk-toggleable__label-arrow:before {\n",
              "  content: \"▾\";\n",
              "}\n",
              "\n",
              "/* Pipeline/ColumnTransformer-specific style */\n",
              "\n",
              "#sk-container-id-10 div.sk-label input.sk-toggleable__control:checked~label.sk-toggleable__label {\n",
              "  color: var(--sklearn-color-text);\n",
              "  background-color: var(--sklearn-color-unfitted-level-2);\n",
              "}\n",
              "\n",
              "#sk-container-id-10 div.sk-label.fitted input.sk-toggleable__control:checked~label.sk-toggleable__label {\n",
              "  background-color: var(--sklearn-color-fitted-level-2);\n",
              "}\n",
              "\n",
              "/* Estimator-specific style */\n",
              "\n",
              "/* Colorize estimator box */\n",
              "#sk-container-id-10 div.sk-estimator input.sk-toggleable__control:checked~label.sk-toggleable__label {\n",
              "  /* unfitted */\n",
              "  background-color: var(--sklearn-color-unfitted-level-2);\n",
              "}\n",
              "\n",
              "#sk-container-id-10 div.sk-estimator.fitted input.sk-toggleable__control:checked~label.sk-toggleable__label {\n",
              "  /* fitted */\n",
              "  background-color: var(--sklearn-color-fitted-level-2);\n",
              "}\n",
              "\n",
              "#sk-container-id-10 div.sk-label label.sk-toggleable__label,\n",
              "#sk-container-id-10 div.sk-label label {\n",
              "  /* The background is the default theme color */\n",
              "  color: var(--sklearn-color-text-on-default-background);\n",
              "}\n",
              "\n",
              "/* On hover, darken the color of the background */\n",
              "#sk-container-id-10 div.sk-label:hover label.sk-toggleable__label {\n",
              "  color: var(--sklearn-color-text);\n",
              "  background-color: var(--sklearn-color-unfitted-level-2);\n",
              "}\n",
              "\n",
              "/* Label box, darken color on hover, fitted */\n",
              "#sk-container-id-10 div.sk-label.fitted:hover label.sk-toggleable__label.fitted {\n",
              "  color: var(--sklearn-color-text);\n",
              "  background-color: var(--sklearn-color-fitted-level-2);\n",
              "}\n",
              "\n",
              "/* Estimator label */\n",
              "\n",
              "#sk-container-id-10 div.sk-label label {\n",
              "  font-family: monospace;\n",
              "  font-weight: bold;\n",
              "  display: inline-block;\n",
              "  line-height: 1.2em;\n",
              "}\n",
              "\n",
              "#sk-container-id-10 div.sk-label-container {\n",
              "  text-align: center;\n",
              "}\n",
              "\n",
              "/* Estimator-specific */\n",
              "#sk-container-id-10 div.sk-estimator {\n",
              "  font-family: monospace;\n",
              "  border: 1px dotted var(--sklearn-color-border-box);\n",
              "  border-radius: 0.25em;\n",
              "  box-sizing: border-box;\n",
              "  margin-bottom: 0.5em;\n",
              "  /* unfitted */\n",
              "  background-color: var(--sklearn-color-unfitted-level-0);\n",
              "}\n",
              "\n",
              "#sk-container-id-10 div.sk-estimator.fitted {\n",
              "  /* fitted */\n",
              "  background-color: var(--sklearn-color-fitted-level-0);\n",
              "}\n",
              "\n",
              "/* on hover */\n",
              "#sk-container-id-10 div.sk-estimator:hover {\n",
              "  /* unfitted */\n",
              "  background-color: var(--sklearn-color-unfitted-level-2);\n",
              "}\n",
              "\n",
              "#sk-container-id-10 div.sk-estimator.fitted:hover {\n",
              "  /* fitted */\n",
              "  background-color: var(--sklearn-color-fitted-level-2);\n",
              "}\n",
              "\n",
              "/* Specification for estimator info (e.g. \"i\" and \"?\") */\n",
              "\n",
              "/* Common style for \"i\" and \"?\" */\n",
              "\n",
              ".sk-estimator-doc-link,\n",
              "a:link.sk-estimator-doc-link,\n",
              "a:visited.sk-estimator-doc-link {\n",
              "  float: right;\n",
              "  font-size: smaller;\n",
              "  line-height: 1em;\n",
              "  font-family: monospace;\n",
              "  background-color: var(--sklearn-color-background);\n",
              "  border-radius: 1em;\n",
              "  height: 1em;\n",
              "  width: 1em;\n",
              "  text-decoration: none !important;\n",
              "  margin-left: 1ex;\n",
              "  /* unfitted */\n",
              "  border: var(--sklearn-color-unfitted-level-1) 1pt solid;\n",
              "  color: var(--sklearn-color-unfitted-level-1);\n",
              "}\n",
              "\n",
              ".sk-estimator-doc-link.fitted,\n",
              "a:link.sk-estimator-doc-link.fitted,\n",
              "a:visited.sk-estimator-doc-link.fitted {\n",
              "  /* fitted */\n",
              "  border: var(--sklearn-color-fitted-level-1) 1pt solid;\n",
              "  color: var(--sklearn-color-fitted-level-1);\n",
              "}\n",
              "\n",
              "/* On hover */\n",
              "div.sk-estimator:hover .sk-estimator-doc-link:hover,\n",
              ".sk-estimator-doc-link:hover,\n",
              "div.sk-label-container:hover .sk-estimator-doc-link:hover,\n",
              ".sk-estimator-doc-link:hover {\n",
              "  /* unfitted */\n",
              "  background-color: var(--sklearn-color-unfitted-level-3);\n",
              "  color: var(--sklearn-color-background);\n",
              "  text-decoration: none;\n",
              "}\n",
              "\n",
              "div.sk-estimator.fitted:hover .sk-estimator-doc-link.fitted:hover,\n",
              ".sk-estimator-doc-link.fitted:hover,\n",
              "div.sk-label-container:hover .sk-estimator-doc-link.fitted:hover,\n",
              ".sk-estimator-doc-link.fitted:hover {\n",
              "  /* fitted */\n",
              "  background-color: var(--sklearn-color-fitted-level-3);\n",
              "  color: var(--sklearn-color-background);\n",
              "  text-decoration: none;\n",
              "}\n",
              "\n",
              "/* Span, style for the box shown on hovering the info icon */\n",
              ".sk-estimator-doc-link span {\n",
              "  display: none;\n",
              "  z-index: 9999;\n",
              "  position: relative;\n",
              "  font-weight: normal;\n",
              "  right: .2ex;\n",
              "  padding: .5ex;\n",
              "  margin: .5ex;\n",
              "  width: min-content;\n",
              "  min-width: 20ex;\n",
              "  max-width: 50ex;\n",
              "  color: var(--sklearn-color-text);\n",
              "  box-shadow: 2pt 2pt 4pt #999;\n",
              "  /* unfitted */\n",
              "  background: var(--sklearn-color-unfitted-level-0);\n",
              "  border: .5pt solid var(--sklearn-color-unfitted-level-3);\n",
              "}\n",
              "\n",
              ".sk-estimator-doc-link.fitted span {\n",
              "  /* fitted */\n",
              "  background: var(--sklearn-color-fitted-level-0);\n",
              "  border: var(--sklearn-color-fitted-level-3);\n",
              "}\n",
              "\n",
              ".sk-estimator-doc-link:hover span {\n",
              "  display: block;\n",
              "}\n",
              "\n",
              "/* \"?\"-specific style due to the `<a>` HTML tag */\n",
              "\n",
              "#sk-container-id-10 a.estimator_doc_link {\n",
              "  float: right;\n",
              "  font-size: 1rem;\n",
              "  line-height: 1em;\n",
              "  font-family: monospace;\n",
              "  background-color: var(--sklearn-color-background);\n",
              "  border-radius: 1rem;\n",
              "  height: 1rem;\n",
              "  width: 1rem;\n",
              "  text-decoration: none;\n",
              "  /* unfitted */\n",
              "  color: var(--sklearn-color-unfitted-level-1);\n",
              "  border: var(--sklearn-color-unfitted-level-1) 1pt solid;\n",
              "}\n",
              "\n",
              "#sk-container-id-10 a.estimator_doc_link.fitted {\n",
              "  /* fitted */\n",
              "  border: var(--sklearn-color-fitted-level-1) 1pt solid;\n",
              "  color: var(--sklearn-color-fitted-level-1);\n",
              "}\n",
              "\n",
              "/* On hover */\n",
              "#sk-container-id-10 a.estimator_doc_link:hover {\n",
              "  /* unfitted */\n",
              "  background-color: var(--sklearn-color-unfitted-level-3);\n",
              "  color: var(--sklearn-color-background);\n",
              "  text-decoration: none;\n",
              "}\n",
              "\n",
              "#sk-container-id-10 a.estimator_doc_link.fitted:hover {\n",
              "  /* fitted */\n",
              "  background-color: var(--sklearn-color-fitted-level-3);\n",
              "}\n",
              "</style><div id=\"sk-container-id-10\" class=\"sk-top-container\"><div class=\"sk-text-repr-fallback\"><pre>LogisticRegression()</pre><b>In a Jupyter environment, please rerun this cell to show the HTML representation or trust the notebook. <br />On GitHub, the HTML representation is unable to render, please try loading this page with nbviewer.org.</b></div><div class=\"sk-container\" hidden><div class=\"sk-item\"><div class=\"sk-estimator fitted sk-toggleable\"><input class=\"sk-toggleable__control sk-hidden--visually\" id=\"sk-estimator-id-10\" type=\"checkbox\" checked><label for=\"sk-estimator-id-10\" class=\"sk-toggleable__label fitted sk-toggleable__label-arrow fitted\">&nbsp;&nbsp;LogisticRegression<a class=\"sk-estimator-doc-link fitted\" rel=\"noreferrer\" target=\"_blank\" href=\"https://scikit-learn.org/1.4/modules/generated/sklearn.linear_model.LogisticRegression.html\">?<span>Documentation for LogisticRegression</span></a><span class=\"sk-estimator-doc-link fitted\">i<span>Fitted</span></span></label><div class=\"sk-toggleable__content fitted\"><pre>LogisticRegression()</pre></div> </div></div></div></div>"
            ],
            "text/plain": [
              "LogisticRegression()"
            ]
          },
          "execution_count": 177,
          "metadata": {},
          "output_type": "execute_result"
        }
      ],
      "source": [
        "# Concatenate our train and test set to train your best classifier on all data with labels\n",
        "X = np.append(X_train,X_test,axis=0)\n",
        "Y = np.append(Y_train,Y_test)\n",
        "\n",
        "classifier.fit(X,Y)"
      ]
    },
    {
      "cell_type": "code",
      "execution_count": null,
      "metadata": {
        "colab": {
          "base_uri": "https://localhost:8080/",
          "height": 151
        },
        "id": "Tr4CEaPzzbP-",
        "outputId": "f0d1c8ed-be4b-4974-d7b9-f23a49344d9d"
      },
      "outputs": [
        {
          "name": "stdout",
          "output_type": "stream",
          "text": [
            "Prediction set (without labels) : (31620, 5)\n",
            "Convert pandas DataFrames to arrays...\n",
            "...Done\n",
            "[[16]\n",
            " [ 5]\n",
            " [ 1]\n",
            " [ 6]\n",
            " [ 3]]\n"
          ]
        }
      ],
      "source": [
        "# Read data without labels\n",
        "data_without_labels = pd.read_csv('conversion_data_test.csv')\n",
        "print('Prediction set (without labels) :', data_without_labels.shape)\n",
        "\n",
        "# Warning : check consistency of features_list (must be the same than the features\n",
        "# used by your best classifier)\n",
        "features_list = ['total_pages_visited']\n",
        "X_without_labels = data_without_labels.loc[:, features_list]\n",
        "\n",
        "# Convert pandas DataFrames to arrays before using scikit-learn\n",
        "print(\"Convert pandas DataFrames to arrays...\")\n",
        "X_without_labels = X_without_labels.values\n",
        "print(\"...Done\")\n",
        "\n",
        "print(X_without_labels[0:5,:])"
      ]
    },
    {
      "cell_type": "code",
      "execution_count": null,
      "metadata": {
        "colab": {
          "base_uri": "https://localhost:8080/",
          "height": 134
        },
        "id": "LoUISfsT0HMR",
        "outputId": "e42dc389-5e77-4e13-ccbc-1fef4aa2c0ca"
      },
      "outputs": [
        {
          "name": "stdout",
          "output_type": "stream",
          "text": [
            "Encoding categorical features and standardizing numerical features...\n",
            "...Done\n",
            "[[ 3.33326238]\n",
            " [ 0.03879562]\n",
            " [-1.15919229]\n",
            " [ 0.3382926 ]\n",
            " [-0.56019834]]\n"
          ]
        }
      ],
      "source": [
        "# WARNING : PUT HERE THE SAME PREPROCESSING AS FOR YOUR TEST SET\n",
        "# CHECK YOU ARE USING X_without_labels\n",
        "print(\"Encoding categorical features and standardizing numerical features...\")\n",
        "\n",
        "X_without_labels = featureencoder.transform(X_without_labels)\n",
        "print(\"...Done\")\n",
        "print(X_without_labels[0:5,:])"
      ]
    },
    {
      "cell_type": "code",
      "execution_count": null,
      "metadata": {
        "id": "7DuWSEHuwEQJ"
      },
      "outputs": [],
      "source": [
        "# Make predictions and dump to file\n",
        "# WARNING : MAKE SURE THE FILE IS A CSV WITH ONE COLUMN NAMED 'converted' AND NO INDEX !\n",
        "# WARNING : FILE NAME MUST HAVE FORMAT 'conversion_data_test_predictions_[name].csv'\n",
        "# where [name] is the name of your team/model separated by a '-'\n",
        "# For example : [name] = AURELIE-model1\n",
        "data = {\n",
        "    'converted': classifier.predict(X_without_labels)\n",
        "}\n",
        "\n",
        "Y_predictions = pd.DataFrame(columns=['converted'],data=data)\n",
        "Y_predictions.to_csv('conversion_data_test_predictions_EXAMPLE.csv', index=False)\n"
      ]
    },
    {
      "cell_type": "markdown",
      "metadata": {
        "id": "XGcTkLW2vj0J"
      },
      "source": [
        "## Analyzing the coefficients and interpreting the result\n",
        "**In this template, we just trained a model with only one feature (total_pages_visited), so there's no analysis to be done about the feature importance 🤔**\n",
        "\n",
        "**Once you've included more features in your model, please take some time to analyze the model's parameters and try to find some lever for action to improve the newsletter's conversion rate 😎😎**"
      ]
    }
  ],
  "metadata": {
    "colab": {
      "provenance": []
    },
    "kernelspec": {
      "display_name": "Python 3",
      "language": "python",
      "name": "python3"
    },
    "language_info": {
      "codemirror_mode": {
        "name": "ipython",
        "version": 3
      },
      "file_extension": ".py",
      "mimetype": "text/x-python",
      "name": "python",
      "nbconvert_exporter": "python",
      "pygments_lexer": "ipython3",
      "version": "3.11.5"
    }
  },
  "nbformat": 4,
  "nbformat_minor": 0
}